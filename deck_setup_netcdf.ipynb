{
 "cells": [
  {
   "cell_type": "code",
   "execution_count": null,
   "id": "213aa934-414c-4985-8e98-6cccafbe8a7a",
   "metadata": {},
   "outputs": [],
   "source": [
    "import csv\n",
    "import numpy as np\n",
    "import utils_deck_generation as idg\n",
    "import healpy_pointings as hpoint\n",
    "import netcdf_read_write as nrw"
   ]
  },
  {
   "cell_type": "code",
   "execution_count": null,
   "id": "003b0786-34fb-4dcd-9df2-f351016e6ed3",
   "metadata": {},
   "outputs": [],
   "source": [
    "imap_nside = 256\n",
    "imap_npix = imap_nside**2 * 12\n",
    "\n",
    "# pointings\n",
    "filename_pointing = \"pointing_index_\"\n",
    "surface_cover_radians = np.radians(20.0)\n",
    "pointing_nside = 3\n",
    "\n",
    "# defocus\n",
    "filename_defocus = \"defocus_index_\"\n",
    "defocus_range = 10.0 # mm\n",
    "num_defocus = 3\n",
    "\n",
    "#power\n",
    "power_range = 1.0 # fraction of full power\n",
    "num_powers = 1\n",
    "\n",
    "run_sims = True\n",
    "run_compression = True\n",
    "run_type = \"nif\" # \"test\"\n",
    "num_quads = 24\n",
    "\n",
    "figure_location = \"plots\""
   ]
  },
  {
   "cell_type": "markdown",
   "id": "feead195-74fb-4966-beab-db5bac3f1922",
   "metadata": {
    "tags": []
   },
   "source": [
    "## Import NIF: Beam, Quad and Cone data"
   ]
  },
  {
   "cell_type": "code",
   "execution_count": null,
   "id": "417bcff3-d665-49a5-ae9a-4962eb602d91",
   "metadata": {},
   "outputs": [],
   "source": [
    "the_data = dict()\n",
    "\n",
    "the_data['nbeams'] = 4\n",
    "the_data['target_radius'] = 1100.0\n",
    "the_data['facility'] = \"NIF\"\n",
    "the_data['nbeams_total'] = 192"
   ]
  },
  {
   "cell_type": "code",
   "execution_count": null,
   "id": "0977cb14-d8ed-4b82-bfa5-702e20c91806",
   "metadata": {},
   "outputs": [],
   "source": [
    "filename = \"NIF_UpperBeams.txt\"\n",
    "j = -1\n",
    "\n",
    "f=open(filename, \"r\")\n",
    "reader = csv.reader(f, delimiter='\\t')\n",
    "for row in reader:\n",
    "    if j==-1:\n",
    "        key = row\n",
    "        for i in range(len(row)):\n",
    "            the_data[row[i]] = [None] * int(the_data['nbeams_total'])\n",
    "    else:\n",
    "        for i in range(len(row)):\n",
    "            if i < 2:\n",
    "                the_data[key[i]][j] = row[i]\n",
    "            elif i < 5:\n",
    "                the_data[key[i]][j] = float(row[i])\n",
    "            else:\n",
    "                the_data[key[i]][j] = int(row[i])\n",
    "    j=j+1\n",
    "f.close()\n",
    "filename = \"NIF_LowerBeams.txt\"\n",
    "f=open(filename, \"r\")\n",
    "reader = csv.reader(f, delimiter='\\t')\n",
    "for row in reader:\n",
    "    if j>96:\n",
    "        for i in range(len(row)):\n",
    "            if i < 2:\n",
    "                the_data[key[i]][j-1] = row[i]\n",
    "            elif i < 5:\n",
    "                the_data[key[i]][j-1] = float(row[i])\n",
    "            else:\n",
    "                the_data[key[i]][j-1] = int(row[i])\n",
    "    j=j+1\n",
    "f.close()\n",
    "\n",
    "the_data[\"Theta\"] = np.radians(the_data[\"Theta\"])\n",
    "the_data[\"Phi\"] = np.radians(the_data[\"Phi\"])"
   ]
  },
  {
   "cell_type": "code",
   "execution_count": null,
   "id": "29f29313-8bd0-477d-b328-bd8b0a376894",
   "metadata": {},
   "outputs": [],
   "source": [
    "quad_from_each_cone = ('Q15T', 'Q13T', 'Q14T', 'Q11T')"
   ]
  },
  {
   "cell_type": "markdown",
   "id": "795ea66a-10e6-4c15-93c9-c81a99540121",
   "metadata": {
    "jp-MarkdownHeadingCollapsed": true,
    "tags": []
   },
   "source": [
    "## Run Quad and Rotate to form Cone"
   ]
  },
  {
   "cell_type": "code",
   "execution_count": null,
   "id": "5d515497-55be-4668-92f6-8522eec50492",
   "metadata": {},
   "outputs": [],
   "source": [
    "the_data[\"p0\"] = [1./4.] * the_data[\"nbeams\"]\n",
    "the_data[\"fuse\"] = [False] * the_data[\"nbeams\"]\n",
    "\n",
    "defocus_array = np.linspace(0.0, defocus_range, num_defocus)\n",
    "\n",
    "for quad_name in quad_from_each_cone:\n",
    "    quad_slice = slice(the_data[\"Quad\"].index(quad_name),the_data[\"Quad\"].index(quad_name)+4)\n",
    "    beam_names = the_data['Beam'][quad_slice]\n",
    "\n",
    "    ## Create Healpy grid of pointings\n",
    "    x, y, z, theta_offset = hpoint.theta_pointing_rotations(the_data, quad_slice, pointing_nside, surface_cover_radians)\n",
    "    r = np.sqrt(x**2 + y**2 + z**2)\n",
    "    pointing_theta = np.arccos(z/r)\n",
    "    pointing_phi = np.arctan2(y,x)\n",
    "    \n",
    "    for dind in range(len(defocus_array)):\n",
    "        the_data[\"defocus\"] = [defocus_array[dind]] * the_data[\"nbeams\"]\n",
    "        for pind in range(len(theta_offset)):\n",
    "            ## pointing data\n",
    "            pointings=dict()\n",
    "            for __name in beam_names:\n",
    "                __x = float(x[pind])\n",
    "                __y = float(y[pind])\n",
    "                __z = float(z[pind])\n",
    "                pointings[__name]=np.array((__x,__y,__z))\n",
    "            the_data['pointings'] = []\n",
    "            for beam in beam_names:\n",
    "                for key, value in pointings.items():\n",
    "                    if (key == beam):\n",
    "                        the_data['pointings'].append(np.asarray(value))\n",
    "\n",
    "            run_location = filename_pointing + str(pind) + \"_\" + filename_defocus + str(dind)\n",
    "            idg.generate_input_deck(the_data, run_location)\n",
    "            idg.generate_input_pointing_and_pulses(the_data, run_location, quad_slice, run_type)\n",
    "\n",
    "            if run_sims:\n",
    "                b='Running ifriit in: '+run_location+\"  \"\n",
    "                print(\"\\r\", b, end=\"\")\n",
    "                !cd $run_location;chmod +x main;mpirun -np 1 ./main > a.out\n",
    "\n",
    "            ## Compression of cone\n",
    "            if run_compression:\n",
    "                hpxmap, n_beams = nrw.read_intensity(run_location, run_type, beam_names, imap_nside)\n",
    "                nrw.rotate_cone_and_save(the_data, quad_name, hpxmap, imap_nside, pointing_theta[pind], pointing_phi[pind], run_location)"
   ]
  },
  {
   "cell_type": "markdown",
   "id": "1638f51b-5ee7-41e1-b4e6-709e6d6a8353",
   "metadata": {
    "jp-MarkdownHeadingCollapsed": true,
    "tags": []
   },
   "source": [
    "## Diagnostic"
   ]
  },
  {
   "cell_type": "code",
   "execution_count": null,
   "id": "c815b9a9-0b10-4ab1-b8c9-a5883639828a",
   "metadata": {},
   "outputs": [],
   "source": [
    "import matplotlib.pyplot as plt\n",
    "import healpy as hp\n",
    "import netcdf_read_write as nrw"
   ]
  },
  {
   "cell_type": "code",
   "execution_count": null,
   "id": "257f48cf-98dd-47d2-9ff4-85ac31888714",
   "metadata": {},
   "outputs": [],
   "source": [
    "pind = 2\n",
    "dind = 0\n",
    "run_location = filename_pointing + str(pind) + \"_\" + filename_defocus + str(dind)\n",
    "\n",
    "quad_name = 'Q15T'\n",
    "quad_slice = slice(the_data[\"Quad\"].index(quad_name),the_data[\"Quad\"].index(quad_name)+4)\n",
    "beam_names = the_data['Beam'][quad_slice]\n",
    "\n",
    "hpxmap, n_beams = nrw.read_intensity(run_location, run_type, beam_names, imap_nside)\n",
    "\n",
    "r = the_data['target_radius'] / 1.0e4 # microns to cm\n",
    "total_TW = np.mean(hpxmap)*10**(-12)\n",
    "surface_area = 4.0*np.pi*r**2\n",
    "\n",
    "#rms\n",
    "avg_power = np.mean(hpxmap)\n",
    "hpxmap_rms = 100.0 * np.sqrt(np.mean((hpxmap / avg_power - 1.0)**2))\n",
    "hpxmap_rms_spatial = 100.0 * np.sqrt((hpxmap / avg_power - 1.0)**2)\n",
    "\n",
    "print('')\n",
    "print('The total power deposited is ', total_TW*surface_area, 'TW')\n",
    "print('The power per beam deposited is ', total_TW*surface_area/n_beams, 'TW')\n",
    "print('This is a drive efficiency of ', total_TW*surface_area/(n_beams*0.25)*100, '%')\n",
    "print('Number of beams is ', n_beams)\n",
    "#print('RMS is ', hpxmap_rms, '%')\n",
    "print('')\n",
    "\n",
    "hp.mollview(hpxmap,unit=r\"$\\rm{W/cm^2}$\",flip=\"geo\")\n",
    "hp.graticule()\n",
    "\n",
    "port_theta = np.mean(the_data['Theta'][quad_slice])\n",
    "port_phi = np.mean(the_data['Phi'][quad_slice])\n",
    "hp.projscatter(port_theta, port_phi)\n",
    "quad_pointing_theta = port_theta + theta_offset[pind]\n",
    "quad_pointing_phi = port_phi\n",
    "hp.projscatter(quad_pointing_theta, quad_pointing_phi)"
   ]
  },
  {
   "cell_type": "markdown",
   "id": "bb6234b1-0b0e-4699-aed8-a4b63c49441b",
   "metadata": {
    "jp-MarkdownHeadingCollapsed": true,
    "tags": []
   },
   "source": [
    "## Check cone compression"
   ]
  },
  {
   "cell_type": "code",
   "execution_count": null,
   "id": "2b791041-4a02-4b3b-8625-4930330f3a08",
   "metadata": {},
   "outputs": [],
   "source": [
    "from netCDF4 import Dataset\n",
    "import numpy as np\n",
    "import healpy as hp\n",
    "import matplotlib.pyplot as plt"
   ]
  },
  {
   "cell_type": "code",
   "execution_count": null,
   "id": "43294a8e-7095-4380-a733-c4b6f04f38ec",
   "metadata": {},
   "outputs": [],
   "source": [
    "pointing_per_cone = [0,0,0,0]\n",
    "defocus_per_cone = [0,0,0,0]\n",
    "power_per_cone = [0,0,0,0]\n",
    "\n",
    "Y_train = np.hstack((np.array(pointing_per_cone)/pointing_nside, np.array(defocus_per_cone)/num_defocus))\n",
    "Y_train = np.hstack((Y_train, np.array(power_per_cone)/num_powers))\n",
    "Y_norms = [pointing_nside, num_defocus, num_powers]\n",
    "intensity_map, port_loc, quad_pointing = nrw.assemble_full_sphere(Y_train, Y_norms, the_data, num_quads, quad_from_each_cone, filename_pointing, filename_defocus, power_range)\n",
    "\n",
    "hp.mollview(intensity_map, unit=r\"$\\rm{W/cm^2}$\", flip=\"geo\")\n",
    "hp.graticule()\n",
    "\n",
    "hp.projscatter(port_loc[0,:], port_loc[1,:])\n",
    "hp.projscatter(quad_pointing[0,:], quad_pointing[1,:])\n",
    "\n",
    "#quad_name = \"Q45B\"\n",
    "#quad_slice = slice(the_data[\"Quad\"].index(quad_name),the_data[\"Quad\"].index(quad_name)+4)\n",
    "#bottom_portloc_theta = np.mean(the_data['Theta'][quad_slice])\n",
    "#bottom_portloc_phi = np.mean(the_data['Phi'][quad_slice])\n",
    "#hp.projscatter(bottom_portloc_theta, bottom_portloc_phi)\n",
    "plt.savefig(figure_location+'/intensity_mollweide.png', dpi=300, bbox_inches='tight')"
   ]
  },
  {
   "cell_type": "markdown",
   "id": "ec81af45-5957-4e1c-9428-d15f800e680d",
   "metadata": {
    "jp-MarkdownHeadingCollapsed": true,
    "tags": []
   },
   "source": [
    "## Incident fraction, RMS and modes"
   ]
  },
  {
   "cell_type": "code",
   "execution_count": null,
   "id": "cd266637-26ef-471e-a90f-319b71762040",
   "metadata": {},
   "outputs": [],
   "source": [
    "import utils_intensity_map as uim"
   ]
  },
  {
   "cell_type": "code",
   "execution_count": null,
   "id": "59ae723c-a865-4f85-b9cf-700a9579ec2b",
   "metadata": {},
   "outputs": [],
   "source": [
    "intensity_map_rms_spatial = uim.readout_intensity(the_data, intensity_map)\n",
    "\n",
    "hp.mollview(intensity_map_rms_spatial,unit=\"RMS\",flip=\"geo\")\n",
    "plt.savefig(figure_location+'/rms_mollweide.png', dpi=300, bbox_inches='tight')\n",
    "hp.graticule()"
   ]
  },
  {
   "cell_type": "code",
   "execution_count": null,
   "id": "965c23e0-5a36-4d67-babd-62644b2fc54a",
   "metadata": {},
   "outputs": [],
   "source": [
    "LMAX = 100\n",
    "power_spectrum_unweighted, power_spectrum_weighted = uim.power_spectrum(intensity_map, LMAX)\n",
    "x_max = 20\n",
    "\n",
    "fig = plt.figure()\n",
    "ax = plt.axes()\n",
    "plt.plot(np.arange(LMAX), power_spectrum_unweighted * 100.0)\n",
    "ax.set_xticks(range(0,100))\n",
    "plt.xlim([0, x_max])\n",
    "plt.title(\"Unweighted Modes LLE\")\n",
    "plt.xlabel(\"l mode\")\n",
    "plt.ylabel(r\"rms amplitude ($\\%$)\")\n",
    "plt.savefig(figure_location+\"/unweighted_modes.png\", dpi=300, bbox_inches='tight')\n",
    "\n",
    "fig = plt.figure()\n",
    "ax = plt.axes()\n",
    "plt.plot(np.arange(LMAX), power_spectrum_weighted * 100.0)\n",
    "ax.set_xticks(range(0,100))\n",
    "plt.xlim([0, x_max])\n",
    "plt.title(\"Weighted Modes\")\n",
    "plt.xlabel(\"l mode\")\n",
    "plt.ylabel(r\"rms amplitude ($\\%$)\")\n",
    "plt.savefig(figure_location+\"/weighted_modes.png\", dpi=300, bbox_inches='tight')"
   ]
  },
  {
   "cell_type": "code",
   "execution_count": null,
   "id": "1e11a156-5260-446d-ba18-1631a1eae97b",
   "metadata": {},
   "outputs": [],
   "source": []
  }
 ],
 "metadata": {
  "kernelspec": {
   "display_name": "Python 3 (ipykernel)",
   "language": "python",
   "name": "python3"
  },
  "language_info": {
   "codemirror_mode": {
    "name": "ipython",
    "version": 3
   },
   "file_extension": ".py",
   "mimetype": "text/x-python",
   "name": "python",
   "nbconvert_exporter": "python",
   "pygments_lexer": "ipython3",
   "version": "3.9.7"
  }
 },
 "nbformat": 4,
 "nbformat_minor": 5
}
