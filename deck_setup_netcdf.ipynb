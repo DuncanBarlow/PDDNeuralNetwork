{
 "cells": [
  {
   "cell_type": "code",
   "execution_count": null,
   "id": "213aa934-414c-4985-8e98-6cccafbe8a7a",
   "metadata": {},
   "outputs": [],
   "source": [
    "import numpy as np\n",
    "import training_data_generation as tdg\n",
    "num_examples = 10\n",
    "run_dir = \"Data\""
   ]
  },
  {
   "cell_type": "markdown",
   "id": "8a2a3408-6a59-4b28-bf5b-8212f4b7142c",
   "metadata": {
    "tags": []
   },
   "source": [
    "# Generate and Save Training Data"
   ]
  },
  {
   "cell_type": "code",
   "execution_count": null,
   "id": "003b0786-34fb-4dcd-9df2-f351016e6ed3",
   "metadata": {},
   "outputs": [],
   "source": [
    "dataset_params, sys_params, facility_spec = tdg.main((_, run_dir, num_examples))"
   ]
  },
  {
   "cell_type": "markdown",
   "id": "1638f51b-5ee7-41e1-b4e6-709e6d6a8353",
   "metadata": {
    "tags": []
   },
   "source": [
    "# Diagnostic"
   ]
  },
  {
   "cell_type": "code",
   "execution_count": null,
   "id": "c815b9a9-0b10-4ab1-b8c9-a5883639828a",
   "metadata": {},
   "outputs": [],
   "source": [
    "import matplotlib.pyplot as plt\n",
    "import healpy as hp\n",
    "import utils_intensity_map as uim\n",
    "import utils_deck_generation as idg\n",
    "import netcdf_read_write as nrw\n",
    "import training_data_generation as tdg\n",
    "# sys_params[\"run_clean\"] must be false before run for diagnostic"
   ]
  },
  {
   "cell_type": "code",
   "execution_count": null,
   "id": "257f48cf-98dd-47d2-9ff4-85ac31888714",
   "metadata": {},
   "outputs": [],
   "source": [
    "sys_params = tdg.define_system_params(\"Data\")\n",
    "sys_params[\"root_dir\"] = \"Data\"\n",
    "sys_params[\"run_gen_deck\"] = False\n",
    "dataset_params, facility_spec = tdg.define_dataset_params(int(num_examples))\n",
    "dataset_params = idg.create_run_files(dataset_params, sys_params, facility_spec)\n",
    "iex = 0\n",
    "\n",
    "run_location = sys_params[\"root_dir\"] + \"/\" + sys_params[\"sim_dir\"] + str(iex)\n",
    "theta_slice = slice(0,29,4)\n",
    "phi_slice   = slice(1,30,4)\n",
    "power_slice = slice(3,32,4)\n",
    "\n",
    "cone_theta_offset = dataset_params[\"sim_params\"][theta_slice,iex]\n",
    "cone_phi_offset = dataset_params[\"sim_params\"][phi_slice,iex]\n",
    "cone_powers = dataset_params[\"sim_params\"][power_slice,iex]\n",
    "\n",
    "beams_prev = 0\n",
    "beams_tot = 0\n",
    "total_power = 0\n",
    "for icone in range(facility_spec['num_cones']):\n",
    "    beams_per_cone = facility_spec['beams_per_cone'][icone]\n",
    "    beams_tot += beams_per_cone\n",
    "    total_power += cone_powers[icone] * beams_per_cone\n",
    "    beams_prev += beams_per_cone\n",
    "mean_power_fraction = total_power / facility_spec['nbeams']\n",
    "\n",
    "intensity_map = nrw.read_intensity(run_location, dataset_params[\"imap_nside\"])\n",
    "intensity_map_rms_spatial = uim.readout_intensity(facility_spec, intensity_map, mean_power_fraction)\n",
    "\n",
    "hp.mollview(intensity_map,unit=r\"$\\rm{W/cm^2}$\",flip=\"geo\")\n",
    "hp.graticule()\n",
    "port_theta = facility_spec[\"Port_centre_theta\"]\n",
    "port_phi = facility_spec[\"Port_centre_phi\"]\n",
    "hp.projscatter(port_theta, port_phi)\n",
    "hp.projscatter(dataset_params[\"theta_pointings\"][:,iex], dataset_params[\"phi_pointings\"][:,iex])\n",
    "plt.savefig(sys_params[\"figure_location\"]+'/intensity_mollweide.png', dpi=300, bbox_inches='tight')"
   ]
  },
  {
   "cell_type": "code",
   "execution_count": null,
   "id": "59ae723c-a865-4f85-b9cf-700a9579ec2b",
   "metadata": {},
   "outputs": [],
   "source": [
    "hp.mollview(intensity_map_rms_spatial, unit=\"Deviation from mean (%)\",flip=\"geo\")\n",
    "plt.savefig(sys_params[\"figure_location\"]+'/deviation_from_mean_mollweide.png', dpi=300, bbox_inches='tight')\n",
    "hp.graticule()"
   ]
  },
  {
   "cell_type": "code",
   "execution_count": null,
   "id": "965c23e0-5a36-4d67-babd-62644b2fc54a",
   "metadata": {},
   "outputs": [],
   "source": [
    "LMAX = dataset_params[\"LMAX\"]\n",
    "power_spectrum_unweighted, power_spectrum_weighted = uim.power_spectrum(intensity_map, LMAX)\n",
    "x_max = 20\n",
    "\n",
    "fig = plt.figure()\n",
    "ax = plt.axes()\n",
    "plt.plot(np.arange(LMAX), power_spectrum_unweighted * 100.0)\n",
    "ax.set_xticks(range(0, LMAX+1, int(LMAX/5)))\n",
    "plt.xlim([0, x_max])\n",
    "plt.title(\"Unweighted Modes LLE\")\n",
    "plt.xlabel(\"l mode\")\n",
    "plt.ylabel(r\"rms amplitude ($\\%$)\")\n",
    "plt.savefig(sys_params[\"figure_location\"]+\"/unweighted_modes.png\", dpi=300, bbox_inches='tight')\n",
    "\n",
    "fig = plt.figure()\n",
    "ax = plt.axes()\n",
    "plt.plot(np.arange(LMAX), power_spectrum_weighted * 100.0)\n",
    "ax.set_xticks(range(0, LMAX+1, int(LMAX/5)))\n",
    "plt.xlim([0, x_max])\n",
    "plt.title(\"Weighted Modes\")\n",
    "plt.xlabel(\"l mode\")\n",
    "plt.ylabel(r\"rms amplitude ($\\%$)\")\n",
    "plt.savefig(sys_params[\"figure_location\"]+\"/weighted_modes.png\", dpi=300, bbox_inches='tight')"
   ]
  },
  {
   "cell_type": "code",
   "execution_count": null,
   "id": "e5a4c119-b464-4f3a-a528-dd4b8c9155cf",
   "metadata": {},
   "outputs": [],
   "source": [
    "intensity_map_normalized, avg_power = uim.imap_norm(intensity_map)\n",
    "hp.mollview(intensity_map_normalized, unit=\"Deviation from Mean\", flip=\"geo\")\n",
    "\n",
    "X_train = uim.imap2xtrain(intensity_map_normalized, LMAX, avg_power)\n",
    "intensity_map_normalized2 = uim.xtrain2imap(X_train, LMAX, dataset_params[\"imap_nside\"], avg_power)\n",
    "hp.mollview(intensity_map_normalized2, unit=\"Deviation from Mean\",flip=\"geo\")"
   ]
  },
  {
   "cell_type": "markdown",
   "id": "f8364953-8f8f-4b68-9f90-a32ecd5de19c",
   "metadata": {
    "jp-MarkdownHeadingCollapsed": true,
    "tags": []
   },
   "source": [
    "# Combine Datasets"
   ]
  },
  {
   "cell_type": "code",
   "execution_count": null,
   "id": "f3ca18ad-2050-4a3c-9c6c-924a951feb15",
   "metadata": {},
   "outputs": [],
   "source": [
    "from netCDF4 import Dataset\n",
    "from os import path\n",
    "import os\n",
    "import numpy as np"
   ]
  },
  {
   "cell_type": "code",
   "execution_count": null,
   "id": "d7f61a17-aa37-47bc-8e99-3262fdc70b52",
   "metadata": {},
   "outputs": [],
   "source": [
    "dataset1 = \"Data1\"\n",
    "dataset2 = \"Data2\"\n",
    "\n",
    "new_file = \"Data3\"\n",
    "\n",
    "filename_trainingdata = dataset1 + \"/\" + sys_params[\"trainingdata_filename\"] \n",
    "training_data = Dataset(filename_trainingdata)\n",
    "X_1 = training_data.variables[\"X_train\"][:]\n",
    "Y_1 = training_data.variables[\"Y_train\"][:]\n",
    "avg_powers_1 = training_data.variables[\"avg_powers\"][:]\n",
    "training_data.close()\n",
    "\n",
    "filename_trainingdata = dataset2 + \"/\" + sys_params[\"trainingdata_filename\"] \n",
    "training_data = Dataset(filename_trainingdata)\n",
    "X_2 = training_data.variables[\"X_train\"][:]\n",
    "Y_2 = training_data.variables[\"Y_train\"][:]\n",
    "avg_powers_2 = training_data.variables[\"avg_powers\"][:]\n",
    "training_data.close()\n",
    "\n",
    "X_train = np.hstack((X_1, X_2))\n",
    "Y_train = np.hstack((Y_1, Y_2))\n",
    "avg_powers = np.hstack((avg_powers_1, avg_powers_2))\n",
    "print(np.shape(X_train), np.shape(Y_train), np.shape(avg_powers))\n",
    "\n",
    "filename_trainingdata = new_file + \"/\" + sys_params[\"trainingdata_filename\"] \n",
    "nrw.save_training_data(X_train, Y_train, avg_powers, filename_trainingdata)"
   ]
  },
  {
   "cell_type": "markdown",
   "id": "57c82c60-4c93-43c6-b402-c754f7868daa",
   "metadata": {
    "jp-MarkdownHeadingCollapsed": true,
    "tags": []
   },
   "source": [
    "# Check Shuffle Maintained labelling"
   ]
  },
  {
   "cell_type": "code",
   "execution_count": null,
   "id": "25ab83b3-f92c-4096-b1b3-e898b2553053",
   "metadata": {},
   "outputs": [],
   "source": [
    "import healpy as hp\n",
    "import numpy as np\n",
    "import utils_intensity_map as uim\n",
    "import neural_network_generation as nng\n",
    "num_epochs = 10\n",
    "num_nn = -1\n",
    "nn_params, nn_dataset, sys_params, nn_hyperparams = nng.main((_, run_dir, num_epochs, num_nn))\n",
    "X_all, Y_all, avg_powers_all, nn_params = nng.import_training_data(nn_params, sys_params)"
   ]
  },
  {
   "cell_type": "code",
   "execution_count": null,
   "id": "e86ef8d3-6354-4d08-b208-d8e48805640c",
   "metadata": {},
   "outputs": [],
   "source": [
    "if nn_params[\"run_shuffle\"]:\n",
    "    ind = 0\n",
    "    ind_first = np.where(nn_dataset[\"index_shuf\"] == ind)\n",
    "    ind_first = np.squeeze(ind_first[0])\n",
    "\n",
    "    print(Y_all[:,ind])\n",
    "    intensity_map_normalized2 = uim.xtrain2imap(X_all[:,ind], dataset_params[\"LMAX\"], dataset_params[\"imap_nside\"], avg_powers_all[ind])\n",
    "    hp.mollview(intensity_map_normalized2, unit=\"Deviation from Mean\",flip=\"geo\")\n",
    "\n",
    "    if ind_first >= nn_params[\"test_size\"]:\n",
    "        i = ind_first - nn_params[\"test_size\"]\n",
    "        print(nn_dataset[\"Y_train\"][i,:])\n",
    "        cdata = nn_dataset[\"X_train\"][i,:] * nn_dataset[\"sigma\"] + nn_dataset[\"mu\"]\n",
    "        apwrs = nn_dataset[\"train_avg_powers\"][i]\n",
    "    else:\n",
    "        i = ind_first\n",
    "        print(nn_dataset[\"Y_test\"][i,:])\n",
    "        cdata = nn_dataset[\"X_test\"][i,:] * nn_dataset[\"sigma\"] + nn_dataset[\"mu\"]\n",
    "        apwrs = nn_dataset[\"test_avg_powers\"][i]\n",
    "    intensity_map_normalized2 = uim.xtrain2imap(cdata, dataset_params[\"LMAX\"], dataset_params[\"imap_nside\"], apwrs)\n",
    "    hp.mollview(intensity_map_normalized2, unit=\"Deviation from Mean\",flip=\"geo\")"
   ]
  },
  {
   "cell_type": "markdown",
   "id": "bb279fd2-8b48-4aa9-aed9-4c3b26e8e6b8",
   "metadata": {
    "tags": []
   },
   "source": [
    "# Neural Network"
   ]
  },
  {
   "cell_type": "code",
   "execution_count": null,
   "id": "de6da9c7-8191-482e-b0ab-d13f829a9c77",
   "metadata": {},
   "outputs": [],
   "source": [
    "import neural_network_generation as nng\n",
    "import matplotlib.pyplot as plt\n",
    "num_epochs = 100\n",
    "num_nn = 1"
   ]
  },
  {
   "cell_type": "code",
   "execution_count": null,
   "id": "40bdaf13-ba04-4d45-9497-eeed75253eba",
   "metadata": {},
   "outputs": [],
   "source": [
    "nn_params, nn_dataset, sys_params, nn_hyperparams = nng.main((_, run_dir, num_epochs, num_nn))"
   ]
  },
  {
   "cell_type": "code",
   "execution_count": null,
   "id": "ca83dee1-93b7-441b-b51d-3edb0ff82602",
   "metadata": {},
   "outputs": [],
   "source": [
    "fig = plt.figure()\n",
    "ax1 = plt.axes()\n",
    "ax1.plot(nn_hyperparams[\"initialize_seed\"], nn_hyperparams[\"test_acc\"], \"x\")"
   ]
  },
  {
   "cell_type": "markdown",
   "id": "5b51179e-499f-4223-966d-197c700663c5",
   "metadata": {
    "jp-MarkdownHeadingCollapsed": true,
    "tags": []
   },
   "source": [
    "## Run Prediction Through Ifriit"
   ]
  },
  {
   "cell_type": "code",
   "execution_count": null,
   "id": "be8a7bf3-10c4-486c-90a8-b724d9b9f717",
   "metadata": {},
   "outputs": [],
   "source": [
    "import matplotlib.pyplot as plt\n",
    "import healpy as hp\n",
    "import tf_neural_network as tfnn\n",
    "import netcdf_read_write as nrw\n",
    "import utils_deck_generation as idg\n",
    "import training_data_generation as tdg\n",
    "import utils_intensity_map as uim\n",
    "import neural_network_generation as nng\n",
    "%matplotlib inline\n",
    "num_epochs = 10\n",
    "num_nn = -1\n",
    "#nn_params, nn_dataset, sys_params, nn_hyperparams = nng.main((_, run_dir, num_epochs, num_nn))"
   ]
  },
  {
   "cell_type": "code",
   "execution_count": null,
   "id": "1692c090-ec2a-4393-ab0e-eade2a85348c",
   "metadata": {},
   "outputs": [],
   "source": [
    "inn = 0\n",
    "num_nn = 1\n",
    "nn_params = nng.define_nn_params(num_nn)\n",
    "\n",
    "# choose neural network\n",
    "nn_weights = nrw.read_nn_weights(nn_params[\"dir_nn_weights\"] + \"/\" + \"NN\" + str(inn))\n",
    "\n",
    "# choose test data set\n",
    "sys_params = tdg.define_system_params(\"Data\")\n",
    "nn_params = nng.define_nn_params(num_nn)\n",
    "X_all, Y_all, avg_powers_all, nn_params = nng.import_training_data(nn_params, sys_params)\n",
    "nn_params[\"test_fraction\"] = 0.0\n",
    "nn_params[\"test_size\"] = 0\n",
    "nn_dataset = nng.seperate_test_set(X_all, Y_all, avg_powers_all, nn_params)\n",
    "nn_dataset = nng.normalise(nn_dataset)\n",
    "dataset_params[\"Y_train\"] = nn_dataset[\"Y_train\"].T\n",
    "y_true = dataset_params[\"Y_train\"]\n",
    "\n",
    "# apply neural net to test set\n",
    "sys_params = tdg.define_system_params(\"Data_test_pred_1\")\n",
    "dataset_params, facility_spec = tdg.define_dataset_params(nn_params[\"num_examples\"])\n",
    "y_pred = tfnn.apply_network(nn_dataset[\"X_train\"], nn_weights)\n",
    "dataset_params[\"Y_train\"] = y_pred\n",
    "\n",
    "print(\"The absolute error is: \", np.mean(np.abs(y_true - y_pred)))\n",
    "print(\"The percentage relative error is: \", np.mean((np.abs(y_true - y_pred)) / y_true) * 100, \"%\")"
   ]
  },
  {
   "cell_type": "code",
   "execution_count": null,
   "id": "5232b41d-5874-4854-9523-670ec66e8ac9",
   "metadata": {},
   "outputs": [],
   "source": [
    "# Create new run files\n",
    "dataset_params = idg.create_run_files(dataset_params, sys_params, facility_spec)\n",
    "tdg.generate_training_data(dataset_params, sys_params, facility_spec)"
   ]
  },
  {
   "cell_type": "code",
   "execution_count": null,
   "id": "44c2aad1-7604-4474-abd4-d053bb74157f",
   "metadata": {},
   "outputs": [],
   "source": [
    "sys_params = tdg.define_system_params(\"Data_test_pred_1\")\n",
    "sys_params[\"root_dir\"] = \"Data_test_pred_1\"\n",
    "sys_params[\"run_gen_deck\"] = False\n",
    "dataset_params = idg.create_run_files(dataset_params, sys_params, facility_spec)\n",
    "# plot comparison\n",
    "iex = 0\n",
    "\n",
    "run_location = sys_params[\"root_dir\"] + \"/\" + sys_params[\"sim_dir\"] + str(iex)\n",
    "theta_slice = slice(0,29,4)\n",
    "phi_slice   = slice(1,30,4)\n",
    "power_slice = slice(3,32,4)\n",
    "\n",
    "cone_theta_offset = dataset_params[\"sim_params\"][theta_slice,iex]\n",
    "cone_phi_offset = dataset_params[\"sim_params\"][phi_slice,iex]\n",
    "cone_powers = dataset_params[\"sim_params\"][power_slice,iex]\n",
    "\n",
    "beams_prev = 0\n",
    "beams_tot = 0\n",
    "total_power = 0\n",
    "for icone in range(facility_spec['num_cones']):\n",
    "    beams_per_cone = facility_spec['beams_per_cone'][icone]\n",
    "    beams_tot += beams_per_cone\n",
    "    total_power += cone_powers[icone] * beams_per_cone\n",
    "    beams_prev += beams_per_cone\n",
    "mean_power_fraction = total_power / facility_spec['nbeams']\n",
    "\n",
    "intensity_map = nrw.read_intensity(run_location, dataset_params[\"imap_nside\"])\n",
    "intensity_map_rms_spatial = uim.readout_intensity(facility_spec, intensity_map, mean_power_fraction)\n",
    "\n",
    "hp.mollview(intensity_map,unit=r\"$\\rm{W/cm^2}$\",flip=\"geo\")\n",
    "hp.graticule()\n",
    "port_theta = facility_spec[\"Port_centre_theta\"]\n",
    "port_phi = facility_spec[\"Port_centre_phi\"]\n",
    "hp.projscatter(port_theta, port_phi)\n",
    "hp.projscatter(dataset_params[\"theta_pointings\"][:,iex], dataset_params[\"phi_pointings\"][:,iex])"
   ]
  },
  {
   "cell_type": "code",
   "execution_count": null,
   "id": "66b62164-d8de-4f54-be3e-1a97a064cf7c",
   "metadata": {},
   "outputs": [],
   "source": [
    "LMAX = dataset_params[\"LMAX\"]\n",
    "power_spectrum_unweighted, power_spectrum_weighted = uim.power_spectrum(intensity_map, LMAX)\n",
    "x_max = 20\n",
    "\n",
    "fig = plt.figure()\n",
    "ax = plt.axes()\n",
    "plt.plot(np.arange(LMAX), power_spectrum_unweighted * 100.0)\n",
    "ax.set_xticks(range(0, LMAX+1, int(LMAX/5)))\n",
    "plt.xlim([0, x_max])\n",
    "plt.title(\"Unweighted Modes LLE\")\n",
    "plt.xlabel(\"l mode\")\n",
    "plt.ylabel(r\"rms amplitude ($\\%$)\")\n",
    "plt.savefig(sys_params[\"figure_location\"]+\"/unweighted_modes.png\", dpi=300, bbox_inches='tight')\n",
    "\n",
    "fig = plt.figure()\n",
    "ax = plt.axes()\n",
    "plt.plot(np.arange(LMAX), power_spectrum_weighted * 100.0)\n",
    "ax.set_xticks(range(0, LMAX+1, int(LMAX/5)))\n",
    "plt.xlim([0, x_max])\n",
    "plt.title(\"Weighted Modes\")\n",
    "plt.xlabel(\"l mode\")\n",
    "plt.ylabel(r\"rms amplitude ($\\%$)\")\n",
    "plt.savefig(sys_params[\"figure_location\"]+\"/weighted_modes.png\", dpi=300, bbox_inches='tight')"
   ]
  },
  {
   "cell_type": "markdown",
   "id": "02ea891e-857c-41f2-a1b2-f8bf873ee386",
   "metadata": {},
   "source": [
    "## Compare NN"
   ]
  },
  {
   "cell_type": "code",
   "execution_count": null,
   "id": "baf11021-9c18-421d-9373-d4ee4f9a22e2",
   "metadata": {},
   "outputs": [],
   "source": [
    "import netcdf_read_write as nrw"
   ]
  },
  {
   "cell_type": "code",
   "execution_count": null,
   "id": "19ce9079-4973-47ee-90a4-d0b976b7f377",
   "metadata": {},
   "outputs": [],
   "source": [
    "filename_hyperparams = nn_params[\"dir_nn_weights\"] + \"/\" + nn_params[\"filename_hyperparams\"]\n",
    "nn_hyperparams = nrw.read_nn_weights(filename_hyperparams)\n",
    "\n",
    "fig = plt.figure()\n",
    "ax1 = plt.axes()\n",
    "ax1.plot(nn_hyperparams[\"initialize_seed\"], nn_hyperparams[\"test_acc\"], \"x\")"
   ]
  },
  {
   "cell_type": "markdown",
   "id": "262af551-6a7e-4f2b-8984-2b9bc03a346a",
   "metadata": {
    "jp-MarkdownHeadingCollapsed": true,
    "tags": []
   },
   "source": [
    "## Compare NN accuracy from weights"
   ]
  },
  {
   "cell_type": "code",
   "execution_count": null,
   "id": "f4cd0d39-0ebb-4639-b78d-d7b9fbce786b",
   "metadata": {},
   "outputs": [],
   "source": [
    "import tf_neural_network as tfnn\n",
    "import netcdf_read_write as nrw"
   ]
  },
  {
   "cell_type": "code",
   "execution_count": null,
   "id": "93b05412-ffe3-435b-9265-afc09868a1a8",
   "metadata": {},
   "outputs": [],
   "source": [
    "num_nn = 1\n",
    "initialize_seed = np.arange(num_nn)\n",
    "test_acc = np.zeros(num_nn)\n",
    "input_size = dataset_params[\"num_coeff\"] * 2\n",
    "\n",
    "for inn in range(num_nn):\n",
    "    nn_weights = nrw.read_nn_weights(nn_params[\"dir_nn_weights\"] + \"/\" + \"NN\" + str(inn))\n",
    "    y_pred = tfnn.apply_network(x_test, nn_weights)\n",
    "    test_acc[inn] = np.mean(np.abs(nn_dataset[\"Y_train\"] - y_pred.T))\n",
    "\n",
    "fig = plt.figure()\n",
    "ax1 = plt.axes()\n",
    "\n",
    "ax1.plot(initialize_seed, test_acc)\n",
    "plt.savefig(sys_params[\"figure_location\"]+'/Compare_NN.png', dpi=300, bbox_inches='tight')"
   ]
  },
  {
   "cell_type": "markdown",
   "id": "e9e8ebc0-135e-4a3f-9b9c-bd85e88d5717",
   "metadata": {},
   "source": [
    "## Open NN Weights"
   ]
  },
  {
   "cell_type": "code",
   "execution_count": null,
   "id": "2b2dfe5e-e3e5-4b00-a6cc-98760f1a79ed",
   "metadata": {},
   "outputs": [],
   "source": [
    "parameters = nrw.read_nn_weights(nn_params[\"filename_nn_weights\"])"
   ]
  },
  {
   "cell_type": "markdown",
   "id": "25c58f39-073a-4d71-bad6-161cbc0dd829",
   "metadata": {},
   "source": [
    "## Restart Training"
   ]
  },
  {
   "cell_type": "code",
   "execution_count": null,
   "id": "05dfb5bd-89b5-4232-80ce-d323f2690f8e",
   "metadata": {},
   "outputs": [],
   "source": [
    "\"\"\"\n",
    "start_epoch = num_epochs\n",
    "finish_epoch = 1000 # needs to be bigger than start_epoch\n",
    "\n",
    "parameters, costs2, train_acc2, test_acc2, epochs2 = tfnn.model_wrapper(X_train, Y_train, X_test, Y_test, learning_rate = lr, num_epochs = finish_epoch, start_epoch = start_epoch, nn_weights = parameters)\n",
    "filename_nn_weights = dir_nn_weights + \"/NN\" + str(0)\n",
    "nrw.save_nn_weights(parameters, filename_nn_weights)\n",
    "\n",
    "costs = np.append(costs, costs2)\n",
    "train_acc = np.append(train_acc, train_acc2)\n",
    "test_acc = np.append(test_acc, test_acc2)\n",
    "epochs = np.append(epochs, epochs2)\n",
    "\"\"\""
   ]
  },
  {
   "cell_type": "code",
   "execution_count": null,
   "id": "446f24be-a0a8-4988-9bcb-bd1895354639",
   "metadata": {},
   "outputs": [],
   "source": [
    "#nnp.plotting(epochs, costs, train_acc, test_acc, lr, sys_params[\"figure_location\"])"
   ]
  },
  {
   "cell_type": "markdown",
   "id": "265eb6e1-9afc-40e0-8b93-86ad460452bb",
   "metadata": {},
   "source": [
    "## Apply NN"
   ]
  },
  {
   "cell_type": "code",
   "execution_count": null,
   "id": "36bdd7e5-249b-4b59-88cf-c79b620485e1",
   "metadata": {},
   "outputs": [],
   "source": [
    "\"\"\"\n",
    "ie = 0\n",
    "\n",
    "x_test = np.reshape(X_test[ie,:], (-1,input_size))\n",
    "y_true = np.squeeze(Y_test[ie,:])\n",
    "\n",
    "y_pred = tfnn.apply_network(x_test, parameters)\n",
    "y_pred = np.squeeze(y_pred)\n",
    "print(y_pred)\n",
    "print(y_true)\n",
    "print((np.abs(y_true - y_pred)) / y_true * 100)\n",
    "print(np.mean((np.abs(y_true - y_pred)) / y_true * 100))\n",
    "\"\"\""
   ]
  },
  {
   "cell_type": "code",
   "execution_count": null,
   "id": "94d50ddb-5fb9-4257-a585-479559e5b300",
   "metadata": {},
   "outputs": [],
   "source": [
    "\"\"\"\n",
    "x_test = X_test\n",
    "y_true = np.squeeze(Y_test[:,:])\n",
    "y_true = Y_test\n",
    "\n",
    "y_pred = tfnn.apply_network(x_test, parameters)\n",
    "y_pred = y_pred.T\n",
    "print(np.shape(y_true), np.shape(x_test), np.shape(y_pred))\n",
    "y_pred = np.squeeze(y_pred)\n",
    "print(np.mean(y_true), np.mean(y_pred))\n",
    "print(np.mean(np.abs(y_true - y_pred), axis=0))\n",
    "print(np.mean(np.abs(y_true - y_pred)/y_true*100.0, axis=0))\n",
    "plt.hist(y_true.flatten())\n",
    "plt.hist(y_pred.flatten())\n",
    "plt.savefig(sys_params[\"figure_location\"]+'/label_distribution_blue_is_true.png', dpi=300, bbox_inches='tight')\n",
    "\"\"\""
   ]
  }
 ],
 "metadata": {
  "kernelspec": {
   "display_name": "Python 3 (ipykernel)",
   "language": "python",
   "name": "python3"
  },
  "language_info": {
   "codemirror_mode": {
    "name": "ipython",
    "version": 3
   },
   "file_extension": ".py",
   "mimetype": "text/x-python",
   "name": "python",
   "nbconvert_exporter": "python",
   "pygments_lexer": "ipython3",
   "version": "3.9.7"
  }
 },
 "nbformat": 4,
 "nbformat_minor": 5
}
