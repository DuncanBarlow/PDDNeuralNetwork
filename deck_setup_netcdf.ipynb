{
 "cells": [
  {
   "cell_type": "code",
   "execution_count": null,
   "id": "213aa934-414c-4985-8e98-6cccafbe8a7a",
   "metadata": {},
   "outputs": [],
   "source": [
    "import csv\n",
    "import numpy as np\n",
    "import utils_deck_generation as idg\n",
    "import healpy_pointings as hpoint\n",
    "import netcdf_read_write as nrw"
   ]
  },
  {
   "cell_type": "code",
   "execution_count": null,
   "id": "003b0786-34fb-4dcd-9df2-f351016e6ed3",
   "metadata": {},
   "outputs": [],
   "source": [
    "imap_nside = 256\n",
    "imap_npix = imap_nside**2 * 12\n",
    "\n",
    "# pointings\n",
    "filename_pointing = \"pointing_index_\"\n",
    "surface_cover_radians = np.radians(30.0)\n",
    "num_pointing = 20\n",
    "\n",
    "# defocus\n",
    "filename_defocus = \"defocus_index_\"\n",
    "defocus_range = 10.0 # mm\n",
    "num_defocus = 10\n",
    "\n",
    "#power\n",
    "power_range = 0.5 # fraction of full power\n",
    "num_powers = 10\n",
    "\n",
    "run_sims = True\n",
    "run_compression = True\n",
    "run_type = \"nif\" # \"test\"\n",
    "num_quads = 24\n",
    "\n",
    "figure_location = \"plots\""
   ]
  },
  {
   "cell_type": "markdown",
   "id": "feead195-74fb-4966-beab-db5bac3f1922",
   "metadata": {
    "tags": []
   },
   "source": [
    "## Import NIF: Beam, Quad and Cone data"
   ]
  },
  {
   "cell_type": "code",
   "execution_count": null,
   "id": "417bcff3-d665-49a5-ae9a-4962eb602d91",
   "metadata": {},
   "outputs": [],
   "source": [
    "the_data = dict()\n",
    "\n",
    "the_data['nbeams'] = 4\n",
    "the_data['target_radius'] = 1100.0\n",
    "the_data['facility'] = \"NIF\"\n",
    "the_data['nbeams_total'] = 192\n",
    "the_data['num_quads'] = num_quads"
   ]
  },
  {
   "cell_type": "code",
   "execution_count": null,
   "id": "0977cb14-d8ed-4b82-bfa5-702e20c91806",
   "metadata": {},
   "outputs": [],
   "source": [
    "filename = \"NIF_UpperBeams.txt\"\n",
    "j = -1\n",
    "\n",
    "f=open(filename, \"r\")\n",
    "reader = csv.reader(f, delimiter='\\t')\n",
    "for row in reader:\n",
    "    if j==-1:\n",
    "        key = row\n",
    "        for i in range(len(row)):\n",
    "            the_data[row[i]] = [None] * int(the_data['nbeams_total'])\n",
    "    else:\n",
    "        for i in range(len(row)):\n",
    "            if i < 2:\n",
    "                the_data[key[i]][j] = row[i]\n",
    "            elif i < 5:\n",
    "                the_data[key[i]][j] = float(row[i])\n",
    "            else:\n",
    "                the_data[key[i]][j] = int(row[i])\n",
    "    j=j+1\n",
    "f.close()\n",
    "filename = \"NIF_LowerBeams.txt\"\n",
    "f=open(filename, \"r\")\n",
    "reader = csv.reader(f, delimiter='\\t')\n",
    "for row in reader:\n",
    "    if j>96:\n",
    "        for i in range(len(row)):\n",
    "            if i < 2:\n",
    "                the_data[key[i]][j-1] = row[i]\n",
    "            elif i < 5:\n",
    "                the_data[key[i]][j-1] = float(row[i])\n",
    "            else:\n",
    "                the_data[key[i]][j-1] = int(row[i])\n",
    "    j=j+1\n",
    "f.close()\n",
    "\n",
    "the_data[\"Theta\"] = np.radians(the_data[\"Theta\"])\n",
    "the_data[\"Phi\"] = np.radians(the_data[\"Phi\"])"
   ]
  },
  {
   "cell_type": "code",
   "execution_count": null,
   "id": "29f29313-8bd0-477d-b328-bd8b0a376894",
   "metadata": {},
   "outputs": [],
   "source": [
    "the_data['quad_from_each_cone'] = ('Q15T', 'Q13T', 'Q14T', 'Q11T')"
   ]
  },
  {
   "cell_type": "markdown",
   "id": "795ea66a-10e6-4c15-93c9-c81a99540121",
   "metadata": {
    "jp-MarkdownHeadingCollapsed": true,
    "tags": []
   },
   "source": [
    "## Run Quad and Rotate to form Cone"
   ]
  },
  {
   "cell_type": "code",
   "execution_count": null,
   "id": "5d515497-55be-4668-92f6-8522eec50492",
   "metadata": {},
   "outputs": [],
   "source": [
    "the_data[\"p0\"] = [1./4.] * the_data[\"nbeams\"]\n",
    "the_data[\"fuse\"] = [False] * the_data[\"nbeams\"]\n",
    "\n",
    "defocus_array = np.linspace(0.0, defocus_range, num_defocus)\n",
    "\n",
    "for quad_name in the_data['quad_from_each_cone']:\n",
    "    quad_slice = slice(the_data[\"Quad\"].index(quad_name),the_data[\"Quad\"].index(quad_name)+4)\n",
    "    beam_names = the_data['Beam'][quad_slice]\n",
    "\n",
    "    ## Create Healpy grid of pointings\n",
    "    x, y, z, theta_offset = hpoint.theta_pointing_rotations(the_data, quad_slice, num_pointing, surface_cover_radians)\n",
    "    r = np.sqrt(x**2 + y**2 + z**2)\n",
    "    pointing_theta = np.arccos(z/r)\n",
    "    pointing_phi = np.arctan2(y,x)\n",
    "    \n",
    "    for dind in range(len(defocus_array)):\n",
    "        the_data[\"defocus\"] = [defocus_array[dind]] * the_data[\"nbeams\"]\n",
    "        for pind in range(len(theta_offset)):\n",
    "            ## pointing data\n",
    "            pointings=dict()\n",
    "            for __name in beam_names:\n",
    "                __x = float(x[pind])\n",
    "                __y = float(y[pind])\n",
    "                __z = float(z[pind])\n",
    "                pointings[__name]=np.array((__x,__y,__z))\n",
    "            the_data['pointings'] = []\n",
    "            for beam in beam_names:\n",
    "                for key, value in pointings.items():\n",
    "                    if (key == beam):\n",
    "                        the_data['pointings'].append(np.asarray(value))\n",
    "\n",
    "            run_location = filename_pointing + str(pind) + \"_\" + filename_defocus + str(dind)\n",
    "            idg.generate_input_deck(the_data, run_location)\n",
    "            idg.generate_input_pointing_and_pulses(the_data, run_location, quad_slice, run_type)\n",
    "\n",
    "            if run_sims:\n",
    "                b='Running ifriit in: '+run_location+\"  \"\n",
    "                print(\"\\r\", b, end=\"\")\n",
    "                !cd $run_location;chmod +x main;mpirun -np 1 ./main > a.out\n",
    "\n",
    "            ## Compression of cone\n",
    "            if run_compression:\n",
    "                hpxmap, n_beams = nrw.read_intensity(run_location, run_type, beam_names, imap_nside)\n",
    "                nrw.rotate_cone_and_save(the_data, quad_name, hpxmap, imap_nside, pointing_theta[pind], pointing_phi[pind], run_location)"
   ]
  },
  {
   "cell_type": "markdown",
   "id": "1638f51b-5ee7-41e1-b4e6-709e6d6a8353",
   "metadata": {
    "jp-MarkdownHeadingCollapsed": true,
    "tags": []
   },
   "source": [
    "## Diagnostic"
   ]
  },
  {
   "cell_type": "code",
   "execution_count": null,
   "id": "c815b9a9-0b10-4ab1-b8c9-a5883639828a",
   "metadata": {},
   "outputs": [],
   "source": [
    "import matplotlib.pyplot as plt\n",
    "import healpy as hp\n",
    "import netcdf_read_write as nrw"
   ]
  },
  {
   "cell_type": "code",
   "execution_count": null,
   "id": "257f48cf-98dd-47d2-9ff4-85ac31888714",
   "metadata": {},
   "outputs": [],
   "source": [
    "pind = 2\n",
    "dind = 0\n",
    "run_location = filename_pointing + str(pind) + \"_\" + filename_defocus + str(dind)\n",
    "\n",
    "quad_name = 'Q15T'\n",
    "quad_slice = slice(the_data[\"Quad\"].index(quad_name),the_data[\"Quad\"].index(quad_name)+4)\n",
    "beam_names = the_data['Beam'][quad_slice]\n",
    "\n",
    "hpxmap, n_beams = nrw.read_intensity(run_location, run_type, beam_names, imap_nside)\n",
    "\n",
    "r = the_data['target_radius'] / 1.0e4 # microns to cm\n",
    "total_TW = np.mean(hpxmap)*10**(-12)\n",
    "surface_area = 4.0*np.pi*r**2\n",
    "\n",
    "#rms\n",
    "avg_power = np.mean(hpxmap)\n",
    "hpxmap_rms = 100.0 * np.sqrt(np.mean((hpxmap / avg_power - 1.0)**2))\n",
    "hpxmap_rms_spatial = 100.0 * np.sqrt((hpxmap / avg_power - 1.0)**2)\n",
    "\n",
    "print('')\n",
    "print('The total power deposited is ', total_TW*surface_area, 'TW')\n",
    "print('The power per beam deposited is ', total_TW*surface_area/n_beams, 'TW')\n",
    "print('This is a drive efficiency of ', total_TW*surface_area/(n_beams*0.25)*100, '%')\n",
    "print('Number of beams is ', n_beams)\n",
    "#print('RMS is ', hpxmap_rms, '%')\n",
    "print('')\n",
    "\n",
    "hp.mollview(hpxmap,unit=r\"$\\rm{W/cm^2}$\",flip=\"geo\")\n",
    "hp.graticule()\n",
    "\n",
    "port_theta = np.mean(the_data['Theta'][quad_slice])\n",
    "port_phi = np.mean(the_data['Phi'][quad_slice])\n",
    "hp.projscatter(port_theta, port_phi)\n",
    "quad_pointing_theta = port_theta + theta_offset[pind]\n",
    "quad_pointing_phi = port_phi\n",
    "hp.projscatter(quad_pointing_theta, quad_pointing_phi)"
   ]
  },
  {
   "cell_type": "markdown",
   "id": "bb6234b1-0b0e-4699-aed8-a4b63c49441b",
   "metadata": {
    "jp-MarkdownHeadingCollapsed": true,
    "tags": []
   },
   "source": [
    "## Check cone compression"
   ]
  },
  {
   "cell_type": "code",
   "execution_count": null,
   "id": "2b791041-4a02-4b3b-8625-4930330f3a08",
   "metadata": {},
   "outputs": [],
   "source": [
    "from netCDF4 import Dataset\n",
    "import numpy as np\n",
    "import healpy as hp\n",
    "import matplotlib.pyplot as plt"
   ]
  },
  {
   "cell_type": "code",
   "execution_count": null,
   "id": "43294a8e-7095-4380-a733-c4b6f04f38ec",
   "metadata": {},
   "outputs": [],
   "source": [
    "pointing_per_cone = [0,0,0,0]\n",
    "defocus_per_cone = [0,0,0,0]\n",
    "power_per_cone = [0,0,0,0]\n",
    "\n",
    "Y_train = np.hstack((np.array(pointing_per_cone)/num_pointing, np.array(defocus_per_cone)/num_defocus))\n",
    "Y_train = np.hstack((Y_train, np.array(power_per_cone)/num_powers))\n",
    "Y_norms = [num_pointing, num_defocus, num_powers]\n",
    "intensity_map, port_loc, quad_pointing = nrw.assemble_full_sphere(Y_train, Y_norms, the_data, filename_pointing, filename_defocus, power_range)\n",
    "\n",
    "hp.mollview(intensity_map, unit=r\"$\\rm{W/cm^2}$\", flip=\"geo\")\n",
    "hp.graticule()\n",
    "\n",
    "hp.projscatter(port_loc[0,:], port_loc[1,:])\n",
    "hp.projscatter(quad_pointing[0,:], quad_pointing[1,:])\n",
    "\n",
    "#quad_name = \"Q45B\"\n",
    "#quad_slice = slice(the_data[\"Quad\"].index(quad_name),the_data[\"Quad\"].index(quad_name)+4)\n",
    "#bottom_portloc_theta = np.mean(the_data['Theta'][quad_slice])\n",
    "#bottom_portloc_phi = np.mean(the_data['Phi'][quad_slice])\n",
    "#hp.projscatter(bottom_portloc_theta, bottom_portloc_phi)\n",
    "plt.savefig(figure_location+'/intensity_mollweide.png', dpi=300, bbox_inches='tight')"
   ]
  },
  {
   "cell_type": "markdown",
   "id": "ec81af45-5957-4e1c-9428-d15f800e680d",
   "metadata": {
    "jp-MarkdownHeadingCollapsed": true,
    "tags": []
   },
   "source": [
    "## Incident fraction, RMS and modes"
   ]
  },
  {
   "cell_type": "code",
   "execution_count": null,
   "id": "cd266637-26ef-471e-a90f-319b71762040",
   "metadata": {},
   "outputs": [],
   "source": [
    "import utils_intensity_map as uim"
   ]
  },
  {
   "cell_type": "code",
   "execution_count": null,
   "id": "59ae723c-a865-4f85-b9cf-700a9579ec2b",
   "metadata": {},
   "outputs": [],
   "source": [
    "intensity_map_rms_spatial = uim.readout_intensity(the_data, intensity_map)\n",
    "\n",
    "hp.mollview(intensity_map_rms_spatial,unit=\"RMS\",flip=\"geo\")\n",
    "plt.savefig(figure_location+'/rms_mollweide.png', dpi=300, bbox_inches='tight')\n",
    "hp.graticule()"
   ]
  },
  {
   "cell_type": "code",
   "execution_count": null,
   "id": "965c23e0-5a36-4d67-babd-62644b2fc54a",
   "metadata": {},
   "outputs": [],
   "source": [
    "LMAX = 30\n",
    "power_spectrum_unweighted, power_spectrum_weighted = uim.power_spectrum(intensity_map, LMAX)\n",
    "x_max = 20\n",
    "\n",
    "fig = plt.figure()\n",
    "ax = plt.axes()\n",
    "plt.plot(np.arange(LMAX), power_spectrum_unweighted * 100.0)\n",
    "ax.set_xticks(range(0, LMAX+1, int(LMAX/5)))\n",
    "plt.xlim([0, x_max])\n",
    "plt.title(\"Unweighted Modes LLE\")\n",
    "plt.xlabel(\"l mode\")\n",
    "plt.ylabel(r\"rms amplitude ($\\%$)\")\n",
    "plt.savefig(figure_location+\"/unweighted_modes.png\", dpi=300, bbox_inches='tight')\n",
    "\n",
    "fig = plt.figure()\n",
    "ax = plt.axes()\n",
    "plt.plot(np.arange(LMAX), power_spectrum_weighted * 100.0)\n",
    "ax.set_xticks(range(0, LMAX+1, int(LMAX/5)))\n",
    "plt.xlim([0, x_max])\n",
    "plt.title(\"Weighted Modes\")\n",
    "plt.xlabel(\"l mode\")\n",
    "plt.ylabel(r\"rms amplitude ($\\%$)\")\n",
    "plt.savefig(figure_location+\"/weighted_modes.png\", dpi=300, bbox_inches='tight')"
   ]
  },
  {
   "cell_type": "code",
   "execution_count": null,
   "id": "e5a4c119-b464-4f3a-a528-dd4b8c9155cf",
   "metadata": {},
   "outputs": [],
   "source": [
    "Y_train1, Y_norms = uim.create_ytrain(pointing_per_cone, num_pointing, defocus_per_cone, num_defocus, power_per_cone, num_powers)\n",
    "\n",
    "intensity_map, _, _ = nrw.assemble_full_sphere(Y_train, Y_norms, the_data, filename_pointing, filename_defocus, power_range)\n",
    "\n",
    "intensity_map_normalized, avg_power = uim.imap_norm(intensity_map)\n",
    "hp.mollview(intensity_map_normalized, unit=\"Deviation from Mean\", flip=\"geo\")\n",
    "\n",
    "X_train = uim.imap2xtrain(intensity_map_normalized, LMAX)\n",
    "intensity_map_normalized2 = uim.xtrain2imap(X_train, LMAX, imap_nside)\n",
    "hp.mollview(intensity_map_normalized2, unit=\"Deviation from Mean\",flip=\"geo\")"
   ]
  },
  {
   "cell_type": "markdown",
   "id": "1a70c8f3-ae76-4bc6-a5da-5f1bb91c2aa2",
   "metadata": {
    "tags": []
   },
   "source": [
    "# Create data structure for data set and label"
   ]
  },
  {
   "cell_type": "markdown",
   "id": "e51ac4cb-f3dd-4de9-861f-8fd3a1a0d906",
   "metadata": {
    "tags": []
   },
   "source": [
    "## Setup Dataset Constants"
   ]
  },
  {
   "cell_type": "code",
   "execution_count": null,
   "id": "daadcae2-0226-46f4-bc28-1b9fa842b348",
   "metadata": {},
   "outputs": [],
   "source": [
    "from netCDF4 import Dataset\n",
    "from os import path\n",
    "import os\n",
    "import healpy as hp"
   ]
  },
  {
   "cell_type": "code",
   "execution_count": null,
   "id": "6219c67d-6a61-4c29-8237-3e26d7a1a23c",
   "metadata": {},
   "outputs": [],
   "source": [
    "savename_trainingdata = \"training_data_and_labels.nc\"\n",
    "LMAX = 30 \n",
    "num_cones = 4\n",
    "num_variables = 3\n",
    "num_coeff = int(((LMAX + 2) * (LMAX + 1))/2.0)\n",
    "num_examples = num_pointing * num_defocus * num_powers * num_cones\n",
    "num_output = num_cones * num_variables\n",
    "Y_norms = [num_pointing, num_defocus, num_powers]\n",
    "print(num_coeff*2, num_examples, num_output)"
   ]
  },
  {
   "cell_type": "markdown",
   "id": "87e2d559-bb5a-4bf2-ac79-5a14eebfa421",
   "metadata": {
    "jp-MarkdownHeadingCollapsed": true,
    "tags": []
   },
   "source": [
    "## Create and Save Dataset"
   ]
  },
  {
   "cell_type": "code",
   "execution_count": null,
   "id": "d7bc2000-ba8d-4e09-b934-5da4787835cd",
   "metadata": {},
   "outputs": [],
   "source": [
    "nrw.save_training_data(the_data, num_cones, num_pointing, num_defocus, num_powers, num_coeff, num_output, num_examples, power_range, LMAX, savename_trainingdata, filename_pointing, filename_defocus)"
   ]
  },
  {
   "cell_type": "markdown",
   "id": "6350add7-34b4-430c-bc15-07ee7a5a0c08",
   "metadata": {},
   "source": [
    "## Load Data Set"
   ]
  },
  {
   "cell_type": "code",
   "execution_count": null,
   "id": "2db60045-b05d-483c-b27c-bab2e197da72",
   "metadata": {},
   "outputs": [],
   "source": [
    "training_data = Dataset(savename_trainingdata)\n",
    "X_train_ordered = training_data.variables[\"X_train\"][:]\n",
    "Y_train_ordered = training_data.variables[\"Y_train\"][:]\n",
    "training_data.close()\n",
    "\n",
    "print(np.shape(X_train_ordered), np.shape(Y_train_ordered))"
   ]
  },
  {
   "cell_type": "code",
   "execution_count": null,
   "id": "1004a8d4-2784-4464-85ed-5020b7e21552",
   "metadata": {},
   "outputs": [],
   "source": [
    "test_size = int(num_examples / 10)\n",
    "index_shuf = list(range(num_examples))\n",
    "\n",
    "rng = np.random.default_rng(12345)\n",
    "rng.shuffle(index_shuf)\n",
    "index_shuf = np.array(index_shuf)\n",
    "\n",
    "X_train = []\n",
    "Y_train = []\n",
    "X_test = []\n",
    "Y_test = []\n",
    "j=0\n",
    "for i in index_shuf:\n",
    "    if (j < test_size):\n",
    "        X_test.append(X_train_ordered[:,i])\n",
    "        Y_test.append(Y_train_ordered[:,i])\n",
    "    else:\n",
    "        X_train.append(X_train_ordered[:,i])\n",
    "        Y_train.append(Y_train_ordered[:,i])\n",
    "    j = j + 1\n",
    "X_test = np.array(X_test)\n",
    "Y_test = np.array(Y_test)\n",
    "X_train = np.array(X_train)\n",
    "Y_train = np.array(Y_train)\n",
    "\n",
    "print(np.shape(X_train), np.shape(Y_train), np.shape(X_test), np.shape(Y_test))\n",
    "\n",
    "mu = np.mean(X_train)\n",
    "sigma = np.std(X_train)\n",
    "\n",
    "X_train = (X_train - mu) / sigma\n",
    "X_test = (X_test - mu) / sigma\n",
    "\n",
    "print(np.std(X_train), np.std(X_test))"
   ]
  },
  {
   "cell_type": "markdown",
   "id": "bf1b18ca-a982-4e21-af84-87c03b572007",
   "metadata": {
    "tags": []
   },
   "source": [
    "## Check Shuffle Maintained labelling"
   ]
  },
  {
   "cell_type": "code",
   "execution_count": null,
   "id": "fd1b5ec6-a47a-49ae-ae2e-e7235ff1feaa",
   "metadata": {},
   "outputs": [],
   "source": [
    "import utils_intensity_map as uim"
   ]
  },
  {
   "cell_type": "code",
   "execution_count": null,
   "id": "0d87e243-9aec-4de2-9294-e4dba0b640ae",
   "metadata": {},
   "outputs": [],
   "source": [
    "ind_first = np.where(index_shuf == 0)\n",
    "\n",
    "print(Y_train_ordered[:,0])\n",
    "intensity_map_normalized2 = uim.xtrain2imap(X_train_ordered[:,0], LMAX, imap_nside)\n",
    "hp.mollview(intensity_map_normalized2, unit=\"Deviation from Mean\",flip=\"geo\")\n",
    "\n",
    "print(Y_train[ind_first[0]-test_size,:])\n",
    "intensity_map_normalized2 = uim.xtrain2imap(X_train[ind_first[0]-test_size,:], LMAX, imap_nside)\n",
    "hp.mollview(intensity_map_normalized2 * sigma + mu, unit=\"Deviation from Mean\",flip=\"geo\")"
   ]
  },
  {
   "cell_type": "markdown",
   "id": "bb279fd2-8b48-4aa9-aed9-4c3b26e8e6b8",
   "metadata": {},
   "source": [
    "# Neural Network"
   ]
  },
  {
   "cell_type": "code",
   "execution_count": null,
   "id": "6a12d90c-894b-47b5-b0d9-3eef77122438",
   "metadata": {},
   "outputs": [],
   "source": [
    "import tf_neural_network as tfnn\n",
    "import matplotlib.pyplot as plt"
   ]
  },
  {
   "cell_type": "code",
   "execution_count": null,
   "id": "be00bf58-ed71-4da6-bcb4-f4a2bd788bca",
   "metadata": {},
   "outputs": [],
   "source": [
    "filename_nn_weights = \"neural_network_weights\"\n",
    "input_size = num_coeff * 2\n",
    "output_size = num_output\n",
    "lr = 0.0001\n",
    "num_epochs = 100\n",
    "min_epoch = 10\n",
    "costs = []\n",
    "train_acc = []\n",
    "test_acc = []\n",
    "epoch_count = 0\n",
    "hidden_units1 = 25\n",
    "hidden_units2 = 20"
   ]
  },
  {
   "cell_type": "code",
   "execution_count": null,
   "id": "065fe768-98be-410a-885b-a8c24d68fede",
   "metadata": {},
   "outputs": [],
   "source": [
    "parameters, costs, train_acc, test_acc = tfnn.model_wrapper(X_train, Y_train, X_test, Y_test, input_size, output_size, learning_rate = lr, num_epochs = num_epochs, hidden_units1=hidden_units1, hidden_units2=hidden_units2)\n",
    "nrw.save_nn_weights(parameters, filename_nn_weights)\n",
    "\n",
    "epoch_count = num_epochs"
   ]
  },
  {
   "cell_type": "code",
   "execution_count": null,
   "id": "412a7835-209f-46a9-bb26-44b8dd7e3d4a",
   "metadata": {},
   "outputs": [],
   "source": [
    "epochs = np.linspace(min_epoch, epoch_count, len(costs))\n",
    "\n",
    "# Plot the cost\n",
    "fig = plt.figure()\n",
    "ax = plt.axes()\n",
    "\n",
    "plt.plot(epochs, costs)\n",
    "ax.set_xticks(range(0, epoch_count+int(epoch_count/10), int(epoch_count/10)))\n",
    "plt.ylabel('cost')\n",
    "plt.xlabel('epochs')\n",
    "plt.title(\"Learning rate =\" + str(lr))\n",
    "\n",
    "plt.savefig(figure_location+\"/cost_over_epochs.png\", dpi=300, bbox_inches='tight')"
   ]
  },
  {
   "cell_type": "markdown",
   "id": "e9e8ebc0-135e-4a3f-9b9c-bd85e88d5717",
   "metadata": {},
   "source": [
    "## Open NN Weights"
   ]
  },
  {
   "cell_type": "code",
   "execution_count": null,
   "id": "2b2dfe5e-e3e5-4b00-a6cc-98760f1a79ed",
   "metadata": {},
   "outputs": [],
   "source": [
    "parameters = nrw.read_nn_weights(filename_nn_weights)"
   ]
  },
  {
   "cell_type": "markdown",
   "id": "25c58f39-073a-4d71-bad6-161cbc0dd829",
   "metadata": {},
   "source": [
    "## Restart Training"
   ]
  },
  {
   "cell_type": "code",
   "execution_count": null,
   "id": "05dfb5bd-89b5-4232-80ce-d323f2690f8e",
   "metadata": {},
   "outputs": [],
   "source": [
    "num_epochs = 100\n",
    "\n",
    "parameters, costs2, train_acc2, test_acc2 = tfnn.model_wrapper(X_train, Y_train, X_test, Y_test, input_size, output_size, learning_rate = lr, num_epochs = num_epochs, restart = True, nn_weights = parameters)\n",
    "nrw.save_nn_weights(parameters, filename_nn_weights)\n",
    "\n",
    "costs = np.append(costs, costs2)\n",
    "train_acc = np.append(train_acc, train_acc2)\n",
    "test_acc = np.append(test_acc, test_acc2)\n",
    "epoch_count = epoch_count + num_epochs"
   ]
  },
  {
   "cell_type": "code",
   "execution_count": null,
   "id": "446f24be-a0a8-4988-9bcb-bd1895354639",
   "metadata": {},
   "outputs": [],
   "source": [
    "epochs = np.linspace(min_epoch, epoch_count, len(costs))\n",
    "\n",
    "# Plot the cost\n",
    "fig = plt.figure()\n",
    "ax = plt.axes()\n",
    "\n",
    "plt.plot(epochs, costs)\n",
    "ax.set_xticks(range(0, epoch_count+int(epoch_count/10), int(epoch_count/10)))\n",
    "plt.ylabel('cost')\n",
    "plt.xlabel('epochs')\n",
    "plt.title(\"Learning rate =\" + str(lr))\n",
    "\n",
    "plt.savefig(figure_location+\"/cost_over_epochs.png\", dpi=300, bbox_inches='tight')"
   ]
  },
  {
   "cell_type": "code",
   "execution_count": null,
   "id": "6826b51c-2634-4594-9213-c6812701ef71",
   "metadata": {},
   "outputs": [],
   "source": []
  }
 ],
 "metadata": {
  "kernelspec": {
   "display_name": "Python 3 (ipykernel)",
   "language": "python",
   "name": "python3"
  },
  "language_info": {
   "codemirror_mode": {
    "name": "ipython",
    "version": 3
   },
   "file_extension": ".py",
   "mimetype": "text/x-python",
   "name": "python",
   "nbconvert_exporter": "python",
   "pygments_lexer": "ipython3",
   "version": "3.9.7"
  }
 },
 "nbformat": 4,
 "nbformat_minor": 5
}
