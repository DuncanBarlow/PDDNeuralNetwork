{
 "cells": [
  {
   "cell_type": "code",
   "execution_count": null,
   "id": "213aa934-414c-4985-8e98-6cccafbe8a7a",
   "metadata": {},
   "outputs": [],
   "source": [
    "import csv\n",
    "import numpy as np\n",
    "import utils_deck_generation as idg\n",
    "import healpy_pointings as hpoint\n",
    "import netcdf_read_write as nrw\n",
    "import utils_intensity_map as uim\n",
    "from nn_plots import figure_location\n",
    "from scipy.stats import qmc\n",
    "import os"
   ]
  },
  {
   "cell_type": "code",
   "execution_count": null,
   "id": "003b0786-34fb-4dcd-9df2-f351016e6ed3",
   "metadata": {},
   "outputs": [],
   "source": [
    "imap_nside = 256\n",
    "imap_npix = imap_nside**2 * 12\n",
    "\n",
    "# Number of samples, size of NN training set\n",
    "num_examples = 2\n",
    "test_size = int(num_examples / 10)\n",
    "if test_size == 0:\n",
    "    test_size = 1\n",
    "random_seed = 12345\n",
    "run_shuffle = False\n",
    "\n",
    "num_sim_params = 0\n",
    "# pointings\n",
    "surface_cover_radians = np.radians(45.0)\n",
    "num_sim_params += 2\n",
    "# defocus\n",
    "defocus_range = 20.0 # mm)\n",
    "num_sim_params += 1\n",
    "#power\n",
    "min_power = 0.5 # fraction of full power\n",
    "num_sim_params += 1\n",
    "\n",
    "run_sims = True\n",
    "run_compression = True\n",
    "run_clean = True\n",
    "\n",
    "run_type = \"nif\" #\"test\" #\"nif\"\n",
    "num_quads = 48\n",
    "num_cones = 8\n",
    "\n",
    "run_dir = \"Data\""
   ]
  },
  {
   "cell_type": "code",
   "execution_count": null,
   "id": "b5d9e704-43d6-4aa4-a710-a942d3c31799",
   "metadata": {},
   "outputs": [],
   "source": [
    "filename_trainingdata = run_dir + \"/\" + \"training_data_and_labels.nc\"\n",
    "LMAX = 30\n",
    "num_coeff = int(((LMAX + 2) * (LMAX + 1))/2.0)\n",
    "# Assume symmetry\n",
    "num_output = int(num_cones/2) * num_sim_params\n",
    "print(num_coeff*2, num_examples, num_output)"
   ]
  },
  {
   "cell_type": "code",
   "execution_count": null,
   "id": "3d03df0f-9bd9-45d4-ab9c-14fc97858ba5",
   "metadata": {},
   "outputs": [],
   "source": [
    "rng = np.random.default_rng(random_seed)\n",
    "sampler = qmc.LatinHypercube(d=num_output, seed=rng)\n",
    "sample = sampler.random(n=num_examples)\n",
    "Y_train = sample.T\n",
    "print(np.shape(Y_train))"
   ]
  },
  {
   "cell_type": "markdown",
   "id": "feead195-74fb-4966-beab-db5bac3f1922",
   "metadata": {
    "tags": []
   },
   "source": [
    "## Import NIF: Beam, Quad and Cone data"
   ]
  },
  {
   "cell_type": "code",
   "execution_count": null,
   "id": "417bcff3-d665-49a5-ae9a-4962eb602d91",
   "metadata": {},
   "outputs": [],
   "source": [
    "run_data = dict()\n",
    "\n",
    "run_data['nbeams'] = 192\n",
    "run_data['target_radius'] = 1100.0\n",
    "run_data['facility'] = \"NIF\"\n",
    "run_data['num_quads'] = num_quads\n",
    "run_data['default_power'] = 0.25 #TW per beam"
   ]
  },
  {
   "cell_type": "code",
   "execution_count": null,
   "id": "0977cb14-d8ed-4b82-bfa5-702e20c91806",
   "metadata": {},
   "outputs": [],
   "source": [
    "filename = \"NIF_UpperBeams.txt\"\n",
    "j = -1\n",
    "\n",
    "f=open(filename, \"r\")\n",
    "reader = csv.reader(f, delimiter='\\t')\n",
    "for row in reader:\n",
    "    if j==-1:\n",
    "        key = row\n",
    "        for i in range(len(row)):\n",
    "            run_data[row[i]] = [None] * int(run_data['nbeams'])\n",
    "    else:\n",
    "        for i in range(len(row)):\n",
    "            if i < 2:\n",
    "                run_data[key[i]][j] = row[i]\n",
    "            elif i < 5:\n",
    "                run_data[key[i]][j] = float(row[i])\n",
    "            else:\n",
    "                run_data[key[i]][j] = int(row[i])\n",
    "    j=j+1\n",
    "f.close()\n",
    "filename = \"NIF_LowerBeams.txt\"\n",
    "f=open(filename, \"r\")\n",
    "reader = csv.reader(f, delimiter='\\t')\n",
    "for row in reader:\n",
    "    if j>96:\n",
    "        for i in range(len(row)):\n",
    "            if i < 2:\n",
    "                run_data[key[i]][j-1] = row[i]\n",
    "            elif i < 5:\n",
    "                run_data[key[i]][j-1] = float(row[i])\n",
    "            else:\n",
    "                run_data[key[i]][j-1] = int(row[i])\n",
    "    j=j+1\n",
    "f.close()\n",
    "\n",
    "run_data[\"Theta\"] = np.radians(run_data[\"Theta\"])\n",
    "run_data[\"Phi\"] = np.radians(run_data[\"Phi\"])"
   ]
  },
  {
   "cell_type": "code",
   "execution_count": null,
   "id": "29f29313-8bd0-477d-b328-bd8b0a376894",
   "metadata": {},
   "outputs": [],
   "source": [
    "run_data['quad_from_each_cone'] = ('Q15T', 'Q13T', 'Q14T', 'Q11T', 'Q15B', 'Q16B', 'Q14B', 'Q13B')"
   ]
  },
  {
   "cell_type": "markdown",
   "id": "8a2a3408-6a59-4b28-bf5b-8212f4b7142c",
   "metadata": {
    "tags": []
   },
   "source": [
    "# Generate and Save Training Data"
   ]
  },
  {
   "cell_type": "code",
   "execution_count": null,
   "id": "86466b15-2238-470c-9728-332fbe8a18e8",
   "metadata": {},
   "outputs": [],
   "source": [
    "coord_o = np.zeros(3)\n",
    "coord_o[2] = run_data['target_radius']\n",
    "run_data['pointings'] = np.zeros((run_data['nbeams'], 3))\n",
    "run_data[\"Port_centre_theta\"] = np.zeros(run_data['nbeams'])\n",
    "run_data[\"Port_centre_phi\"] = np.zeros(run_data['nbeams'])\n",
    "run_data[\"defocus\"] = np.zeros(run_data['nbeams'])\n",
    "run_data[\"p0\"] = np.zeros(run_data['nbeams'])\n",
    "run_data[\"fuse\"] = [False] * run_data[\"nbeams\"]\n",
    "run_data['beams_per_cone'] = [0] * num_cones\n",
    "\n",
    "sim_params = np.zeros((num_output*2, num_examples))\n",
    "theta_pointings = np.zeros((run_data[\"nbeams\"], num_examples))\n",
    "phi_pointings = np.zeros((run_data[\"nbeams\"], num_examples))\n",
    "\n",
    "X_train = np.zeros((num_coeff * 2, num_examples))\n",
    "avg_powers = np.zeros(num_examples)\n",
    "\n",
    "for iex in range(num_examples):\n",
    "    ex_params =  Y_train[:,iex]\n",
    "    for icone in range(num_cones):\n",
    "        il = (icone*4) % num_output\n",
    "        iu = ((icone+1)*4-1) % num_output + 1\n",
    "        cone_params = ex_params[il:iu]\n",
    "\n",
    "        x = cone_params[0] * 2.0 - 1.0\n",
    "        y = cone_params[1] * 2.0 - 1.0\n",
    "        r, offset_phi = hpoint.square2disk(x, y)\n",
    "        if icone > 3:\n",
    "            offset_phi = (offset_phi + np.pi) % (2.0 * np.pi)\n",
    "        offset_theta = r * surface_cover_radians\n",
    "\n",
    "        cone_defocus = cone_params[2] * defocus_range # convert to mm\n",
    "        cone_power = cone_params[3] * (1.0 - min_power) + min_power\n",
    "\n",
    "        quad_name = run_data['quad_from_each_cone'][icone]\n",
    "        quad_start_ind = run_data[\"Quad\"].index(quad_name)\n",
    "        quad_slice = slice(quad_start_ind, quad_start_ind+4)\n",
    "\n",
    "        cone_name = run_data['Cone'][quad_slice]\n",
    "        cone_name = cone_name[0]\n",
    "        \n",
    "        sim_params[icone*4:(icone+1)*4,iex] = (offset_theta, offset_phi, cone_defocus, cone_power)\n",
    "\n",
    "        # divide by 2 so only uppers or lowers\n",
    "        beams_in_cone_count = int(run_data[\"Cone\"].count(cone_name)/2)\n",
    "        ind = run_data[\"Quad\"].index(quad_name)\n",
    "        # 4 beams per quad so set skip = 4\n",
    "        cone_slice = slice(ind,ind+beams_in_cone_count,4)\n",
    "        quad_list_in_cone = run_data[\"Quad\"][cone_slice]\n",
    "        run_data['beams_per_cone'][icone] = beams_in_cone_count\n",
    "\n",
    "        for quad_name in quad_list_in_cone:\n",
    "            ind = run_data[\"Quad\"].index(quad_name)\n",
    "            quad_slice = slice(ind,ind+4)\n",
    "            beam_names = run_data['Beam'][quad_slice]\n",
    "\n",
    "            run_data[\"Port_centre_theta\"][quad_slice] = np.mean(run_data[\"Theta\"][quad_slice])\n",
    "            run_data[\"Port_centre_phi\"][quad_slice] = np.mean(run_data[\"Phi\"][quad_slice])\n",
    "            port_theta = run_data[\"Port_centre_theta\"][ind]\n",
    "            port_phi = run_data[\"Port_centre_phi\"][ind]\n",
    "            \n",
    "            rotation_matrix = np.matmul(np.matmul(hpoint.rot_mat(port_phi, \"z\"), hpoint.rot_mat(port_theta, \"y\")),\n",
    "                              np.matmul(hpoint.rot_mat(offset_phi, \"z\"), hpoint.rot_mat(offset_theta, \"y\")))\n",
    "\n",
    "            coord_n = np.matmul(rotation_matrix, coord_o)\n",
    "            \n",
    "            theta_pointings[quad_slice,iex] = np.arccos(coord_n[2] / run_data['target_radius'])\n",
    "            phi_pointings[quad_slice,iex] = np.arctan2(coord_n[1], coord_n[0])\n",
    "\n",
    "            run_data['pointings'][ind:ind+4,:] = np.array(coord_n)\n",
    "            run_data[\"defocus\"][quad_slice] = cone_defocus\n",
    "            run_data[\"p0\"][quad_slice] = run_data['default_power'] * cone_power\n",
    "\n",
    "    run_location = run_dir + \"/\" + \"run_\" + str(iex)\n",
    "    if run_sims:\n",
    "        idg.generate_input_deck(run_data, run_location)\n",
    "        idg.generate_input_pointing_and_pulses(run_data, run_location, run_type)\n",
    "\n",
    "        b='Running ifriit in: ' + run_location + \"  \"\n",
    "        print(\"\\r\", b, end=\"\")\n",
    "        !cd $run_location;chmod +x main;mpirun -np 1 ./main > a.out\n",
    "\n",
    "    if run_compression:\n",
    "        intensity_map = nrw.read_intensity(run_location, run_type, run_data['Beam'], imap_nside)\n",
    "        X_train1, avg_power1 = uim.create_xtrain(intensity_map, LMAX)\n",
    "\n",
    "        X_train[:,iex] = X_train1\n",
    "        avg_powers[iex] = avg_power1\n",
    "\n",
    "    if run_clean:\n",
    "        os.remove(run_location + '/main')\n",
    "        for beam in run_data['Beam']:\n",
    "            os.remove(run_location + '/p_in_z1z2_beam_NIF-' + beam + '.nc')\n",
    "\n",
    "if run_compression:\n",
    "    nrw.save_training_data(X_train, Y_train, avg_powers, filename_trainingdata)"
   ]
  },
  {
   "cell_type": "markdown",
   "id": "1638f51b-5ee7-41e1-b4e6-709e6d6a8353",
   "metadata": {
    "jp-MarkdownHeadingCollapsed": true,
    "tags": []
   },
   "source": [
    "## Diagnostic"
   ]
  },
  {
   "cell_type": "code",
   "execution_count": null,
   "id": "c815b9a9-0b10-4ab1-b8c9-a5883639828a",
   "metadata": {},
   "outputs": [],
   "source": [
    "import matplotlib.pyplot as plt\n",
    "import healpy as hp"
   ]
  },
  {
   "cell_type": "code",
   "execution_count": null,
   "id": "257f48cf-98dd-47d2-9ff4-85ac31888714",
   "metadata": {},
   "outputs": [],
   "source": [
    "iex = 1\n",
    "\n",
    "run_location = run_dir + \"/\" + \"run_\" + str(iex)\n",
    "theta_slice = slice(0,29,4)\n",
    "phi_slice   = slice(1,30,4)\n",
    "power_slice = slice(3,32,4)\n",
    "\n",
    "cone_theta_offset = sim_params[theta_slice,iex]\n",
    "cone_phi_offset = sim_params[phi_slice,iex]\n",
    "cone_powers = sim_params[power_slice,iex]\n",
    "\n",
    "beams_prev = 0\n",
    "beams_tot = 0\n",
    "total_power = 0\n",
    "for icone in range(num_cones):\n",
    "    beams_per_cone = run_data['beams_per_cone'][icone]\n",
    "    beams_tot += beams_per_cone\n",
    "    total_power += cone_powers[icone] * beams_per_cone\n",
    "    beams_prev += beams_per_cone\n",
    "mean_power_fraction = total_power / run_data['nbeams']\n",
    "\n",
    "intensity_map = nrw.read_intensity(run_location, run_type, run_data['Beam'], imap_nside)\n",
    "intensity_map_rms_spatial = uim.readout_intensity(run_data, intensity_map, mean_power_fraction)\n",
    "\n",
    "hp.mollview(intensity_map,unit=r\"$\\rm{W/cm^2}$\",flip=\"geo\")\n",
    "hp.graticule()\n",
    "port_theta = run_data[\"Port_centre_theta\"]\n",
    "port_phi = run_data[\"Port_centre_phi\"]\n",
    "hp.projscatter(port_theta, port_phi)\n",
    "hp.projscatter(theta_pointings[:,iex], phi_pointings[:,iex])"
   ]
  },
  {
   "cell_type": "markdown",
   "id": "ec81af45-5957-4e1c-9428-d15f800e680d",
   "metadata": {
    "jp-MarkdownHeadingCollapsed": true,
    "tags": []
   },
   "source": [
    "## Incident fraction, RMS and modes"
   ]
  },
  {
   "cell_type": "code",
   "execution_count": null,
   "id": "cd266637-26ef-471e-a90f-319b71762040",
   "metadata": {},
   "outputs": [],
   "source": [
    "import utils_intensity_map as uim"
   ]
  },
  {
   "cell_type": "code",
   "execution_count": null,
   "id": "59ae723c-a865-4f85-b9cf-700a9579ec2b",
   "metadata": {},
   "outputs": [],
   "source": [
    "hp.mollview(intensity_map_rms_spatial, unit=\"Deviation from mean (%)\",flip=\"geo\")\n",
    "plt.savefig(figure_location+'/deviation_from_mean_mollweide.png', dpi=300, bbox_inches='tight')\n",
    "hp.graticule()"
   ]
  },
  {
   "cell_type": "code",
   "execution_count": null,
   "id": "965c23e0-5a36-4d67-babd-62644b2fc54a",
   "metadata": {},
   "outputs": [],
   "source": [
    "LMAX = 30\n",
    "power_spectrum_unweighted, power_spectrum_weighted = uim.power_spectrum(intensity_map, LMAX)\n",
    "x_max = 20\n",
    "\n",
    "fig = plt.figure()\n",
    "ax = plt.axes()\n",
    "plt.plot(np.arange(LMAX), power_spectrum_unweighted * 100.0)\n",
    "ax.set_xticks(range(0, LMAX+1, int(LMAX/5)))\n",
    "plt.xlim([0, x_max])\n",
    "plt.title(\"Unweighted Modes LLE\")\n",
    "plt.xlabel(\"l mode\")\n",
    "plt.ylabel(r\"rms amplitude ($\\%$)\")\n",
    "plt.savefig(figure_location+\"/unweighted_modes.png\", dpi=300, bbox_inches='tight')\n",
    "\n",
    "fig = plt.figure()\n",
    "ax = plt.axes()\n",
    "plt.plot(np.arange(LMAX), power_spectrum_weighted * 100.0)\n",
    "ax.set_xticks(range(0, LMAX+1, int(LMAX/5)))\n",
    "plt.xlim([0, x_max])\n",
    "plt.title(\"Weighted Modes\")\n",
    "plt.xlabel(\"l mode\")\n",
    "plt.ylabel(r\"rms amplitude ($\\%$)\")\n",
    "plt.savefig(figure_location+\"/weighted_modes.png\", dpi=300, bbox_inches='tight')"
   ]
  },
  {
   "cell_type": "code",
   "execution_count": null,
   "id": "e5a4c119-b464-4f3a-a528-dd4b8c9155cf",
   "metadata": {},
   "outputs": [],
   "source": [
    "intensity_map_normalized, avg_power = uim.imap_norm(intensity_map)\n",
    "hp.mollview(intensity_map_normalized, unit=\"Deviation from Mean\", flip=\"geo\")\n",
    "\n",
    "X_train = uim.imap2xtrain(intensity_map_normalized, LMAX, avg_power)\n",
    "intensity_map_normalized2 = uim.xtrain2imap(X_train, LMAX, imap_nside, avg_power)\n",
    "hp.mollview(intensity_map_normalized2, unit=\"Deviation from Mean\",flip=\"geo\")"
   ]
  },
  {
   "cell_type": "markdown",
   "id": "1a70c8f3-ae76-4bc6-a5da-5f1bb91c2aa2",
   "metadata": {
    "tags": []
   },
   "source": [
    "# Create data structure for data set and label"
   ]
  },
  {
   "cell_type": "markdown",
   "id": "6350add7-34b4-430c-bc15-07ee7a5a0c08",
   "metadata": {},
   "source": [
    "## Load Data Set"
   ]
  },
  {
   "cell_type": "code",
   "execution_count": null,
   "id": "daadcae2-0226-46f4-bc28-1b9fa842b348",
   "metadata": {},
   "outputs": [],
   "source": [
    "from netCDF4 import Dataset\n",
    "from os import path\n",
    "import os\n",
    "import healpy as hp"
   ]
  },
  {
   "cell_type": "code",
   "execution_count": null,
   "id": "2db60045-b05d-483c-b27c-bab2e197da72",
   "metadata": {},
   "outputs": [],
   "source": [
    "training_data = Dataset(filename_trainingdata)\n",
    "X_all = training_data.variables[\"X_train\"][:]\n",
    "Y_all = training_data.variables[\"Y_train\"][:]\n",
    "avg_powers_all = training_data.variables[\"avg_powers\"][:]\n",
    "training_data.close()\n",
    "\n",
    "print(np.shape(X_all), np.shape(Y_all))"
   ]
  },
  {
   "cell_type": "markdown",
   "id": "8bd89f28-6f87-4084-bb83-9a703e188dc3",
   "metadata": {
    "tags": []
   },
   "source": [
    "## Shuffle and Seperate Data"
   ]
  },
  {
   "cell_type": "code",
   "execution_count": null,
   "id": "3a8bdee7-5edd-42db-ad3a-be8739ca30d8",
   "metadata": {},
   "outputs": [],
   "source": [
    "if run_shuffle:\n",
    "    index_shuf = list(range(num_examples))\n",
    "    rng = np.random.default_rng(random_seed)\n",
    "    rng.shuffle(index_shuf)\n",
    "    index_shuf = np.array(index_shuf)\n",
    "    X_train = []\n",
    "    Y_train = []\n",
    "    train_avg_powers = []\n",
    "    X_test = []\n",
    "    Y_test = []\n",
    "    test_avg_powers = []\n",
    "    j=0\n",
    "    for i in index_shuf:\n",
    "        if (j < test_size):\n",
    "            X_test.append(X_all[:,i])\n",
    "            Y_test.append(Y_all[:,i])\n",
    "            test_avg_powers.append(avg_powers_all[i])\n",
    "        else:\n",
    "            X_train.append(X_all[:,i])\n",
    "            Y_train.append(Y_all[:,i])\n",
    "            train_avg_powers.append(avg_powers_all[i])\n",
    "        j = j + 1\n",
    "    X_test = np.array(X_test)\n",
    "    Y_test = np.array(Y_test)\n",
    "    X_train = np.array(X_train)\n",
    "    Y_train = np.array(Y_train)\n",
    "else:\n",
    "    X_test = X_all.T[:test_size,:]\n",
    "    Y_test = Y_all.T[:test_size,:]\n",
    "    test_avg_powers = avg_powers_all[:test_size]\n",
    "\n",
    "    X_train = X_all.T[test_size:,:]\n",
    "    Y_train = Y_all.T[test_size:,:]\n",
    "    train_avg_powers = avg_powers_all[test_size:]\n",
    "\n",
    "print(np.shape(X_train), np.shape(Y_train), np.shape(X_test), np.shape(Y_test))"
   ]
  },
  {
   "cell_type": "markdown",
   "id": "57c82c60-4c93-43c6-b402-c754f7868daa",
   "metadata": {
    "tags": []
   },
   "source": [
    "## Check Shuffle Maintained labelling"
   ]
  },
  {
   "cell_type": "code",
   "execution_count": null,
   "id": "e86ef8d3-6354-4d08-b208-d8e48805640c",
   "metadata": {},
   "outputs": [],
   "source": [
    "if run_shuffle:\n",
    "    ind = 0\n",
    "    ind_first = np.where(index_shuf == ind)\n",
    "    ind_first = np.squeeze(ind_first[0])\n",
    "\n",
    "    print(Y_all[:,ind])\n",
    "    intensity_map_normalized2 = uim.xtrain2imap(X_all[:,ind], LMAX, imap_nside, avg_powers_all[ind])\n",
    "    hp.mollview(intensity_map_normalized2, unit=\"Deviation from Mean\",flip=\"geo\")\n",
    "\n",
    "    if ind_first >= test_size:\n",
    "        i = ind_first-test_size\n",
    "        print(Y_train[i,:])\n",
    "        cdata = X_train[i,:]\n",
    "        apwrs = train_avg_powers[i]\n",
    "    else:\n",
    "        i = ind_first\n",
    "        print(Y_test[i,:])\n",
    "        cdata = X_test[i,:]\n",
    "        apwrs = test_avg_powers[i]\n",
    "    intensity_map_normalized2 = uim.xtrain2imap(cdata, LMAX, imap_nside, apwrs)\n",
    "    hp.mollview(intensity_map_normalized2, unit=\"Deviation from Mean\",flip=\"geo\")"
   ]
  },
  {
   "cell_type": "markdown",
   "id": "b33fa8c7-5159-47ec-bc46-7850318eb5a3",
   "metadata": {},
   "source": [
    "## Normalize"
   ]
  },
  {
   "cell_type": "code",
   "execution_count": null,
   "id": "adf0d0ea-d714-4f66-8176-b3a1b3c61804",
   "metadata": {},
   "outputs": [],
   "source": [
    "mu = np.mean(X_train)\n",
    "sigma = np.std(X_train)\n",
    "\n",
    "X_train = (X_train - mu) / sigma\n",
    "X_test = (X_test - mu) / sigma\n",
    "\n",
    "print(np.std(X_train), np.std(X_test))"
   ]
  },
  {
   "cell_type": "markdown",
   "id": "bb279fd2-8b48-4aa9-aed9-4c3b26e8e6b8",
   "metadata": {},
   "source": [
    "# Neural Network"
   ]
  },
  {
   "cell_type": "code",
   "execution_count": null,
   "id": "6a12d90c-894b-47b5-b0d9-3eef77122438",
   "metadata": {},
   "outputs": [],
   "source": [
    "import tf_neural_network as tfnn\n",
    "import matplotlib.pyplot as plt\n",
    "import nn_plots as nnp"
   ]
  },
  {
   "cell_type": "code",
   "execution_count": null,
   "id": "be00bf58-ed71-4da6-bcb4-f4a2bd788bca",
   "metadata": {},
   "outputs": [],
   "source": [
    "filename_nn_weights = \"neural_network_weights\"\n",
    "input_size = num_coeff * 2\n",
    "output_size = num_output\n",
    "lr = 0.001\n",
    "num_epochs = 100\n",
    "costs = []\n",
    "train_acc = []\n",
    "test_acc = []\n",
    "epochs = []\n",
    "hidden_units1 = 25\n",
    "hidden_units2 = 20"
   ]
  },
  {
   "cell_type": "code",
   "execution_count": null,
   "id": "065fe768-98be-410a-885b-a8c24d68fede",
   "metadata": {},
   "outputs": [],
   "source": [
    "parameters, costs, train_acc, test_acc, epochs = tfnn.model_wrapper(X_train, Y_train, X_test, Y_test, learning_rate = lr, num_epochs = num_epochs, hidden_units1=hidden_units1, hidden_units2=hidden_units2)\n",
    "nrw.save_nn_weights(parameters, filename_nn_weights)"
   ]
  },
  {
   "cell_type": "code",
   "execution_count": null,
   "id": "412a7835-209f-46a9-bb26-44b8dd7e3d4a",
   "metadata": {},
   "outputs": [],
   "source": [
    "nnp.plotting(epochs, costs, train_acc, test_acc, lr)"
   ]
  },
  {
   "cell_type": "markdown",
   "id": "e9e8ebc0-135e-4a3f-9b9c-bd85e88d5717",
   "metadata": {},
   "source": [
    "## Open NN Weights"
   ]
  },
  {
   "cell_type": "code",
   "execution_count": null,
   "id": "2b2dfe5e-e3e5-4b00-a6cc-98760f1a79ed",
   "metadata": {},
   "outputs": [],
   "source": [
    "parameters = nrw.read_nn_weights(filename_nn_weights)"
   ]
  },
  {
   "cell_type": "markdown",
   "id": "25c58f39-073a-4d71-bad6-161cbc0dd829",
   "metadata": {},
   "source": [
    "## Restart Training"
   ]
  },
  {
   "cell_type": "code",
   "execution_count": null,
   "id": "05dfb5bd-89b5-4232-80ce-d323f2690f8e",
   "metadata": {},
   "outputs": [],
   "source": [
    "start_epoch = num_epochs\n",
    "num_epochs = 1000\n",
    "\n",
    "parameters, costs2, train_acc2, test_acc2, epochs2 = tfnn.model_wrapper(X_train, Y_train, X_test, Y_test, learning_rate = lr, num_epochs = num_epochs, start_epoch = start_epoch, nn_weights = parameters)\n",
    "nrw.save_nn_weights(parameters, filename_nn_weights)\n",
    "\n",
    "costs = np.append(costs, costs2)\n",
    "train_acc = np.append(train_acc, train_acc2)\n",
    "test_acc = np.append(test_acc, test_acc2)\n",
    "epochs = np.append(epochs, epochs2)"
   ]
  },
  {
   "cell_type": "code",
   "execution_count": null,
   "id": "446f24be-a0a8-4988-9bcb-bd1895354639",
   "metadata": {},
   "outputs": [],
   "source": [
    "nnp.plotting(epochs, costs, train_acc, test_acc, lr)"
   ]
  },
  {
   "cell_type": "markdown",
   "id": "265eb6e1-9afc-40e0-8b93-86ad460452bb",
   "metadata": {},
   "source": [
    "## Apply NN"
   ]
  },
  {
   "cell_type": "code",
   "execution_count": null,
   "id": "36bdd7e5-249b-4b59-88cf-c79b620485e1",
   "metadata": {},
   "outputs": [],
   "source": [
    "ie = 0\n",
    "\n",
    "x_test = np.reshape(X_test[ie,:], (-1,input_size))\n",
    "y_true = np.squeeze(Y_test[ie,:])\n",
    "\n",
    "y_pred = tfnn.apply_network(x_test, parameters)\n",
    "y_pred = np.squeeze(y_pred)\n",
    "print(y_pred)\n",
    "print(y_true)\n",
    "print((np.abs(y_true - y_pred)) / y_true * 100)\n",
    "print(np.mean((np.abs(y_true - y_pred)) / y_true * 100))"
   ]
  }
 ],
 "metadata": {
  "kernelspec": {
   "display_name": "Python 3 (ipykernel)",
   "language": "python",
   "name": "python3"
  },
  "language_info": {
   "codemirror_mode": {
    "name": "ipython",
    "version": 3
   },
   "file_extension": ".py",
   "mimetype": "text/x-python",
   "name": "python",
   "nbconvert_exporter": "python",
   "pygments_lexer": "ipython3",
   "version": "3.9.7"
  }
 },
 "nbformat": 4,
 "nbformat_minor": 5
}
