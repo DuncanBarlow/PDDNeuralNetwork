{
 "cells": [
  {
   "cell_type": "code",
   "execution_count": null,
   "id": "213aa934-414c-4985-8e98-6cccafbe8a7a",
   "metadata": {},
   "outputs": [],
   "source": [
    "import numpy as np\n",
    "import training_data_generation as tdg\n",
    "import matplotlib.pyplot as plt\n",
    "%matplotlib inline\n",
    "num_examples = 10\n",
    "run_dir = \"Data\""
   ]
  },
  {
   "cell_type": "markdown",
   "id": "8a2a3408-6a59-4b28-bf5b-8212f4b7142c",
   "metadata": {
    "jp-MarkdownHeadingCollapsed": true,
    "tags": []
   },
   "source": [
    "# Generate and Save Training Data"
   ]
  },
  {
   "cell_type": "code",
   "execution_count": null,
   "id": "003b0786-34fb-4dcd-9df2-f351016e6ed3",
   "metadata": {},
   "outputs": [],
   "source": [
    "dataset_params, sys_params, facility_spec = tdg.main((_, run_dir, num_examples))"
   ]
  },
  {
   "cell_type": "markdown",
   "id": "1638f51b-5ee7-41e1-b4e6-709e6d6a8353",
   "metadata": {
    "jp-MarkdownHeadingCollapsed": true,
    "tags": []
   },
   "source": [
    "# Diagnostic"
   ]
  },
  {
   "cell_type": "code",
   "execution_count": null,
   "id": "c815b9a9-0b10-4ab1-b8c9-a5883639828a",
   "metadata": {},
   "outputs": [],
   "source": [
    "import healpy as hp\n",
    "import utils_intensity_map as uim\n",
    "import utils_deck_generation as idg\n",
    "import netcdf_read_write as nrw\n",
    "import training_data_generation as tdg\n",
    "# sys_params[\"run_clean\"] must be false before run for diagnostic"
   ]
  },
  {
   "cell_type": "code",
   "execution_count": null,
   "id": "257f48cf-98dd-47d2-9ff4-85ac31888714",
   "metadata": {},
   "outputs": [],
   "source": [
    "diag_dir = \"Data\"\n",
    "\n",
    "sys_params = tdg.define_system_params(diag_dir)\n",
    "sys_params[\"root_dir\"] = diag_dir\n",
    "sys_params[\"run_gen_deck\"] = False\n",
    "dataset_params, facility_spec = tdg.define_dataset_params(int(num_examples))\n",
    "dataset_params = idg.create_run_files(dataset_params, sys_params, facility_spec)\n",
    "iex = 0\n",
    "\n",
    "run_location = sys_params[\"root_dir\"] + \"/\" + sys_params[\"sim_dir\"] + str(iex)\n",
    "theta_slice = slice(0,29,4)\n",
    "phi_slice   = slice(1,30,4)\n",
    "power_slice = slice(3,32,4)\n",
    "\n",
    "cone_theta_offset = dataset_params[\"sim_params\"][theta_slice,iex]\n",
    "cone_phi_offset = dataset_params[\"sim_params\"][phi_slice,iex]\n",
    "cone_powers = dataset_params[\"sim_params\"][power_slice,iex]\n",
    "\n",
    "beams_prev = 0\n",
    "beams_tot = 0\n",
    "total_power = 0\n",
    "for icone in range(facility_spec['num_cones']):\n",
    "    beams_per_cone = facility_spec['beams_per_cone'][icone]\n",
    "    beams_tot += beams_per_cone\n",
    "    total_power += cone_powers[icone] * beams_per_cone\n",
    "    beams_prev += beams_per_cone\n",
    "mean_power_fraction = total_power / facility_spec['nbeams']\n",
    "\n",
    "intensity_map = nrw.read_intensity(run_location, dataset_params[\"imap_nside\"])\n",
    "intensity_map_rms_spatial = uim.readout_intensity(facility_spec, intensity_map, mean_power_fraction)\n",
    "\n",
    "hp.mollview(intensity_map,unit=r\"$\\rm{W/cm^2}$\",flip=\"geo\")\n",
    "hp.graticule()\n",
    "port_theta = facility_spec[\"Port_centre_theta\"]\n",
    "port_phi = facility_spec[\"Port_centre_phi\"]\n",
    "hp.projscatter(port_theta, port_phi)\n",
    "hp.projscatter(dataset_params[\"theta_pointings\"][:,iex], dataset_params[\"phi_pointings\"][:,iex])\n",
    "plt.savefig(sys_params[\"figure_location\"]+'/intensity_mollweide_original'+str(iex)+'.png', dpi=300, bbox_inches='tight')"
   ]
  },
  {
   "cell_type": "code",
   "execution_count": null,
   "id": "59ae723c-a865-4f85-b9cf-700a9579ec2b",
   "metadata": {},
   "outputs": [],
   "source": [
    "hp.mollview(intensity_map_rms_spatial, unit=\"Deviation from mean (%)\",flip=\"geo\")\n",
    "plt.savefig(sys_params[\"figure_location\"]+'/deviation_from_mean_mollweide.png', dpi=300, bbox_inches='tight')\n",
    "hp.graticule()"
   ]
  },
  {
   "cell_type": "code",
   "execution_count": null,
   "id": "965c23e0-5a36-4d67-babd-62644b2fc54a",
   "metadata": {},
   "outputs": [],
   "source": [
    "LMAX = dataset_params[\"LMAX\"]\n",
    "power_spectrum_unweighted, power_spectrum_weighted = uim.power_spectrum(intensity_map, LMAX)\n",
    "x_max = 20\n",
    "\n",
    "fig = plt.figure()\n",
    "ax = plt.axes()\n",
    "plt.plot(np.arange(LMAX), power_spectrum_unweighted * 100.0)\n",
    "ax.set_xticks(range(0, LMAX+1, int(LMAX/5)))\n",
    "plt.xlim([0, x_max])\n",
    "plt.title(\"Unweighted Modes\")\n",
    "plt.xlabel(\"l mode\")\n",
    "plt.ylabel(r\"amplitude ($\\%$)\")\n",
    "plt.savefig(sys_params[\"figure_location\"]+\"/unweighted_modes_original\"+str(iex)+\".png\", dpi=300, bbox_inches='tight')\n",
    "\n",
    "fig = plt.figure()\n",
    "ax = plt.axes()\n",
    "plt.plot(np.arange(LMAX), power_spectrum_weighted * 100.0)\n",
    "ax.set_xticks(range(0, LMAX+1, int(LMAX/5)))\n",
    "plt.xlim([0, x_max])\n",
    "plt.title(\"Weighted Modes\")\n",
    "plt.xlabel(\"l mode\")\n",
    "plt.ylabel(r\"amplitude ($\\%$)\")\n",
    "plt.savefig(sys_params[\"figure_location\"]+\"/weighted_modes.png\", dpi=300, bbox_inches='tight')"
   ]
  },
  {
   "cell_type": "code",
   "execution_count": null,
   "id": "e5a4c119-b464-4f3a-a528-dd4b8c9155cf",
   "metadata": {},
   "outputs": [],
   "source": [
    "intensity_map_normalized, avg_power = uim.imap_norm(intensity_map)\n",
    "hp.mollview(intensity_map_normalized, unit=\"Deviation from Mean\", flip=\"geo\")\n",
    "\n",
    "X_train = uim.imap2xtrain(intensity_map_normalized, LMAX, avg_power)\n",
    "intensity_map_normalized2 = uim.xtrain2imap(X_train, LMAX, dataset_params[\"imap_nside\"], avg_power)\n",
    "hp.mollview(intensity_map_normalized2, unit=\"Deviation from Mean\",flip=\"geo\")"
   ]
  },
  {
   "cell_type": "markdown",
   "id": "f8364953-8f8f-4b68-9f90-a32ecd5de19c",
   "metadata": {
    "jp-MarkdownHeadingCollapsed": true,
    "tags": []
   },
   "source": [
    "# Combine Datasets"
   ]
  },
  {
   "cell_type": "code",
   "execution_count": null,
   "id": "f3ca18ad-2050-4a3c-9c6c-924a951feb15",
   "metadata": {},
   "outputs": [],
   "source": [
    "from netCDF4 import Dataset\n",
    "from os import path\n",
    "import os\n",
    "import numpy as np"
   ]
  },
  {
   "cell_type": "code",
   "execution_count": null,
   "id": "d7f61a17-aa37-47bc-8e99-3262fdc70b52",
   "metadata": {},
   "outputs": [],
   "source": [
    "dataset1 = \"Data1\"\n",
    "dataset2 = \"Data2\"\n",
    "\n",
    "new_file = \"Data3\"\n",
    "\n",
    "filename_trainingdata = dataset1 + \"/\" + sys_params[\"trainingdata_filename\"] \n",
    "training_data = Dataset(filename_trainingdata)\n",
    "X_1 = training_data.variables[\"X_train\"][:]\n",
    "Y_1 = training_data.variables[\"Y_train\"][:]\n",
    "avg_powers_1 = training_data.variables[\"avg_powers\"][:]\n",
    "training_data.close()\n",
    "\n",
    "filename_trainingdata = dataset2 + \"/\" + sys_params[\"trainingdata_filename\"] \n",
    "training_data = Dataset(filename_trainingdata)\n",
    "X_2 = training_data.variables[\"X_train\"][:]\n",
    "Y_2 = training_data.variables[\"Y_train\"][:]\n",
    "avg_powers_2 = training_data.variables[\"avg_powers\"][:]\n",
    "training_data.close()\n",
    "\n",
    "X_train = np.hstack((X_1, X_2))\n",
    "Y_train = np.hstack((Y_1, Y_2))\n",
    "avg_powers = np.hstack((avg_powers_1, avg_powers_2))\n",
    "print(np.shape(X_train), np.shape(Y_train), np.shape(avg_powers))\n",
    "\n",
    "filename_trainingdata = new_file + \"/\" + sys_params[\"trainingdata_filename\"] \n",
    "nrw.save_training_data(X_train, Y_train, avg_powers, filename_trainingdata)"
   ]
  },
  {
   "cell_type": "markdown",
   "id": "bb279fd2-8b48-4aa9-aed9-4c3b26e8e6b8",
   "metadata": {
    "tags": []
   },
   "source": [
    "# Neural Network"
   ]
  },
  {
   "cell_type": "code",
   "execution_count": null,
   "id": "de6da9c7-8191-482e-b0ab-d13f829a9c77",
   "metadata": {},
   "outputs": [],
   "source": [
    "import neural_network_generation as nng\n",
    "num_epochs = 100\n",
    "num_nn = 1"
   ]
  },
  {
   "cell_type": "code",
   "execution_count": null,
   "id": "40bdaf13-ba04-4d45-9497-eeed75253eba",
   "metadata": {},
   "outputs": [],
   "source": [
    "nn_params, nn_dataset, sys_params, nn_hyperparams = nng.main((_, run_dir, num_epochs, num_nn))"
   ]
  },
  {
   "cell_type": "code",
   "execution_count": null,
   "id": "ca83dee1-93b7-441b-b51d-3edb0ff82602",
   "metadata": {},
   "outputs": [],
   "source": [
    "fig = plt.figure()\n",
    "ax1 = plt.axes()\n",
    "ax1.plot(nn_hyperparams[\"initialize_seed\"], nn_hyperparams[\"test_acc\"], \"x\")\n",
    "ax1.set_ylabel('Absolute Test Accuracy')\n",
    "ax1.set_xlabel('Neural Network Random Seed')"
   ]
  },
  {
   "cell_type": "markdown",
   "id": "02ea891e-857c-41f2-a1b2-f8bf873ee386",
   "metadata": {
    "jp-MarkdownHeadingCollapsed": true,
    "tags": []
   },
   "source": [
    "## Compare NN"
   ]
  },
  {
   "cell_type": "code",
   "execution_count": null,
   "id": "baf11021-9c18-421d-9373-d4ee4f9a22e2",
   "metadata": {},
   "outputs": [],
   "source": [
    "import netcdf_read_write as nrw"
   ]
  },
  {
   "cell_type": "code",
   "execution_count": null,
   "id": "19ce9079-4973-47ee-90a4-d0b976b7f377",
   "metadata": {},
   "outputs": [],
   "source": [
    "filename_hyperparams = nn_params[\"dir_nn_weights\"] + \"/\" + nn_params[\"filename_hyperparams\"]\n",
    "nn_hyperparams = nrw.read_nn_weights(filename_hyperparams)\n",
    "\n",
    "fig = plt.figure()\n",
    "ax1 = plt.axes()\n",
    "ax1.plot(nn_hyperparams[\"initialize_seed\"], nn_hyperparams[\"test_acc\"], \"x\")\n",
    "ax1.set_ylabel('Absolute Test Accuracy')\n",
    "ax1.set_xlabel('Random Seed')"
   ]
  },
  {
   "cell_type": "markdown",
   "id": "262af551-6a7e-4f2b-8984-2b9bc03a346a",
   "metadata": {
    "jp-MarkdownHeadingCollapsed": true,
    "tags": []
   },
   "source": [
    "## Compare NN accuracy from weights"
   ]
  },
  {
   "cell_type": "code",
   "execution_count": null,
   "id": "f4cd0d39-0ebb-4639-b78d-d7b9fbce786b",
   "metadata": {},
   "outputs": [],
   "source": [
    "import tf_neural_network as tfnn\n",
    "import netcdf_read_write as nrw\n",
    "import neural_network_generation as nng"
   ]
  },
  {
   "cell_type": "code",
   "execution_count": null,
   "id": "93b05412-ffe3-435b-9265-afc09868a1a8",
   "metadata": {},
   "outputs": [],
   "source": [
    "num_nn = 1\n",
    "initialize_seed = np.arange(num_nn)\n",
    "test_acc = np.zeros(num_nn)\n",
    "\n",
    "sys_params = tdg.define_system_params(run_dir)\n",
    "nn_params = nng.define_nn_params(num_nn)\n",
    "X_all, Y_all, avg_powers_all, nn_params = nng.import_training_data(nn_params, sys_params)\n",
    "nn_params[\"test_fraction\"] = 0.0\n",
    "nn_params[\"test_size\"] = 0\n",
    "nn_dataset = nng.seperate_test_set(X_all, Y_all, avg_powers_all, nn_params)\n",
    "nn_dataset = nng.normalise(nn_dataset)\n",
    "\n",
    "for inn in range(num_nn):\n",
    "    nn_weights = nrw.read_nn_weights(nn_params[\"dir_nn_weights\"] + \"/\" + \"NN\" + str(inn))\n",
    "    y_pred = tfnn.apply_network(nn_dataset[\"X_train\"], nn_weights)\n",
    "    test_acc[inn] = np.mean(np.abs(nn_dataset[\"Y_train\"] - y_pred.T))\n",
    "\n",
    "fig = plt.figure()\n",
    "ax1 = plt.axes()\n",
    "ax1.plot(initialize_seed, test_acc, \"x\")\n",
    "ax1.set_ylabel('Absolute Test Accuracy')\n",
    "ax1.set_xlabel('Neural Network Random Seed')\n",
    "plt.savefig(sys_params[\"figure_location\"]+'/Compare_NN.png', dpi=300, bbox_inches='tight')"
   ]
  },
  {
   "cell_type": "markdown",
   "id": "5b51179e-499f-4223-966d-197c700663c5",
   "metadata": {
    "jp-MarkdownHeadingCollapsed": true,
    "tags": []
   },
   "source": [
    "# Run Prediction Through Ifriit"
   ]
  },
  {
   "cell_type": "code",
   "execution_count": null,
   "id": "be8a7bf3-10c4-486c-90a8-b724d9b9f717",
   "metadata": {},
   "outputs": [],
   "source": [
    "import matplotlib.pyplot as plt\n",
    "import healpy as hp\n",
    "import tf_neural_network as tfnn\n",
    "import netcdf_read_write as nrw\n",
    "import utils_deck_generation as idg\n",
    "import training_data_generation as tdg\n",
    "import utils_intensity_map as uim\n",
    "import neural_network_generation as nng\n",
    "%matplotlib inline\n",
    "num_epochs = 10\n",
    "num_nn = -1"
   ]
  },
  {
   "cell_type": "code",
   "execution_count": null,
   "id": "1692c090-ec2a-4393-ab0e-eade2a85348c",
   "metadata": {},
   "outputs": [],
   "source": [
    "inn = 0\n",
    "num_nn = 1\n",
    "nn_params = nng.define_nn_params(num_nn)\n",
    "test_pred_dir = \"Data_test_pred_1\"\n",
    "\n",
    "# choose neural network\n",
    "nn_weights = nrw.read_nn_weights(nn_params[\"dir_nn_weights\"] + \"/\" + \"NN\" + str(inn))\n",
    "\n",
    "# choose test data set\n",
    "sys_params = tdg.define_system_params(\"Data\")\n",
    "nn_params = nng.define_nn_params(num_nn)\n",
    "X_all, Y_all, avg_powers_all, nn_params = nng.import_training_data(nn_params, sys_params)\n",
    "nn_params[\"test_fraction\"] = 0.0\n",
    "nn_params[\"test_size\"] = 0\n",
    "nn_dataset = nng.seperate_test_set(X_all, Y_all, avg_powers_all, nn_params)\n",
    "nn_dataset = nng.normalise(nn_dataset)\n",
    "dataset_params, facility_spec = tdg.define_dataset_params(nn_params[\"num_examples\"])\n",
    "dataset_params[\"Y_train\"] = nn_dataset[\"Y_train\"].T\n",
    "y_true = dataset_params[\"Y_train\"]\n",
    "\n",
    "# apply neural net to test set\n",
    "sys_params = tdg.define_system_params(test_pred_dir)\n",
    "y_pred = tfnn.apply_network(nn_dataset[\"X_train\"], nn_weights)\n",
    "dataset_params[\"Y_train\"] = y_pred\n",
    "\n",
    "print(\"The absolute error is: \", np.mean(np.abs(y_true - y_pred)))\n",
    "print(\"The percentage relative error is: \", np.mean((np.abs(y_true - y_pred)) / y_true) * 100, \"%\")"
   ]
  },
  {
   "cell_type": "code",
   "execution_count": null,
   "id": "5232b41d-5874-4854-9523-670ec66e8ac9",
   "metadata": {},
   "outputs": [],
   "source": [
    "# Create new run files\n",
    "sys_params[\"run_clean\"] = False\n",
    "dataset_params = idg.create_run_files(dataset_params, sys_params, facility_spec)\n",
    "tdg.generate_training_data(dataset_params, sys_params, facility_spec)"
   ]
  },
  {
   "cell_type": "code",
   "execution_count": null,
   "id": "44c2aad1-7604-4474-abd4-d053bb74157f",
   "metadata": {},
   "outputs": [],
   "source": [
    "sys_params = tdg.define_system_params(test_pred_dir)\n",
    "sys_params[\"run_gen_deck\"] = False\n",
    "dataset_params = idg.create_run_files(dataset_params, sys_params, facility_spec)\n",
    "# plot comparison\n",
    "iex = 0\n",
    "\n",
    "run_location = sys_params[\"root_dir\"] + \"/\" + sys_params[\"sim_dir\"] + str(iex)\n",
    "theta_slice = slice(0,29,4)\n",
    "phi_slice   = slice(1,30,4)\n",
    "power_slice = slice(3,32,4)\n",
    "\n",
    "cone_theta_offset = dataset_params[\"sim_params\"][theta_slice,iex]\n",
    "cone_phi_offset = dataset_params[\"sim_params\"][phi_slice,iex]\n",
    "cone_powers = dataset_params[\"sim_params\"][power_slice,iex]\n",
    "\n",
    "beams_prev = 0\n",
    "beams_tot = 0\n",
    "total_power = 0\n",
    "for icone in range(facility_spec['num_cones']):\n",
    "    beams_per_cone = facility_spec['beams_per_cone'][icone]\n",
    "    beams_tot += beams_per_cone\n",
    "    total_power += cone_powers[icone] * beams_per_cone\n",
    "    beams_prev += beams_per_cone\n",
    "mean_power_fraction = total_power / facility_spec['nbeams']\n",
    "\n",
    "intensity_map = nrw.read_intensity(run_location, dataset_params[\"imap_nside\"])\n",
    "intensity_map_rms_spatial = uim.readout_intensity(facility_spec, intensity_map, mean_power_fraction)\n",
    "\n",
    "hp.mollview(intensity_map,unit=r\"$\\rm{W/cm^2}$\",flip=\"geo\")\n",
    "hp.graticule()\n",
    "port_theta = facility_spec[\"Port_centre_theta\"]\n",
    "port_phi = facility_spec[\"Port_centre_phi\"]\n",
    "hp.projscatter(port_theta, port_phi)\n",
    "hp.projscatter(dataset_params[\"theta_pointings\"][:,iex], dataset_params[\"phi_pointings\"][:,iex])\n",
    "plt.savefig(sys_params[\"figure_location\"]+'/intensity_mollweide_nn'+ str(iex) +'.png', dpi=300, bbox_inches='tight')"
   ]
  },
  {
   "cell_type": "code",
   "execution_count": null,
   "id": "66b62164-d8de-4f54-be3e-1a97a064cf7c",
   "metadata": {},
   "outputs": [],
   "source": [
    "LMAX = dataset_params[\"LMAX\"]\n",
    "power_spectrum_unweighted, power_spectrum_weighted = uim.power_spectrum(intensity_map, LMAX)\n",
    "x_max = 20\n",
    "\n",
    "fig = plt.figure()\n",
    "ax = plt.axes()\n",
    "plt.plot(np.arange(LMAX), power_spectrum_unweighted * 100.0)\n",
    "ax.set_xticks(range(0, LMAX+1, int(LMAX/5)))\n",
    "plt.xlim([0, x_max])\n",
    "plt.title(\"Unweighted Modes\")\n",
    "plt.xlabel(\"l mode\")\n",
    "plt.ylabel(r\"amplitude ($\\%$)\")\n",
    "plt.savefig(sys_params[\"figure_location\"]+\"/unweighted_modes_nn\"+ str(iex) +\".png\", dpi=300, bbox_inches='tight')\n",
    "\n",
    "fig = plt.figure()\n",
    "ax = plt.axes()\n",
    "plt.plot(np.arange(LMAX), power_spectrum_weighted * 100.0)\n",
    "ax.set_xticks(range(0, LMAX+1, int(LMAX/5)))\n",
    "plt.xlim([0, x_max])\n",
    "plt.title(\"Weighted Modes\")\n",
    "plt.xlabel(\"l mode\")\n",
    "plt.ylabel(r\"amplitude ($\\%$)\")\n",
    "plt.savefig(sys_params[\"figure_location\"]+\"/weighted_modes.png\", dpi=300, bbox_inches='tight')"
   ]
  },
  {
   "cell_type": "markdown",
   "id": "c4342d71-5259-4713-9617-7a8afe1fc32f",
   "metadata": {
    "jp-MarkdownHeadingCollapsed": true,
    "tags": []
   },
   "source": [
    "# Run PDD through NN"
   ]
  },
  {
   "cell_type": "code",
   "execution_count": null,
   "id": "a46a796c-497d-4c33-96c8-28649184f06c",
   "metadata": {},
   "outputs": [],
   "source": [
    "import matplotlib.pyplot as plt\n",
    "import healpy as hp\n",
    "import tf_neural_network as tfnn\n",
    "import netcdf_read_write as nrw\n",
    "import utils_deck_generation as idg\n",
    "import training_data_generation as tdg\n",
    "import utils_intensity_map as uim\n",
    "import neural_network_generation as nng\n",
    "import utils_intensity_map as uim\n",
    "%matplotlib inline\n",
    "num_epochs = 10\n",
    "num_examples = 1"
   ]
  },
  {
   "cell_type": "code",
   "execution_count": null,
   "id": "a893b857-3b3e-44f5-b437-88b3ab38ad4f",
   "metadata": {},
   "outputs": [],
   "source": [
    "imap_nside = 256\n",
    "LMAX = 30\n",
    "input_size = 992\n",
    "output_size = 16\n",
    "nif_pdd_dir = \"Data_pdd\"\n",
    "\n",
    "run_location = nif_pdd_dir + \"/run_0\"\n",
    "intensity_map = nrw.read_intensity(run_location, imap_nside)\n",
    "X_train, avg_powers_all = uim.create_xtrain(intensity_map, LMAX)\n",
    "X_all = np.reshape(X_train, (-1,input_size))\n",
    "Y_all = np.zeros(output_size)\n",
    "\n",
    "# choose neural network\n",
    "inn = 0\n",
    "num_nn = 1\n",
    "nn_weights = nrw.read_nn_weights(\"neural_network_weights\" + \"/\" + \"NN\" + str(inn))\n",
    "\n",
    "# param setup\n",
    "nif_pdd_pred_dir = \"Data_pdd_pred\"\n",
    "sys_params = tdg.define_system_params(nif_pdd_pred_dir)\n",
    "nn_params = nng.define_nn_params(num_nn)\n",
    "nn_params[\"test_fraction\"] = 0.0\n",
    "nn_params[\"test_size\"] = 0\n",
    "nn_dataset = nng.seperate_test_set(X_all, Y_all, avg_powers_all, nn_params)\n",
    "nn_dataset = nng.normalise(nn_dataset)\n",
    "\n",
    "y_pred = tfnn.apply_network(nn_dataset[\"X_train\"].T, nn_weights)\n",
    "print(y_pred)\n",
    "\n",
    "dataset_params, facility_spec = tdg.define_dataset_params(num_examples)\n",
    "dataset_params[\"Y_train\"] = y_pred"
   ]
  },
  {
   "cell_type": "code",
   "execution_count": null,
   "id": "50ea6769-e780-4fca-8384-895e06de53b3",
   "metadata": {},
   "outputs": [],
   "source": [
    "# Create new run files\n",
    "sys_params[\"run_clean\"] = False\n",
    "dataset_params = idg.create_run_files(dataset_params, sys_params, facility_spec)\n",
    "tdg.generate_training_data(dataset_params, sys_params, facility_spec)"
   ]
  },
  {
   "cell_type": "code",
   "execution_count": null,
   "id": "3384bae5-ab8c-49f2-9dc6-46315a06ded5",
   "metadata": {},
   "outputs": [],
   "source": [
    "sys_params = tdg.define_system_params(nif_pdd_pred_dir)\n",
    "sys_params[\"run_gen_deck\"] = False\n",
    "dataset_params = idg.create_run_files(dataset_params, sys_params, facility_spec)\n",
    "# plot comparison\n",
    "iex = 0\n",
    "\n",
    "run_location = sys_params[\"root_dir\"] + \"/\" + sys_params[\"sim_dir\"] + str(iex)\n",
    "theta_slice = slice(0,29,4)\n",
    "phi_slice   = slice(1,30,4)\n",
    "power_slice = slice(3,32,4)\n",
    "\n",
    "cone_theta_offset = dataset_params[\"sim_params\"][theta_slice,iex]\n",
    "cone_phi_offset = dataset_params[\"sim_params\"][phi_slice,iex]\n",
    "cone_powers = dataset_params[\"sim_params\"][power_slice,iex]\n",
    "\n",
    "beams_prev = 0\n",
    "beams_tot = 0\n",
    "total_power = 0\n",
    "for icone in range(facility_spec['num_cones']):\n",
    "    beams_per_cone = facility_spec['beams_per_cone'][icone]\n",
    "    beams_tot += beams_per_cone\n",
    "    total_power += cone_powers[icone] * beams_per_cone\n",
    "    beams_prev += beams_per_cone\n",
    "mean_power_fraction = total_power / facility_spec['nbeams']\n",
    "\n",
    "intensity_map = nrw.read_intensity(run_location, dataset_params[\"imap_nside\"])\n",
    "intensity_map_rms_spatial = uim.readout_intensity(facility_spec, intensity_map, mean_power_fraction)\n",
    "\n",
    "hp.mollview(intensity_map,unit=r\"$\\rm{W/cm^2}$\",flip=\"geo\")\n",
    "hp.graticule()\n",
    "port_theta = facility_spec[\"Port_centre_theta\"]\n",
    "port_phi = facility_spec[\"Port_centre_phi\"]\n",
    "hp.projscatter(port_theta, port_phi)\n",
    "hp.projscatter(dataset_params[\"theta_pointings\"][:,iex], dataset_params[\"phi_pointings\"][:,iex])\n",
    "plt.savefig(sys_params[\"figure_location\"]+'/intensity_mollweide_pred.png', dpi=300, bbox_inches='tight')"
   ]
  },
  {
   "cell_type": "code",
   "execution_count": null,
   "id": "63c1463b-be49-4c27-b1ac-652dd7281730",
   "metadata": {},
   "outputs": [],
   "source": [
    "LMAX = dataset_params[\"LMAX\"]\n",
    "power_spectrum_unweighted, power_spectrum_weighted = uim.power_spectrum(intensity_map, LMAX)\n",
    "x_max = 20\n",
    "\n",
    "fig = plt.figure()\n",
    "ax = plt.axes()\n",
    "plt.plot(np.arange(LMAX), power_spectrum_unweighted * 100.0)\n",
    "ax.set_xticks(range(0, LMAX+1, int(LMAX/5)))\n",
    "plt.xlim([0, x_max])\n",
    "plt.title(\"Unweighted Modes\")\n",
    "plt.xlabel(\"l mode\")\n",
    "plt.ylabel(r\"amplitude ($\\%$)\")\n",
    "plt.savefig(sys_params[\"figure_location\"]+\"/unweighted_modes_pred.png\", dpi=300, bbox_inches='tight')\n",
    "\n",
    "fig = plt.figure()\n",
    "ax = plt.axes()\n",
    "plt.plot(np.arange(LMAX), power_spectrum_weighted * 100.0)\n",
    "ax.set_xticks(range(0, LMAX+1, int(LMAX/5)))\n",
    "plt.xlim([0, x_max])\n",
    "plt.title(\"Weighted Modes\")\n",
    "plt.xlabel(\"l mode\")\n",
    "plt.ylabel(r\"amplitude ($\\%$)\")\n",
    "plt.savefig(sys_params[\"figure_location\"]+\"/weighted_modes.png\", dpi=300, bbox_inches='tight')"
   ]
  },
  {
   "cell_type": "code",
   "execution_count": null,
   "id": "29ee66ab-e9d7-4ab9-aa0d-87a3a1841cb3",
   "metadata": {},
   "outputs": [],
   "source": []
  }
 ],
 "metadata": {
  "kernelspec": {
   "display_name": "Python 3 (ipykernel)",
   "language": "python",
   "name": "python3"
  },
  "language_info": {
   "codemirror_mode": {
    "name": "ipython",
    "version": 3
   },
   "file_extension": ".py",
   "mimetype": "text/x-python",
   "name": "python",
   "nbconvert_exporter": "python",
   "pygments_lexer": "ipython3",
   "version": "3.9.7"
  }
 },
 "nbformat": 4,
 "nbformat_minor": 5
}
