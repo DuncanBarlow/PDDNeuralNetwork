{
 "cells": [
  {
   "cell_type": "code",
   "execution_count": null,
   "id": "14d7501d-bdf3-4c91-b16e-b766b3e5aa73",
   "metadata": {},
   "outputs": [],
   "source": [
    "import numpy as np\n",
    "import training_data_generation as tdg\n",
    "import matplotlib.pyplot as plt\n",
    "%matplotlib inline\n",
    "#plt.ion()\n",
    "num_examples = 10\n",
    "run_dir = \"Data\""
   ]
  },
  {
   "cell_type": "markdown",
   "id": "8a2a3408-6a59-4b28-bf5b-8212f4b7142c",
   "metadata": {
    "jp-MarkdownHeadingCollapsed": true,
    "tags": []
   },
   "source": [
    "# Generate and Save Training Data"
   ]
  },
  {
   "cell_type": "code",
   "execution_count": null,
   "id": "003b0786-34fb-4dcd-9df2-f351016e6ed3",
   "metadata": {},
   "outputs": [],
   "source": [
    "# Warning to save individual illumination data change \"sys_params[\"run_clean\"]\" to False in \"training_data_generation.py\"\n",
    "dataset_params, sys_params, facility_spec = tdg.main((_, run_dir, num_examples))"
   ]
  },
  {
   "cell_type": "markdown",
   "id": "1638f51b-5ee7-41e1-b4e6-709e6d6a8353",
   "metadata": {
    "jp-MarkdownHeadingCollapsed": true,
    "tags": []
   },
   "source": [
    "# Diagnostic"
   ]
  },
  {
   "cell_type": "code",
   "execution_count": null,
   "id": "c815b9a9-0b10-4ab1-b8c9-a5883639828a",
   "metadata": {},
   "outputs": [],
   "source": [
    "import healpy as hp\n",
    "import utils_intensity_map as uim\n",
    "import utils_deck_generation as idg\n",
    "import netcdf_read_write as nrw\n",
    "import training_data_generation as tdg\n",
    "import neural_network_generation as nng\n",
    "%matplotlib inline\n",
    "# sys_params[\"run_clean\"] must be false before run for diagnostic"
   ]
  },
  {
   "cell_type": "code",
   "execution_count": null,
   "id": "257f48cf-98dd-47d2-9ff4-85ac31888714",
   "metadata": {},
   "outputs": [],
   "source": [
    "diag_dir = \"Data\"\n",
    "iex = 0\n",
    "\n",
    "num_examples = 1\n",
    "sys_params = tdg.define_system_params(diag_dir)\n",
    "sys_params[\"run_gen_deck\"] = False\n",
    "num_nn = 1\n",
    "nn_params = nng.define_nn_params(num_nn)\n",
    "X_all, Y_all, avg_powers_all, nn_params = nng.import_training_data(nn_params, sys_params)\n",
    "dataset_params, facility_spec = tdg.define_dataset_params(int(num_examples))\n",
    "dataset_params[\"Y_train\"] = Y_all[:,iex]\n",
    "dataset_params = idg.create_run_files(dataset_params, sys_params, facility_spec)\n",
    "\n",
    "mean_power_fraction = uim.extract_run_parameters(dataset_params, facility_spec, sys_params)\n",
    "\n",
    "run_location = sys_params[\"root_dir\"] + \"/\" + sys_params[\"sim_dir\"] + str(iex)\n",
    "intensity_map = nrw.read_intensity(run_location, dataset_params[\"imap_nside\"])\n",
    "intensity_map_rms_spatial = uim.readout_intensity(facility_spec, intensity_map, mean_power_fraction)\n",
    "\n",
    "hp.mollview(intensity_map,unit=r\"$\\rm{W/cm^2}$\",flip=\"geo\")\n",
    "hp.graticule()\n",
    "port_theta = facility_spec[\"Port_centre_theta\"]\n",
    "port_phi = facility_spec[\"Port_centre_phi\"]\n",
    "hp.projscatter(port_theta, port_phi)\n",
    "hp.projscatter(np.squeeze(dataset_params[\"theta_pointings\"]), np.squeeze(dataset_params[\"phi_pointings\"]))\n",
    "plt.savefig(sys_params[\"figure_location\"]+'/intensity_mollweide_'+str(iex)+'original.png', dpi=300, bbox_inches='tight')"
   ]
  },
  {
   "cell_type": "code",
   "execution_count": null,
   "id": "d93c97cb-6228-4de9-b159-7c534259ed67",
   "metadata": {},
   "outputs": [],
   "source": [
    "hp.mollview(intensity_map_rms_spatial, unit=\"Deviation from mean (%)\",flip=\"geo\")\n",
    "plt.savefig(sys_params[\"figure_location\"]+'/deviation_from_mean_mollweide.png', dpi=300, bbox_inches='tight')\n",
    "hp.graticule()"
   ]
  },
  {
   "cell_type": "code",
   "execution_count": null,
   "id": "965c23e0-5a36-4d67-babd-62644b2fc54a",
   "metadata": {},
   "outputs": [],
   "source": [
    "LMAX = dataset_params[\"LMAX\"]\n",
    "power_spectrum_unweighted, power_spectrum_weighted = uim.power_spectrum(intensity_map, LMAX)\n",
    "x_max = LMAX\n",
    "\n",
    "fig = plt.figure()\n",
    "ax = plt.axes()\n",
    "plt.plot(np.arange(LMAX), power_spectrum_unweighted * 100.0)\n",
    "ax.set_xticks(range(0, LMAX+1, int(LMAX/5)))\n",
    "plt.xlim([0, x_max])\n",
    "plt.title(\"Unweighted Modes\")\n",
    "plt.xlabel(\"l mode\")\n",
    "plt.ylabel(r\"amplitude ($\\%$)\")\n",
    "plt.savefig(sys_params[\"figure_location\"]+\"/unweighted_modes_\"+str(iex)+\"original.png\", dpi=300, bbox_inches='tight')\n",
    "\n",
    "fig = plt.figure()\n",
    "ax = plt.axes()\n",
    "plt.plot(np.arange(LMAX), power_spectrum_weighted * 100.0)\n",
    "ax.set_xticks(range(0, LMAX+1, int(LMAX/5)))\n",
    "plt.xlim([0, x_max])\n",
    "plt.title(\"Weighted Modes\")\n",
    "plt.xlabel(\"l mode\")\n",
    "plt.ylabel(r\"amplitude ($\\%$)\")\n",
    "plt.savefig(sys_params[\"figure_location\"]+\"/weighted_modes.png\", dpi=300, bbox_inches='tight')"
   ]
  },
  {
   "cell_type": "code",
   "execution_count": null,
   "id": "e5a4c119-b464-4f3a-a528-dd4b8c9155cf",
   "metadata": {},
   "outputs": [],
   "source": [
    "intensity_map_normalized, avg_power = uim.imap_norm(intensity_map)\n",
    "hp.mollview(intensity_map_normalized, unit=\"Deviation from Mean\", flip=\"geo\")\n",
    "\n",
    "X_train = uim.imap2xtrain(intensity_map_normalized, LMAX, avg_power)\n",
    "intensity_map_normalized2 = uim.xtrain2imap(X_train, LMAX, dataset_params[\"imap_nside\"], avg_power)\n",
    "hp.mollview(intensity_map_normalized2, unit=\"Deviation from Mean\",flip=\"geo\")"
   ]
  },
  {
   "cell_type": "markdown",
   "id": "f8364953-8f8f-4b68-9f90-a32ecd5de19c",
   "metadata": {
    "jp-MarkdownHeadingCollapsed": true,
    "tags": []
   },
   "source": [
    "# Combine Datasets"
   ]
  },
  {
   "cell_type": "code",
   "execution_count": null,
   "id": "f3ca18ad-2050-4a3c-9c6c-924a951feb15",
   "metadata": {},
   "outputs": [],
   "source": [
    "from netCDF4 import Dataset\n",
    "from os import path\n",
    "import os\n",
    "import numpy as np\n",
    "import netcdf_read_write as nrw\n",
    "sys_params = tdg.define_system_params(run_dir)"
   ]
  },
  {
   "cell_type": "code",
   "execution_count": null,
   "id": "d7f61a17-aa37-47bc-8e99-3262fdc70b52",
   "metadata": {},
   "outputs": [],
   "source": [
    "dataset1 = \"Data1\"\n",
    "dataset2 = \"Data2\"\n",
    "\n",
    "new_file = \"Data3\"\n",
    "\n",
    "filename_trainingdata = dataset1 + \"/\" + sys_params[\"trainingdata_filename\"] \n",
    "training_data = Dataset(filename_trainingdata)\n",
    "X_1 = training_data.variables[\"X_train\"][:]\n",
    "Y_1 = training_data.variables[\"Y_train\"][:]\n",
    "avg_powers_1 = training_data.variables[\"avg_powers\"][:]\n",
    "training_data.close()\n",
    "\n",
    "filename_trainingdata = dataset2 + \"/\" + sys_params[\"trainingdata_filename\"] \n",
    "training_data = Dataset(filename_trainingdata)\n",
    "X_2 = training_data.variables[\"X_train\"][:]\n",
    "Y_2 = training_data.variables[\"Y_train\"][:]\n",
    "avg_powers_2 = training_data.variables[\"avg_powers\"][:]\n",
    "training_data.close()\n",
    "\n",
    "X_train = np.hstack((X_1, X_2))\n",
    "Y_train = np.hstack((Y_1, Y_2))\n",
    "avg_powers = np.hstack((avg_powers_1, avg_powers_2))\n",
    "print(np.shape(X_train), np.shape(Y_train), np.shape(avg_powers))\n",
    "\n",
    "filename_trainingdata = new_file + \"/\" + sys_params[\"trainingdata_filename\"] \n",
    "nrw.save_training_data(X_train, Y_train, avg_powers, filename_trainingdata)"
   ]
  },
  {
   "cell_type": "markdown",
   "id": "bb279fd2-8b48-4aa9-aed9-4c3b26e8e6b8",
   "metadata": {
    "jp-MarkdownHeadingCollapsed": true,
    "tags": []
   },
   "source": [
    "# Neural Network"
   ]
  },
  {
   "cell_type": "code",
   "execution_count": null,
   "id": "de6da9c7-8191-482e-b0ab-d13f829a9c77",
   "metadata": {},
   "outputs": [],
   "source": [
    "import neural_network_generation as nng\n",
    "num_epochs = 100\n",
    "num_nn = 1"
   ]
  },
  {
   "cell_type": "code",
   "execution_count": null,
   "id": "40bdaf13-ba04-4d45-9497-eeed75253eba",
   "metadata": {},
   "outputs": [],
   "source": [
    "nn_params, nn_dataset, sys_params, nn_hyperparams = nng.main((_, run_dir, num_epochs, num_nn))"
   ]
  },
  {
   "cell_type": "code",
   "execution_count": null,
   "id": "ca83dee1-93b7-441b-b51d-3edb0ff82602",
   "metadata": {},
   "outputs": [],
   "source": [
    "fig = plt.figure()\n",
    "ax1 = plt.axes()\n",
    "ax1.plot(nn_hyperparams[\"initialize_seed\"], nn_hyperparams[\"test_acc\"], \"x\")\n",
    "ax1.set_ylabel('Absolute Test Accuracy')\n",
    "ax1.set_xlabel('Neural Network Random Seed')"
   ]
  },
  {
   "cell_type": "markdown",
   "id": "02ea891e-857c-41f2-a1b2-f8bf873ee386",
   "metadata": {
    "jp-MarkdownHeadingCollapsed": true,
    "tags": []
   },
   "source": [
    "## Compare NN"
   ]
  },
  {
   "cell_type": "code",
   "execution_count": null,
   "id": "baf11021-9c18-421d-9373-d4ee4f9a22e2",
   "metadata": {},
   "outputs": [],
   "source": [
    "import netcdf_read_write as nrw"
   ]
  },
  {
   "cell_type": "code",
   "execution_count": null,
   "id": "19ce9079-4973-47ee-90a4-d0b976b7f377",
   "metadata": {},
   "outputs": [],
   "source": [
    "filename_hyperparams = nn_params[\"dir_nn_weights\"] + \"/\" + nn_params[\"filename_hyperparams\"]\n",
    "nn_hyperparams = nrw.read_nn_weights(filename_hyperparams)\n",
    "\n",
    "fig = plt.figure()\n",
    "ax1 = plt.axes()\n",
    "ax1.plot(nn_hyperparams[\"initialize_seed\"], nn_hyperparams[\"test_acc\"], \"x\")\n",
    "ax1.set_ylabel('Absolute Test Accuracy')\n",
    "ax1.set_xlabel('Random Seed')"
   ]
  },
  {
   "cell_type": "markdown",
   "id": "262af551-6a7e-4f2b-8984-2b9bc03a346a",
   "metadata": {
    "jp-MarkdownHeadingCollapsed": true,
    "tags": []
   },
   "source": [
    "## Compare NN accuracy from weights"
   ]
  },
  {
   "cell_type": "code",
   "execution_count": null,
   "id": "cfc20971-38c5-4f6d-92b6-0e5d88888043",
   "metadata": {},
   "outputs": [],
   "source": [
    "import tf_neural_network as tfnn\n",
    "import netcdf_read_write as nrw\n",
    "import neural_network_generation as nng"
   ]
  },
  {
   "cell_type": "code",
   "execution_count": null,
   "id": "bc40e807-b330-4193-a955-8a030efc408b",
   "metadata": {},
   "outputs": [],
   "source": [
    "num_nn = 1"
   ]
  },
  {
   "cell_type": "code",
   "execution_count": null,
   "id": "93b05412-ffe3-435b-9265-afc09868a1a8",
   "metadata": {},
   "outputs": [],
   "source": [
    "initialize_seed = np.arange(num_nn)\n",
    "test_acc = np.zeros(num_nn)\n",
    "\n",
    "sys_params = tdg.define_system_params(run_dir)\n",
    "nn_params = nng.define_nn_params(num_nn)\n",
    "filename_hyperparams = nn_params[\"dir_nn_weights\"] + \"/\" + nn_params[\"filename_hyperparams\"]\n",
    "nn_hyperparams = nrw.read_nn_weights(filename_hyperparams)\n",
    "X_all, Y_all, avg_powers_all, nn_params = nng.import_training_data(nn_params, sys_params)\n",
    "#nn_params[\"test_fraction\"] = 0.0\n",
    "#nn_params[\"test_size\"] = 0\n",
    "\n",
    "for inn in range(num_nn):\n",
    "    nn_dataset = nng.seperate_test_set(X_all, Y_all, avg_powers_all, nn_params)\n",
    "    nn_dataset = nng.normalise(nn_dataset, mean=nn_hyperparams[\"mu\"][inn], std_dev=nn_hyperparams[\"sigma\"][inn])\n",
    "    nn_weights = nrw.read_nn_weights(nn_params[\"dir_nn_weights\"] + \"/\" + \"NN\" + str(inn))\n",
    "    y_pred = tfnn.apply_network(nn_dataset[\"X_test\"], nn_weights)\n",
    "    test_acc[inn] = np.mean(np.abs(nn_dataset[\"Y_test\"] - y_pred.T))\n",
    "\n",
    "fig = plt.figure()\n",
    "ax1 = plt.axes()\n",
    "ax1.plot(initialize_seed, test_acc, \"x\")\n",
    "ax1.set_ylabel('Absolute Test Accuracy')\n",
    "ax1.set_xlabel('Neural Network Random Seed')\n",
    "plt.savefig(sys_params[\"figure_location\"]+'/Compare_NN.png', dpi=300, bbox_inches='tight')"
   ]
  },
  {
   "cell_type": "markdown",
   "id": "5b51179e-499f-4223-966d-197c700663c5",
   "metadata": {
    "jp-MarkdownHeadingCollapsed": true,
    "tags": []
   },
   "source": [
    "# Run Prediction Through Ifriit"
   ]
  },
  {
   "cell_type": "code",
   "execution_count": null,
   "id": "be8a7bf3-10c4-486c-90a8-b724d9b9f717",
   "metadata": {},
   "outputs": [],
   "source": [
    "import matplotlib.pyplot as plt\n",
    "import healpy as hp\n",
    "import tf_neural_network as tfnn\n",
    "import netcdf_read_write as nrw\n",
    "import utils_deck_generation as idg\n",
    "import training_data_generation as tdg\n",
    "import utils_intensity_map as uim\n",
    "import neural_network_generation as nng\n",
    "%matplotlib inline\n",
    "num_epochs = 10"
   ]
  },
  {
   "cell_type": "code",
   "execution_count": null,
   "id": "1692c090-ec2a-4393-ab0e-eade2a85348c",
   "metadata": {},
   "outputs": [],
   "source": [
    "test_pred_dir = \"Data_test_pred_1\"\n",
    "\n",
    "# choose neural network\n",
    "inn = 0\n",
    "num_nn = 1\n",
    "nn_params = nng.define_nn_params(num_nn)\n",
    "nn_weights = nrw.read_nn_weights(nn_params[\"dir_nn_weights\"] + \"/\" + \"NN\" + str(inn))\n",
    "filename_hyperparams = nn_params[\"dir_nn_weights\"] + \"/\" + nn_params[\"filename_hyperparams\"]\n",
    "nn_hyperparams = nrw.read_nn_weights(filename_hyperparams)\n",
    "\n",
    "# choose test data set\n",
    "sys_params = tdg.define_system_params(\"Data\")\n",
    "nn_params = nng.define_nn_params(num_nn)\n",
    "X_all, Y_all, avg_powers_all, nn_params = nng.import_training_data(nn_params, sys_params)\n",
    "nn_params[\"test_fraction\"] = 0.0\n",
    "nn_params[\"test_size\"] = 0\n",
    "nn_dataset = nng.seperate_test_set(X_all, Y_all, avg_powers_all, nn_params)\n",
    "\n",
    "nn_dataset = nng.normalise(nn_dataset, mean=nn_hyperparams[\"mu\"][inn], std_dev=nn_hyperparams[\"sigma\"][inn])\n",
    "dataset_params, facility_spec = tdg.define_dataset_params(nn_params[\"num_examples\"])\n",
    "dataset_params[\"Y_train\"] = nn_dataset[\"Y_train\"].T\n",
    "y_true = dataset_params[\"Y_train\"]\n",
    "\n",
    "# apply neural net to test set\n",
    "sys_params = tdg.define_system_params(test_pred_dir)\n",
    "y_pred = tfnn.apply_network(nn_dataset[\"X_train\"], nn_weights)\n",
    "dataset_params[\"Y_train\"] = y_pred\n",
    "\n",
    "print(\"The absolute error is: \", np.mean(np.abs(y_true - y_pred)))\n",
    "print(\"The percentage relative error is: \", np.mean((np.abs(y_true - y_pred)) / y_true) * 100, \"%\")"
   ]
  },
  {
   "cell_type": "code",
   "execution_count": null,
   "id": "5232b41d-5874-4854-9523-670ec66e8ac9",
   "metadata": {},
   "outputs": [],
   "source": [
    "# Create new run files\n",
    "sys_params[\"run_clean\"] = False\n",
    "dataset_params = idg.create_run_files(dataset_params, sys_params, facility_spec)\n",
    "tdg.generate_training_data(dataset_params, sys_params, facility_spec)"
   ]
  },
  {
   "cell_type": "code",
   "execution_count": null,
   "id": "37df4c1e-fc68-4399-8ffd-cac730c3b602",
   "metadata": {},
   "outputs": [],
   "source": [
    "iex = 0\n",
    "\n",
    "num_examples = 1\n",
    "sys_params = tdg.define_system_params(test_pred_dir)\n",
    "sys_params[\"run_gen_deck\"] = False\n",
    "num_nn = 1\n",
    "nn_params = nng.define_nn_params(num_nn)\n",
    "X_all, Y_all, avg_powers_all, nn_params = nng.import_training_data(nn_params, sys_params)\n",
    "dataset_params, facility_spec = tdg.define_dataset_params(int(num_examples))\n",
    "dataset_params[\"Y_train\"] = Y_all[:,iex]\n",
    "dataset_params = idg.create_run_files(dataset_params, sys_params, facility_spec)\n",
    "\n",
    "mean_power_fraction = uim.extract_run_parameters(dataset_params, facility_spec, sys_params)\n",
    "\n",
    "run_location = sys_params[\"root_dir\"] + \"/\" + sys_params[\"sim_dir\"] + str(iex)\n",
    "intensity_map = nrw.read_intensity(run_location, dataset_params[\"imap_nside\"])\n",
    "intensity_map_rms_spatial = uim.readout_intensity(facility_spec, intensity_map, mean_power_fraction)\n",
    "\n",
    "hp.mollview(intensity_map,unit=r\"$\\rm{W/cm^2}$\",flip=\"geo\")\n",
    "hp.graticule()\n",
    "port_theta = facility_spec[\"Port_centre_theta\"]\n",
    "port_phi = facility_spec[\"Port_centre_phi\"]\n",
    "hp.projscatter(port_theta, port_phi)\n",
    "hp.projscatter(np.squeeze(dataset_params[\"theta_pointings\"]), np.squeeze(dataset_params[\"phi_pointings\"]))\n",
    "plt.savefig(sys_params[\"figure_location\"]+'/intensity_mollweide_'+ str(iex) +'nn.png', dpi=300, bbox_inches='tight')"
   ]
  },
  {
   "cell_type": "code",
   "execution_count": null,
   "id": "66b62164-d8de-4f54-be3e-1a97a064cf7c",
   "metadata": {},
   "outputs": [],
   "source": [
    "LMAX = dataset_params[\"LMAX\"]\n",
    "power_spectrum_unweighted, power_spectrum_weighted = uim.power_spectrum(intensity_map, LMAX)\n",
    "x_max = 20\n",
    "\n",
    "fig = plt.figure()\n",
    "ax = plt.axes()\n",
    "plt.plot(np.arange(LMAX), power_spectrum_unweighted * 100.0)\n",
    "ax.set_xticks(range(0, LMAX+1, int(LMAX/5)))\n",
    "plt.xlim([0, x_max])\n",
    "plt.title(\"Unweighted Modes\")\n",
    "plt.xlabel(\"l mode\")\n",
    "plt.ylabel(r\"amplitude ($\\%$)\")\n",
    "plt.savefig(sys_params[\"figure_location\"]+\"/unweighted_modes_\"+ str(iex) +\"low_rms.png\", dpi=300, bbox_inches='tight')\n",
    "\n",
    "fig = plt.figure()\n",
    "ax = plt.axes()\n",
    "plt.plot(np.arange(LMAX), power_spectrum_weighted * 100.0)\n",
    "ax.set_xticks(range(0, LMAX+1, int(LMAX/5)))\n",
    "plt.xlim([0, x_max])\n",
    "plt.title(\"Weighted Modes\")\n",
    "plt.xlabel(\"l mode\")\n",
    "plt.ylabel(r\"amplitude ($\\%$)\")\n",
    "plt.savefig(sys_params[\"figure_location\"]+\"/weighted_modes.png\", dpi=300, bbox_inches='tight')"
   ]
  },
  {
   "cell_type": "markdown",
   "id": "c4342d71-5259-4713-9617-7a8afe1fc32f",
   "metadata": {
    "jp-MarkdownHeadingCollapsed": true,
    "tags": []
   },
   "source": [
    "# Run PDD through NN"
   ]
  },
  {
   "cell_type": "code",
   "execution_count": null,
   "id": "a46a796c-497d-4c33-96c8-28649184f06c",
   "metadata": {},
   "outputs": [],
   "source": [
    "import matplotlib.pyplot as plt\n",
    "import healpy as hp\n",
    "import tf_neural_network as tfnn\n",
    "import netcdf_read_write as nrw\n",
    "import utils_deck_generation as idg\n",
    "import training_data_generation as tdg\n",
    "import utils_intensity_map as uim\n",
    "import neural_network_generation as nng\n",
    "import utils_intensity_map as uim\n",
    "%matplotlib inline\n",
    "num_epochs = 10\n",
    "num_examples = 1"
   ]
  },
  {
   "cell_type": "code",
   "execution_count": null,
   "id": "a893b857-3b3e-44f5-b437-88b3ab38ad4f",
   "metadata": {},
   "outputs": [],
   "source": [
    "imap_nside = 256\n",
    "LMAX = 30\n",
    "input_size = 992\n",
    "output_size = 16\n",
    "nif_pdd_dir = \"Data_pdd\"\n",
    "\n",
    "run_location = nif_pdd_dir + \"/run_0\"\n",
    "intensity_map = nrw.read_intensity(run_location, imap_nside)\n",
    "X_train, avg_powers_all = uim.create_xtrain(intensity_map, LMAX)\n",
    "X_all = np.reshape(X_train, (-1,input_size))\n",
    "Y_all = np.zeros(output_size)\n",
    "\n",
    "# choose neural network\n",
    "inn = 0\n",
    "num_nn = 1\n",
    "nn_params = nng.define_nn_params(num_nn)\n",
    "nn_weights = nrw.read_nn_weights(\"neural_network_weights\" + \"/\" + \"NN\" + str(inn))\n",
    "filename_hyperparams = nn_params[\"dir_nn_weights\"] + \"/\" + nn_params[\"filename_hyperparams\"]\n",
    "nn_hyperparams = nrw.read_nn_weights(filename_hyperparams)\n",
    "\n",
    "# param setup\n",
    "nif_pdd_pred_dir = \"Data_pdd_pred\"\n",
    "sys_params = tdg.define_system_params(nif_pdd_pred_dir)\n",
    "nn_params[\"test_fraction\"] = 0.0\n",
    "nn_params[\"test_size\"] = 0\n",
    "nn_dataset = nng.seperate_test_set(X_all, Y_all, avg_powers_all, nn_params)\n",
    "nn_dataset = nng.normalise(nn_dataset, mean=nn_hyperparams[\"mu\"][inn], std_dev=nn_hyperparams[\"sigma\"][inn])\n",
    "\n",
    "y_pred = tfnn.apply_network(nn_dataset[\"X_train\"].T, nn_weights)\n",
    "\n",
    "dataset_params, facility_spec = tdg.define_dataset_params(num_examples)\n",
    "dataset_params[\"Y_train\"] = y_pred"
   ]
  },
  {
   "cell_type": "code",
   "execution_count": null,
   "id": "50ea6769-e780-4fca-8384-895e06de53b3",
   "metadata": {},
   "outputs": [],
   "source": [
    "# Create new run files\n",
    "sys_params[\"run_clean\"] = False\n",
    "dataset_params = idg.create_run_files(dataset_params, sys_params, facility_spec)\n",
    "tdg.generate_training_data(dataset_params, sys_params, facility_spec)"
   ]
  },
  {
   "cell_type": "code",
   "execution_count": null,
   "id": "d7c53e6e-58fb-4ad6-b513-16c0e600e5aa",
   "metadata": {},
   "outputs": [],
   "source": [
    "iex = 0\n",
    "\n",
    "num_examples = 1\n",
    "sys_params = tdg.define_system_params(nif_pdd_pred_dir)\n",
    "sys_params[\"run_gen_deck\"] = False\n",
    "num_nn = 1\n",
    "nn_params = nng.define_nn_params(num_nn)\n",
    "X_all, Y_all, avg_powers_all, nn_params = nng.import_training_data(nn_params, sys_params)\n",
    "dataset_params, facility_spec = tdg.define_dataset_params(int(num_examples))\n",
    "dataset_params[\"Y_train\"] = Y_all[:,iex]\n",
    "dataset_params = idg.create_run_files(dataset_params, sys_params, facility_spec)\n",
    "\n",
    "mean_power_fraction = uim.extract_run_parameters(dataset_params, facility_spec, sys_params)\n",
    "\n",
    "run_location = sys_params[\"root_dir\"] + \"/\" + sys_params[\"sim_dir\"] + str(iex)\n",
    "intensity_map = nrw.read_intensity(run_location, dataset_params[\"imap_nside\"])\n",
    "intensity_map_rms_spatial = uim.readout_intensity(facility_spec, intensity_map, mean_power_fraction)\n",
    "\n",
    "hp.mollview(intensity_map,unit=r\"$\\rm{W/cm^2}$\",flip=\"geo\")\n",
    "hp.graticule()\n",
    "port_theta = facility_spec[\"Port_centre_theta\"]\n",
    "port_phi = facility_spec[\"Port_centre_phi\"]\n",
    "hp.projscatter(port_theta, port_phi)\n",
    "hp.projscatter(np.squeeze(dataset_params[\"theta_pointings\"]), np.squeeze(dataset_params[\"phi_pointings\"]))\n",
    "plt.savefig(sys_params[\"figure_location\"]+'/intensity_mollweide_nn_pdd.png', dpi=300, bbox_inches='tight')"
   ]
  },
  {
   "cell_type": "code",
   "execution_count": null,
   "id": "63c1463b-be49-4c27-b1ac-652dd7281730",
   "metadata": {},
   "outputs": [],
   "source": [
    "LMAX = dataset_params[\"LMAX\"]\n",
    "power_spectrum_unweighted, power_spectrum_weighted = uim.power_spectrum(intensity_map, LMAX)\n",
    "x_max = LMAX\n",
    "\n",
    "fig = plt.figure()\n",
    "ax = plt.axes()\n",
    "plt.plot(np.arange(LMAX), power_spectrum_unweighted * 100.0)\n",
    "ax.set_xticks(range(0, LMAX+1, int(LMAX/5)))\n",
    "plt.xlim([0, x_max])\n",
    "plt.title(\"Unweighted Modes\")\n",
    "plt.xlabel(\"l mode\")\n",
    "plt.ylabel(r\"amplitude ($\\%$)\")\n",
    "plt.savefig(sys_params[\"figure_location\"]+\"/unweighted_modes_nn_pdd.png\", dpi=300, bbox_inches='tight')\n",
    "\n",
    "fig = plt.figure()\n",
    "ax = plt.axes()\n",
    "plt.plot(np.arange(LMAX), power_spectrum_weighted * 100.0)\n",
    "ax.set_xticks(range(0, LMAX+1, int(LMAX/5)))\n",
    "plt.xlim([0, x_max])\n",
    "plt.title(\"Weighted Modes\")\n",
    "plt.xlabel(\"l mode\")\n",
    "plt.ylabel(r\"amplitude ($\\%$)\")\n",
    "plt.savefig(sys_params[\"figure_location\"]+\"/weighted_modes.png\", dpi=300, bbox_inches='tight')"
   ]
  },
  {
   "cell_type": "markdown",
   "id": "1687afd6-ac0c-44bf-8a4f-c967f4f2dcd5",
   "metadata": {
    "jp-MarkdownHeadingCollapsed": true,
    "tags": []
   },
   "source": [
    "# NN as surrogate for Ifriit"
   ]
  },
  {
   "cell_type": "code",
   "execution_count": null,
   "id": "15906c20-bef1-4bce-890f-b9e23d2f1a78",
   "metadata": {},
   "outputs": [],
   "source": [
    "import matplotlib.pyplot as plt\n",
    "import healpy as hp\n",
    "import tf_neural_network as tfnn\n",
    "import netcdf_read_write as nrw\n",
    "import utils_deck_generation as idg\n",
    "import training_data_generation as tdg\n",
    "import utils_intensity_map as uim\n",
    "import neural_network_generation as nng\n",
    "%matplotlib inline\n",
    "num_epochs = 10\n",
    "num_nn = 1\n",
    "run_dir = \"Data\"\n",
    "imap_nside = 256\n",
    "LMAX = 30\n",
    "filename_flipped_trainingdata = \"flipped_training_data_and_labels.nc\""
   ]
  },
  {
   "cell_type": "code",
   "execution_count": null,
   "id": "bee2c33d-4e9a-47b1-928b-f01b401cf6bb",
   "metadata": {},
   "outputs": [],
   "source": [
    "# choose test data set\n",
    "sys_params = tdg.define_system_params(run_dir)\n",
    "nn_params = nng.define_nn_params(num_nn)\n",
    "\n",
    "X_all, Y_all, avg_powers_all, nn_params = nng.import_training_data_reversed(nn_params, sys_params, LMAX, imap_nside)\n",
    "filename_trainingdata = run_dir + '/' + filename_flipped_trainingdata\n",
    "nrw.save_training_data(X_all, Y_all, avg_powers_all, filename_trainingdata)\n",
    "dataset_params, facility_spec = tdg.define_dataset_params(nn_params[\"num_examples\"])"
   ]
  },
  {
   "cell_type": "code",
   "execution_count": null,
   "id": "e97548e5-d199-4f08-920d-e6df5e86e083",
   "metadata": {},
   "outputs": [],
   "source": [
    "sys_params = tdg.define_system_params(run_dir)\n",
    "nn_params = nng.define_nn_params(num_nn)\n",
    "sys_params[\"trainingdata_filename\"] = filename_flipped_trainingdata\n",
    "X_all, Y_all, avg_powers_all, nn_params = nng.import_training_data(nn_params, sys_params)\n",
    "nn_dataset = nng.seperate_test_set(X_all, Y_all, avg_powers_all, nn_params)\n",
    "#nn_dataset = nng.normalise(nn_dataset)"
   ]
  },
  {
   "cell_type": "code",
   "execution_count": null,
   "id": "6f05a888-59b5-4233-93bf-1e63f8bcdc17",
   "metadata": {},
   "outputs": [],
   "source": [
    "nn_hyperparams = nng.define_nn_hyperparams(num_epochs, num_nn)\n",
    "nn_hyperparams = nng.multiple_nn(nn_params, nn_dataset, sys_params, nn_hyperparams)"
   ]
  },
  {
   "cell_type": "markdown",
   "id": "17a40cc8-36d8-4452-afc8-b9e8c7879732",
   "metadata": {
    "tags": []
   },
   "source": [
    "## Check performance on test set"
   ]
  },
  {
   "cell_type": "code",
   "execution_count": null,
   "id": "38d7d997-3758-4e0f-95bf-d44d22145530",
   "metadata": {},
   "outputs": [],
   "source": [
    "filename_hyperparams = nn_params[\"dir_nn_weights\"] + \"/NN0\"\n",
    "nn_weights = nrw.read_nn_weights(filename_hyperparams)\n",
    "y_pred = tfnn.apply_network(nn_dataset[\"X_test\"], nn_weights)"
   ]
  },
  {
   "cell_type": "code",
   "execution_count": null,
   "id": "76d5401a-7ab9-43b3-99dd-a24217cc01e0",
   "metadata": {},
   "outputs": [],
   "source": [
    "iex = 0\n",
    "\n",
    "fig = plt.figure()\n",
    "ax = plt.axes()\n",
    "plt.plot(np.arange(LMAX), nn_dataset[\"Y_test\"][iex,:] * 100.0)\n",
    "#plt.plot(np.arange(LMAX), Y_all[:,iex])\n",
    "ax.set_xticks(range(0, LMAX+1, int(LMAX/5)))\n",
    "plt.title(\"Unweighted Modes, Ifriit Inverse Ray Trace\")\n",
    "plt.xlabel(\"l mode\")\n",
    "plt.ylabel(r\"amplitude ($\\%$)\")\n",
    "plt.savefig(sys_params[\"figure_location\"]+\"/unweighted_modes_\"+str(iex)+\"original.png\", dpi=300, bbox_inches='tight')\n",
    "\n",
    "fig = plt.figure()\n",
    "ax = plt.axes()\n",
    "plt.plot(np.arange(LMAX), y_pred[:,iex] * 100.0)\n",
    "ax.set_xticks(range(0, LMAX+1, int(LMAX/5)))\n",
    "plt.title(\"Unweighted Modes, NN Surrogate Model\")\n",
    "plt.xlabel(\"l mode\")\n",
    "plt.ylabel(r\"amplitude ($\\%$)\")\n",
    "plt.savefig(sys_params[\"figure_location\"]+\"/unweighted_modes_\"+str(iex)+\"nn.png\", dpi=300, bbox_inches='tight')"
   ]
  },
  {
   "cell_type": "markdown",
   "id": "2704acc9-3dc7-4ad3-ba1e-cc4df0151a89",
   "metadata": {
    "tags": []
   },
   "source": [
    "## Find Minimum in Train set"
   ]
  },
  {
   "cell_type": "code",
   "execution_count": null,
   "id": "870c7cf6-70f0-4ce5-ba82-72f1d8037efd",
   "metadata": {},
   "outputs": [],
   "source": [
    "filename_hyperparams = nn_params[\"dir_nn_weights\"] + \"/NN0\"\n",
    "nn_weights = nrw.read_nn_weights(filename_hyperparams)\n",
    "y_pred = tfnn.apply_network(X_all.T, nn_weights)"
   ]
  },
  {
   "cell_type": "code",
   "execution_count": null,
   "id": "de313dc1-f109-47f5-b6c4-71337571eccf",
   "metadata": {},
   "outputs": [],
   "source": [
    "mindex = np.argmin(np.mean(Y_all, axis=0))\n",
    "print(mindex)\n",
    "print(np.shape(Y_all[:,mindex]), X_all[:,mindex])"
   ]
  },
  {
   "cell_type": "code",
   "execution_count": null,
   "id": "77f632ec-670a-4e58-9c66-5802a954b99a",
   "metadata": {},
   "outputs": [],
   "source": [
    "fig = plt.figure()\n",
    "ax = plt.axes()\n",
    "plt.plot(np.arange(LMAX), Y_all[:,mindex] * 100.0)\n",
    "#plt.plot(np.arange(LMAX), Y_all[:,iex])\n",
    "ax.set_xticks(range(0, LMAX+1, int(LMAX/5)))\n",
    "plt.title(\"Unweighted Modes, Ifriit Inverse Ray Trace\")\n",
    "plt.xlabel(\"l mode\")\n",
    "plt.ylabel(r\"amplitude ($\\%$)\")\n",
    "plt.savefig(sys_params[\"figure_location\"]+\"/unweighted_modes_\"+str(mindex)+\"original.png\", dpi=300, bbox_inches='tight')\n",
    "\n",
    "fig = plt.figure()\n",
    "ax = plt.axes()\n",
    "plt.plot(np.arange(LMAX), y_pred[:,mindex] * 100.0)\n",
    "ax.set_xticks(range(0, LMAX+1, int(LMAX/5)))\n",
    "plt.title(\"Unweighted Modes, NN Surrogate Model\")\n",
    "plt.xlabel(\"l mode\")\n",
    "plt.ylabel(r\"amplitude ($\\%$)\")\n",
    "plt.savefig(sys_params[\"figure_location\"]+\"/unweighted_modes_\"+str(mindex)+\"nn.png\", dpi=300, bbox_inches='tight')"
   ]
  },
  {
   "cell_type": "markdown",
   "id": "92b12b8f-fb09-4c5b-8768-e7b22609df5b",
   "metadata": {
    "tags": []
   },
   "source": [
    "## Search for Minima"
   ]
  },
  {
   "cell_type": "code",
   "execution_count": null,
   "id": "1c862111-6b89-4d4b-a872-946f57bb57c0",
   "metadata": {},
   "outputs": [],
   "source": [
    "num_nn = 1\n",
    "nn_params = nng.define_nn_params(num_nn)\n",
    "x_test_random = np.random.rand(1000000,16)\n",
    "print(x_test_random[0,:])"
   ]
  },
  {
   "cell_type": "code",
   "execution_count": null,
   "id": "00f86162-ba3d-408f-b887-6c4d1d2a0bf2",
   "metadata": {},
   "outputs": [],
   "source": [
    "filename_hyperparams = nn_params[\"dir_nn_weights\"] + \"/NN0\"\n",
    "nn_weights = nrw.read_nn_weights(filename_hyperparams)\n",
    "#y_pred = tfnn.apply_network(X_all.T, nn_weights)\n",
    "y_pred = tfnn.apply_network(x_test_random, nn_weights)"
   ]
  },
  {
   "cell_type": "code",
   "execution_count": null,
   "id": "34102f0d-8bac-41af-8370-765e94fe11ca",
   "metadata": {},
   "outputs": [],
   "source": [
    "num_examples = 100\n",
    "mindex = np.argmin(np.mean(y_pred, axis=0))\n",
    "min_slice = np.argsort(np.mean(y_pred, axis=0))[:num_examples]\n",
    "print(min_slice)\n",
    "print(mindex)\n",
    "print(np.shape(x_test_random[min_slice[50:60],:].T))\n",
    "\n",
    "fig = plt.figure()\n",
    "ax = plt.axes()\n",
    "plt.plot(np.arange(LMAX), y_pred[:,min_slice[50]] * 100.0)\n",
    "ax.set_xticks(range(0, LMAX+1, int(LMAX/5)))\n",
    "plt.title(\"Unweighted Modes, NN Surrogate find minimum\")\n",
    "plt.xlabel(\"l mode\")\n",
    "plt.ylabel(r\"amplitude ($\\%$)\")\n",
    "plt.savefig(sys_params[\"figure_location\"]+\"/unweighted_modes_\"+str(iex)+\"nn.png\", dpi=300, bbox_inches='tight')"
   ]
  },
  {
   "cell_type": "code",
   "execution_count": null,
   "id": "c570542d-cff2-4c05-8657-b38c63ed3956",
   "metadata": {},
   "outputs": [],
   "source": [
    "num_examples = 10\n",
    "dataset_params, facility_spec = tdg.define_dataset_params(num_examples)\n",
    "#print(np.shape(dataset_params[\"Y_train\"]))\n",
    "#print(np.shape(x_test_random[min_slice,:]))\n",
    "dataset_params[\"Y_train\"] = x_test_random[min_slice[50:60],:].T\n",
    "\n",
    "run_dir = \"Data_global_min2\"\n",
    "sys_params = tdg.define_system_params(run_dir)\n",
    "\n",
    "# Create new run files\n",
    "sys_params[\"run_clean\"] = False\n",
    "dataset_params = idg.create_run_files(dataset_params, sys_params, facility_spec)\n",
    "tdg.generate_training_data(dataset_params, sys_params, facility_spec)"
   ]
  },
  {
   "cell_type": "code",
   "execution_count": null,
   "id": "9bd1e75b-06fa-4d3a-920d-44c794d0f764",
   "metadata": {},
   "outputs": [],
   "source": [
    "iex = 0\n",
    "print(min_slice[iex])\n",
    "\n",
    "run_location = sys_params[\"root_dir\"] + \"/\" + sys_params[\"sim_dir\"] + str(iex)\n",
    "theta_slice = slice(0,29,4)\n",
    "phi_slice   = slice(1,30,4)\n",
    "power_slice = slice(3,32,4)\n",
    "\n",
    "cone_theta_offset = dataset_params[\"sim_params\"][theta_slice,iex]\n",
    "cone_phi_offset = dataset_params[\"sim_params\"][phi_slice,iex]\n",
    "cone_powers = dataset_params[\"sim_params\"][power_slice,iex]\n",
    "\n",
    "beams_prev = 0\n",
    "beams_tot = 0\n",
    "total_power = 0\n",
    "for icone in range(facility_spec['num_cones']):\n",
    "    beams_per_cone = facility_spec['beams_per_cone'][icone]\n",
    "    beams_tot += beams_per_cone\n",
    "    total_power += cone_powers[icone] * beams_per_cone\n",
    "    beams_prev += beams_per_cone\n",
    "mean_power_fraction = total_power / facility_spec['nbeams']\n",
    "\n",
    "intensity_map = nrw.read_intensity(run_location, dataset_params[\"imap_nside\"])\n",
    "intensity_map_rms_spatial = uim.readout_intensity(facility_spec, intensity_map, mean_power_fraction)\n",
    "\n",
    "hp.mollview(intensity_map,unit=r\"$\\rm{W/cm^2}$\",flip=\"geo\")\n",
    "hp.graticule()\n",
    "port_theta = facility_spec[\"Port_centre_theta\"]\n",
    "port_phi = facility_spec[\"Port_centre_phi\"]\n",
    "hp.projscatter(port_theta, port_phi)\n",
    "hp.projscatter(dataset_params[\"theta_pointings\"][:,iex], dataset_params[\"phi_pointings\"][:,iex])\n",
    "plt.savefig(sys_params[\"figure_location\"]+'/intensity_mollweide_'+str(iex)+'original.png', dpi=300, bbox_inches='tight')\n",
    "\n",
    "print(x_test_random[min_slice[iex],:])"
   ]
  },
  {
   "cell_type": "code",
   "execution_count": null,
   "id": "63ea36c0-e1c7-451c-873c-cd4ae220d186",
   "metadata": {},
   "outputs": [],
   "source": [
    "LMAX = dataset_params[\"LMAX\"]\n",
    "power_spectrum_unweighted, power_spectrum_weighted = uim.power_spectrum(intensity_map, LMAX)\n",
    "x_max = LMAX\n",
    "\n",
    "fig = plt.figure()\n",
    "ax = plt.axes()\n",
    "plt.plot(np.arange(LMAX), y_pred[:,min_slice[50+iex]] * 100.0)\n",
    "ax.set_xticks(range(0, LMAX+1, int(LMAX/5)))\n",
    "plt.title(\"Unweighted Modes, NN Surrogate find Minimum\")\n",
    "plt.xlabel(\"l mode\")\n",
    "plt.ylabel(r\"amplitude ($\\%$)\")\n",
    "plt.savefig(sys_params[\"figure_location\"]+\"/unweighted_modes_\"+str(iex)+\"nn_min_guess.png\", dpi=300, bbox_inches='tight')\n",
    "\n",
    "fig = plt.figure()\n",
    "ax = plt.axes()\n",
    "plt.plot(np.arange(LMAX), power_spectrum_unweighted * 100.0)\n",
    "ax.set_xticks(range(0, LMAX+1, int(LMAX/5)))\n",
    "plt.xlim([0, x_max])\n",
    "plt.title(\"Unweighted Modes\")\n",
    "plt.xlabel(\"l mode\")\n",
    "plt.ylabel(r\"amplitude ($\\%$)\")\n",
    "plt.savefig(sys_params[\"figure_location\"]+\"/unweighted_modes_\"+str(iex)+\"ifriit.png\", dpi=300, bbox_inches='tight')\n",
    "\n",
    "fig = plt.figure()\n",
    "ax = plt.axes()\n",
    "plt.plot(np.arange(LMAX), power_spectrum_weighted * 100.0)\n",
    "ax.set_xticks(range(0, LMAX+1, int(LMAX/5)))\n",
    "plt.xlim([0, x_max])\n",
    "plt.title(\"Weighted Modes\")\n",
    "plt.xlabel(\"l mode\")\n",
    "plt.ylabel(r\"amplitude ($\\%$)\")\n",
    "plt.savefig(sys_params[\"figure_location\"]+\"/weighted_modes.png\", dpi=300, bbox_inches='tight')"
   ]
  },
  {
   "cell_type": "code",
   "execution_count": null,
   "id": "477a4104-3a3a-4aa2-95ec-d096a5dfda64",
   "metadata": {},
   "outputs": [],
   "source": []
  },
  {
   "cell_type": "markdown",
   "id": "561e47b7-df8b-49ac-9827-101af82d99d7",
   "metadata": {
    "jp-MarkdownHeadingCollapsed": true,
    "tags": []
   },
   "source": [
    "# Check Polar Coord Generation"
   ]
  },
  {
   "cell_type": "code",
   "execution_count": null,
   "id": "f1ed2582-f808-480a-9a44-6880ae36e583",
   "metadata": {},
   "outputs": [],
   "source": [
    "import healpy_pointings as hpoint"
   ]
  },
  {
   "cell_type": "code",
   "execution_count": null,
   "id": "2c70a6b7-a902-4c6f-a80c-fd7740760028",
   "metadata": {},
   "outputs": [],
   "source": [
    "nr = 10000\n",
    "\n",
    "x = np.random.rand(nr) * 2.0 - 1.0\n",
    "y = np.random.rand(nr) * 2.0 - 1.0\n",
    "theta_max = np.pi / 4.0\n",
    "\n",
    "cart_x_coords = np.zeros((nr))\n",
    "cart_y_coords = np.zeros((nr))\n",
    "polar_p_coords = np.zeros((nr))\n",
    "polar_t_coords = np.zeros((nr))\n",
    "for ir in range(nr):\n",
    "    cart_x_coords[ir] = x[ir]\n",
    "    cart_y_coords[ir] = y[ir]\n",
    "\n",
    "    r, offset_phi = hpoint.square2disk(x[ir], y[ir])\n",
    "    offset_theta = theta_max * r\n",
    "\n",
    "    polar_p_coords[ir] = offset_phi\n",
    "    polar_t_coords[ir] = offset_theta\n",
    "\n",
    "X = cart_x_coords\n",
    "Y = cart_y_coords\n",
    "\n",
    "fig = plt.figure()\n",
    "plt.plot(X,Y,\"*\")\n",
    "\n",
    "print(np.min(polar_p_coords))\n",
    "print(np.max(polar_p_coords))\n",
    "\n",
    "U = np.degrees(polar_t_coords * np.cos(polar_p_coords))\n",
    "V = np.degrees(polar_t_coords * np.sin(polar_p_coords))\n",
    "\n",
    "fig1 = plt.figure()\n",
    "plt.plot(U,V,\"*\")"
   ]
  },
  {
   "cell_type": "code",
   "execution_count": null,
   "id": "be455f8c-4ea8-4881-b2df-462e7c88f2d2",
   "metadata": {},
   "outputs": [],
   "source": [
    "nx = 50\n",
    "ny = 50\n",
    "\n",
    "x = np.linspace(-1, 1, nx)\n",
    "y = np.linspace(-1, 1, ny)\n",
    "theta_max = np.pi / 4.0\n",
    "\n",
    "cart_x_coords = np.zeros((nx,ny))\n",
    "cart_y_coords = np.zeros((nx,ny))\n",
    "polar_p_coords = np.zeros((nx,ny))\n",
    "polar_t_coords = np.zeros((nx,ny))\n",
    "for ix in range(nx):\n",
    "    for iy in range(ny):\n",
    "        cart_x_coords[ix,iy] = x[ix]\n",
    "        cart_y_coords[ix,iy] = y[iy]\n",
    "        \n",
    "        r, offset_phi = hpoint.square2disk(x[ix], y[iy])\n",
    "        offset_theta = theta_max * r\n",
    "        \n",
    "        polar_p_coords[ix,iy] = offset_phi\n",
    "        polar_t_coords[ix,iy] = offset_theta\n",
    "\n",
    "X = cart_x_coords.flatten()\n",
    "Y = cart_y_coords.flatten()\n",
    "\n",
    "fig = plt.figure()\n",
    "plt.plot(X,Y,\"*\")\n",
    "\n",
    "phi = polar_p_coords.flatten()\n",
    "theta = polar_t_coords.flatten()\n",
    "U = np.degrees(theta * np.cos(phi))\n",
    "V = np.degrees(theta * np.sin(phi))\n",
    "\n",
    "fig1 = plt.figure()\n",
    "plt.plot(U,V,\"*\")"
   ]
  }
 ],
 "metadata": {
  "kernelspec": {
   "display_name": "Python 3 (ipykernel)",
   "language": "python",
   "name": "python3"
  },
  "language_info": {
   "codemirror_mode": {
    "name": "ipython",
    "version": 3
   },
   "file_extension": ".py",
   "mimetype": "text/x-python",
   "name": "python",
   "nbconvert_exporter": "python",
   "pygments_lexer": "ipython3",
   "version": "3.9.7"
  }
 },
 "nbformat": 4,
 "nbformat_minor": 5
}
