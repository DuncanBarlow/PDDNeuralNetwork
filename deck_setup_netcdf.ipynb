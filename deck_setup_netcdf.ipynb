{
 "cells": [
  {
   "cell_type": "code",
   "execution_count": null,
   "id": "14d7501d-bdf3-4c91-b16e-b766b3e5aa73",
   "metadata": {},
   "outputs": [],
   "source": [
    "import numpy as np\n",
    "import training_data_generation as tdg\n",
    "import matplotlib.pyplot as plt\n",
    "%matplotlib inline\n",
    "plt.ion()\n",
    "num_examples = 10\n",
    "run_dir = \"Data\"\n",
    "hemisphere_symmetric = 1\n",
    "random_seed = 12345\n",
    "random_sampling = 0"
   ]
  },
  {
   "cell_type": "markdown",
   "id": "8a2a3408-6a59-4b28-bf5b-8212f4b7142c",
   "metadata": {
    "jp-MarkdownHeadingCollapsed": true,
    "tags": []
   },
   "source": [
    "# Generate and Save Training Data"
   ]
  },
  {
   "cell_type": "code",
   "execution_count": null,
   "id": "003b0786-34fb-4dcd-9df2-f351016e6ed3",
   "metadata": {},
   "outputs": [],
   "source": [
    "# Warning to save individual illumination data change \"sys_params[\"run_clean\"]\" to False in \"training_data_generation.py\"\n",
    "dataset_params, sys_params, facility_spec = tdg.main((_, run_dir, num_examples, hemisphere_symmetric, random_sampling, random_seed))"
   ]
  },
  {
   "cell_type": "markdown",
   "id": "1638f51b-5ee7-41e1-b4e6-709e6d6a8353",
   "metadata": {
    "jp-MarkdownHeadingCollapsed": true,
    "tags": []
   },
   "source": [
    "# Diagnostic"
   ]
  },
  {
   "cell_type": "code",
   "execution_count": null,
   "id": "c815b9a9-0b10-4ab1-b8c9-a5883639828a",
   "metadata": {},
   "outputs": [],
   "source": [
    "import healpy as hp\n",
    "import utils_intensity_map as uim\n",
    "import utils_deck_generation as idg\n",
    "import netcdf_read_write as nrw\n",
    "import training_data_generation as tdg\n",
    "import os\n",
    "%matplotlib inline\n",
    "np_complex = np.vectorize(complex)"
   ]
  },
  {
   "cell_type": "code",
   "execution_count": null,
   "id": "92c98d8c-8caa-4621-ac48-385d261f64b7",
   "metadata": {},
   "outputs": [],
   "source": [
    "diag_dir = \"Data\"\n",
    "iex = 0\n",
    "with_pointing_markers = True\n",
    "import_flipped = False\n",
    "old_format = False\n",
    "display_steradians = False\n",
    "sys_params = tdg.define_system_params(diag_dir)\n",
    "\n",
    "run_location = sys_params[\"root_dir\"] + \"/\" + sys_params[\"sim_dir\"] + str(iex)"
   ]
  },
  {
   "cell_type": "code",
   "execution_count": null,
   "id": "0b00919f-2a5a-4e55-b85d-5db8ca6fba89",
   "metadata": {},
   "outputs": [],
   "source": [
    "ind_profile = 0\n",
    "dataset_params = nrw.read_general_netcdf(sys_params[\"root_dir\"] + \"/\" + sys_params[\"dataset_params_filename\"])\n",
    "facility_spec = nrw.read_general_netcdf(sys_params[\"root_dir\"] + \"/\" + sys_params[\"facility_spec_filename\"])\n",
    "dataset = nrw.read_general_netcdf(sys_params[\"root_dir\"]+\"/\"+sys_params[\"trainingdata_filename\"])\n",
    "\n",
    "avg_flux = dataset[\"avg_flux\"][iex, ind_profile]\n",
    "real_modes = dataset[\"real_modes\"][iex,ind_profile,:]\n",
    "imag_modes = dataset[\"imag_modes\"][iex,ind_profile,:]\n",
    "rms = dataset[\"rms\"][iex, ind_profile]\n",
    "#rms = uim.alms2rms(real_modes, imag_modes, dataset_params[\"LMAX\"])\n",
    "\n",
    "print('Intensity per steradian, {:.2e}W/sr'.format(avg_flux))\n",
    "print(\"The LLE quoted rms cumulative over all modes is: \", rms*100.0, \"%\")\n",
    "\n",
    "intensity_map_normalized = uim.modes2imap(real_modes, imag_modes, dataset_params[\"imap_nside\"])\n",
    "intensity_map_sr = (intensity_map_normalized+1)*avg_flux\n",
    "\n",
    "if display_steradians:\n",
    "    hp.mollview(intensity_map_sr, unit=r\"$\\rm{W/sr}$\",flip=\"geo\")\n",
    "else:\n",
    "    hp.mollview((intensity_map_normalized+1)*avg_flux / (facility_spec['target_radius'] / 10000.0)**2, unit=r\"$\\rm{W/cm^2}$\",flip=\"geo\")\n",
    "hp.graticule()\n",
    "\n",
    "complex_modes = np_complex(real_modes, imag_modes)\n",
    "power_spectrum = uim.alms2power_spectrum(complex_modes, dataset_params[\"LMAX\"])\n",
    "print(\"The LLE quoted rms cumulative over all modes is: \", np.sqrt(np.sum(power_spectrum))*100.0, \"%\")\n",
    "\n",
    "LMAX = dataset_params[\"LMAX\"]\n",
    "fig = plt.figure()\n",
    "ax = plt.axes()\n",
    "plt.plot(np.arange(LMAX), np.sqrt(power_spectrum) * 100.0)\n",
    "ax.set_xticks(range(0, LMAX+1, int(LMAX/5)))\n",
    "plt.xlim([0, LMAX])\n",
    "plt.title(\"Unweighted Modes Python\")\n",
    "plt.xlabel(\"l mode\")\n",
    "plt.ylabel(r\"amplitude ($\\%$)\")\n",
    "plt.savefig(sys_params[\"figure_location\"]+\"/modes_\"+str(iex) + sys_params[\"plot_file_type\"], dpi=300, bbox_inches='tight')"
   ]
  },
  {
   "cell_type": "code",
   "execution_count": null,
   "id": "dea18cd0-7ab6-4bbd-adce-88207f996ba6",
   "metadata": {},
   "outputs": [],
   "source": [
    "if with_pointing_markers:\n",
    "    if display_steradians:\n",
    "        hp.mollview((intensity_map_normalized+1)*avg_flux, unit=r\"$\\rm{W/sr}$\",flip=\"geo\")\n",
    "    else:\n",
    "        hp.mollview((intensity_map_normalized+1)*avg_flux / (facility_spec['target_radius'] / 10000.0)**2, unit=r\"$\\rm{W/cm^2}$\",flip=\"geo\")\n",
    "    hp.graticule()\n",
    "    \n",
    "    deck_gen_params = nrw.read_general_netcdf(sys_params[\"root_dir\"] + \"/\" + sys_params[\"deck_gen_params_filename\"])\n",
    "    print_list1, mean_power_fraction = uim.extract_run_parameters(iex, dataset_params, facility_spec, sys_params, deck_gen_params)\n",
    "    print_list2 = uim.readout_intensity(facility_spec, intensity_map_sr, mean_power_fraction=mean_power_fraction)\n",
    "\n",
    "    print_list = print_list1 + print_list2\n",
    "    stats_filename = sys_params[\"figure_location\"]+\"/stats\"+str(iex)+\".txt\"\n",
    "    if os.path.exists(stats_filename):\n",
    "        os.remove(stats_filename)\n",
    "    file1 = open(stats_filename,\"a\")\n",
    "    for line in range(len(print_list)):\n",
    "        print(print_list[line])\n",
    "        file1.writelines(print_list[line]+\"\\n\")\n",
    "    file1.close()\n",
    "    \n",
    "    port_theta = deck_gen_params[\"port_centre_theta\"]\n",
    "    port_phi = deck_gen_params[\"port_centre_phi\"]\n",
    "    hp.projscatter(port_theta, port_phi)\n",
    "    \n",
    "    pointing_theta = np.squeeze(deck_gen_params[\"theta_pointings\"][iex,:])\n",
    "    pointing_phi = np.squeeze(deck_gen_params[\"phi_pointings\"][iex,:])\n",
    "    hp.projscatter(pointing_theta, pointing_phi)\n",
    "    \n",
    "    if (facility_spec['facility'] == \"NIF\"):\n",
    "        num_ifriit_beams = int(facility_spec['nbeams'] / facility_spec['beams_per_ifriit_beam'])\n",
    "        skip = int(facility_spec['nbeams'] / facility_spec['num_quads'])\n",
    "    elif (facility_spec['facility'] == \"LMJ\"):\n",
    "        num_ifriit_beams = int(facility_spec['nbeams'] / facility_spec['beams_per_ifriit_beam'])\n",
    "        skip = 1\n",
    "    \n",
    "    for iport in range(0, num_ifriit_beams, skip):\n",
    "        x, y = uim.angle2moll(port_theta[iport], port_phi[iport])\n",
    "        x2, y2 = uim.angle2moll(pointing_theta[iport], pointing_phi[iport])\n",
    "        dx = x2 - x\n",
    "        dy = y2 - y\n",
    "\n",
    "        # reduce line length to give space for arrow head\n",
    "        head_length = 0.05\n",
    "        shaft_angle = np.arctan2(dy, dx)\n",
    "        shaft_length = np.sqrt(dx**2 + dy**2) - head_length\n",
    "        if shaft_length > 0.0:\n",
    "            dx = shaft_length * np.cos(shaft_angle)\n",
    "            dy = shaft_length * np.sin(shaft_angle)\n",
    "            \n",
    "            if np.abs(dx) < 1.0: # don't plot arrow for pointings which cross the edge\n",
    "                plt.arrow(x, y, dx, dy, head_width=0.05, head_length=head_length, fc='k', ec='k')\n",
    "        else:\n",
    "            plt.arrow(x, y, dx, dy)\n",
    "    plt.savefig(sys_params[\"figure_location\"]+'/intensity_mollweide_'+str(iex) + sys_params[\"plot_file_type\"], dpi=300, bbox_inches='tight')"
   ]
  },
  {
   "cell_type": "markdown",
   "id": "26a59c81-7459-4770-a8d0-bd8c6d02707e",
   "metadata": {
    "jp-MarkdownHeadingCollapsed": true,
    "tags": []
   },
   "source": [
    "## Analysis from ifriit output"
   ]
  },
  {
   "cell_type": "code",
   "execution_count": null,
   "id": "abcd7a46-8e02-43d0-b974-c35227f1886c",
   "metadata": {},
   "outputs": [],
   "source": [
    "filename_flipped_trainingdata = \"flipped_training_data_and_labels.nc\""
   ]
  },
  {
   "cell_type": "code",
   "execution_count": null,
   "id": "2742531a-2e69-4073-a033-312f9b1a38f7",
   "metadata": {},
   "outputs": [],
   "source": [
    "num_examples = 1\n",
    "sys_params = tdg.define_system_params(diag_dir)\n",
    "sys_params[\"run_gen_deck\"] = False\n",
    "\n",
    "if old_format:\n",
    "    dataset_params, facility_spec = tdg.define_dataset_params(int(num_examples))\n",
    "else:\n",
    "    dataset_params = nrw.read_general_netcdf(diag_dir + \"/\" + sys_params[\"dataset_params_filename\"])\n",
    "    facility_spec = nrw.read_general_netcdf(diag_dir + \"/\" + sys_params[\"facility_spec_filename\"])\n",
    "dataset_params[\"num_examples\"] = num_examples"
   ]
  },
  {
   "cell_type": "code",
   "execution_count": null,
   "id": "257f48cf-98dd-47d2-9ff4-85ac31888714",
   "metadata": {},
   "outputs": [],
   "source": [
    "if old_format:\n",
    "    intensity_map_sr = nrw.read_intensity(run_location, dataset_params[\"imap_nside\"], facility_spec['target_radius'])\n",
    "    # convert from W/sr to W/cm**2\n",
    "    intensity_map = intensity_map_sr / (facility_spec['target_radius'] / 10000.0)**2\n",
    "else:\n",
    "    parameters = nrw.read_general_netcdf(run_location + \"/\" + sys_params[\"ifriit_ouput_name\"])\n",
    "    intensity_map = parameters[\"intensity\"]\n",
    "    # convert from W/cm**2 to W/sr\n",
    "    intensity_map_sr = parameters[\"intensity\"] * (facility_spec['target_radius'] / 10000.0)**2\n",
    "\n",
    "if display_steradians:\n",
    "    hp.mollview(intensity_map_sr, unit=r\"$\\rm{W/sr}$\", flip=\"geo\")\n",
    "else:\n",
    "    hp.mollview(intensity_map, unit=r\"$\\rm{W/cm^2}$\", flip=\"geo\")\n",
    "hp.graticule()\n",
    "plt.savefig(run_location+\"/init_illumination\" + sys_params[\"plot_file_type\"], dpi=300, bbox_inches='tight')"
   ]
  },
  {
   "cell_type": "code",
   "execution_count": null,
   "id": "cc1e7dff-4cce-43d5-8fbe-2d2d554a9eef",
   "metadata": {},
   "outputs": [],
   "source": [
    "LMAX = dataset_params[\"LMAX\"]\n",
    "power_spectrum_unweighted = uim.power_spectrum(intensity_map, LMAX)\n",
    "x_max = LMAX\n",
    "\n",
    "fig = plt.figure()\n",
    "ax = plt.axes()\n",
    "plt.plot(np.arange(LMAX), power_spectrum_unweighted * 100.0)\n",
    "ax.set_xticks(range(0, LMAX+1, int(LMAX/5)))\n",
    "plt.xlim([0, x_max])\n",
    "plt.title(\"Unweighted Modes\")\n",
    "plt.xlabel(\"l mode\")\n",
    "plt.ylabel(r\"amplitude ($\\%$)\")\n",
    "plt.savefig(run_location+\"/init_modes\" + sys_params[\"plot_file_type\"], dpi=300, bbox_inches='tight')"
   ]
  },
  {
   "cell_type": "code",
   "execution_count": null,
   "id": "e5a4c119-b464-4f3a-a528-dd4b8c9155cf",
   "metadata": {},
   "outputs": [],
   "source": [
    "intensity_map_normalized, avg_power = uim.imap_norm(intensity_map)\n",
    "hp.mollview((intensity_map_normalized+1)*avg_power, unit=r\"$\\rm{W/cm^2}$\", flip=\"geo\")\n",
    "\n",
    "real_modes, imag_modes = uim.imap2modes(intensity_map_normalized, LMAX, avg_power)\n",
    "intensity_map_normalized2 = uim.modes2imap(real_modes, imag_modes, dataset_params[\"imap_nside\"])\n",
    "hp.mollview((intensity_map_normalized2+1)*avg_power, unit=r\"$\\rm{W/cm^2}$\", flip=\"geo\")"
   ]
  },
  {
   "cell_type": "markdown",
   "id": "142f0966-2287-43e0-9fc4-87e3b9b5b3cf",
   "metadata": {
    "jp-MarkdownHeadingCollapsed": true,
    "tags": []
   },
   "source": [
    "## Open Ifriit heat source modes"
   ]
  },
  {
   "cell_type": "code",
   "execution_count": null,
   "id": "917f5685-6a41-4f79-ba8a-d502cdb50dd8",
   "metadata": {},
   "outputs": [],
   "source": [
    "file_name = sys_params[\"heat_source_nc\"]\n",
    "\n",
    "hs_and_modes = nrw.read_general_netcdf(run_location+\"/\"+file_name)\n",
    "\n",
    "avg_flux = hs_and_modes[\"average_flux\"][0]\n",
    "print('Intensity per steradian, {:.2e}W/sr'.format(avg_flux))\n",
    "\n",
    "lmax = 30\n",
    "np_complex = np.vectorize(complex)\n",
    "X_train_complex = np_complex(hs_and_modes[\"complex_modes\"][0,:], hs_and_modes[\"complex_modes\"][1,:])\n",
    "\n",
    "intensity_map_normalized = hp.alm2map(X_train_complex, lmax)\n",
    "#hp.mollview(intensity_map_normalized, unit=r\"$\\rm{W/sr}$\",flip=\"geo\")\n",
    "hp.mollview((intensity_map_normalized+1)*avg_flux, unit=r\"$\\rm{W/sr}$\",flip=\"geo\")\n",
    "\n",
    "hp.mollview((intensity_map_normalized+1)*avg_flux / (facility_spec['target_radius'] / 10000.0)**2, unit=r\"$\\rm{W/cm^2}$\",flip=\"geo\")\n",
    "\n",
    "theta_edges = (hs_and_modes[\"theta\"][1:] + hs_and_modes[\"theta\"][:-1]) / 2.0\n",
    "theta_edges = np.append(0.0, theta_edges)\n",
    "theta_edges = np.append(theta_edges, np.pi)\n",
    "phi_edges = (hs_and_modes[\"phi\"][1:] + hs_and_modes[\"phi\"][:-1]) / 2.0\n",
    "phi_edges = np.append(0.0, phi_edges)\n",
    "phi_edges = np.append(phi_edges, 2.0*np.pi)\n",
    "\n",
    "theta_grid, phi_grid = np.meshgrid(theta_edges, phi_edges)\n",
    "\n",
    "dphi = phi_grid[1:,1:] - phi_grid[:-1,1:]\n",
    "d_cos_theta = np.cos(theta_grid[1:,1:]) - np.cos(theta_grid[1:,:-1])\n",
    "domega = np.abs(dphi * d_cos_theta)\n",
    "\n",
    "total_pwr = np.sum(hs_and_modes[\"heat_source\"] * domega)\n",
    "surface_area = 4.0 * np.pi * (facility_spec['target_radius'] / 10000.0)**2\n",
    "avg_flux = total_pwr / (4.0 * np.pi)\n",
    "\n",
    "print('Mean intensity is {:.2e}W/cm^2, '.format(total_pwr / surface_area)) #/ 4.0 / np.pi\n",
    "print('Intensity per steradian, {:.2e}W/sr'.format(avg_flux))\n",
    "\n",
    "power_spectrum = uim.alms2power_spectrum(X_train_complex, lmax)\n",
    "\n",
    "fig = plt.figure()\n",
    "ax = plt.axes()\n",
    "plt.plot(np.arange(LMAX), np.sqrt(power_spectrum) * 100.0)\n",
    "ax.set_xticks(range(0, LMAX+1, int(LMAX/5)))\n",
    "plt.xlim([0, LMAX])\n",
    "plt.title(\"Unweighted Modes Python\")\n",
    "plt.xlabel(\"l mode\")\n",
    "plt.ylabel(r\"amplitude ($\\%$)\")"
   ]
  },
  {
   "cell_type": "code",
   "execution_count": null,
   "id": "96219c3f-b522-482e-ade9-f54703c50c71",
   "metadata": {},
   "outputs": [],
   "source": [
    "theta_grid, phi_grid = np.meshgrid(hs_and_modes[\"theta\"], hs_and_modes[\"phi\"])\n",
    "plt.pcolor(theta_grid, phi_grid, hs_and_modes[\"heat_source\"])\n",
    "plt.colorbar()\n",
    "\n",
    "nside_low = 16\n",
    "nside = 32\n",
    "\n",
    "pixel_ind = hp.ang2pix(nside_low, theta_grid.reshape(-1), phi_grid.reshape(-1))\n",
    "imap_low = np.zeros(hp.nside2npix(nside_low))\n",
    "imap_low[pixel_ind] = hs_and_modes[\"heat_source\"].reshape(-1)\n",
    "imap_upgrade = hp.ud_grade(imap_low, nside)\n",
    "\n",
    "pix_ind = hp.ang2pix(nside, theta_grid.reshape(-1), phi_grid.reshape(-1))\n",
    "imap_high = np.zeros(hp.nside2npix(nside))\n",
    "imap_upgrade[pix_ind] = hs_and_modes[\"heat_source\"].reshape(-1)\n",
    "\n",
    "# convert from W/sr to W/cm**2  \n",
    "hp.mollview(imap_upgrade / (facility_spec['target_radius'] / 10000.0)**2, unit=r\"$\\rm{W/cm^2}$\",flip=\"geo\")\n",
    "print('Mean intensity is {:.2e}W/cm^2, '.format(np.mean(imap_upgrade) / (facility_spec['target_radius'] / 10000.0)**2))\n",
    "hp.graticule()\n",
    "plt.savefig(run_location+\"/heatsource\" + sys_params[\"plot_file_type\"], dpi=300, bbox_inches='tight')\n",
    "\n",
    "LMAX = 30\n",
    "power_spectrum_unweighted = uim.power_spectrum(imap_upgrade, LMAX)\n",
    "\n",
    "fig = plt.figure()\n",
    "ax = plt.axes()\n",
    "plt.plot(np.arange(LMAX), power_spectrum_unweighted * 100.0)\n",
    "ax.set_xticks(range(0, LMAX+1, int(LMAX/5)))\n",
    "plt.xlim([0, LMAX])\n",
    "plt.title(\"Unweighted Modes Python\")\n",
    "plt.xlabel(\"l mode\")\n",
    "plt.ylabel(r\"amplitude ($\\%$)\")\n",
    "plt.savefig(run_location+\"/hs_modes\" + sys_params[\"plot_file_type\"], dpi=300, bbox_inches='tight')"
   ]
  },
  {
   "cell_type": "markdown",
   "id": "904befe8-80b4-4a42-96b7-ddf8c61914dd",
   "metadata": {
    "jp-MarkdownHeadingCollapsed": true,
    "tags": []
   },
   "source": [
    "## Check aster input netcdf"
   ]
  },
  {
   "cell_type": "code",
   "execution_count": null,
   "id": "85841c27-185a-4d70-a5c6-e650594babbe",
   "metadata": {},
   "outputs": [],
   "source": [
    "from netCDF4 import Dataset"
   ]
  },
  {
   "cell_type": "code",
   "execution_count": null,
   "id": "a4f4a202-c2a5-430e-87d4-10bfdc022705",
   "metadata": {},
   "outputs": [],
   "source": [
    "def read_general_netcdf_test(filename):\n",
    "    parameters = {}\n",
    "\n",
    "    rootgrp = Dataset(filename + \".nc\")\n",
    "     \n",
    "    grp = rootgrp[\"data\"]\n",
    "    keys = list(grp.variables.keys())\n",
    "    for key in keys:\n",
    "        if np.shape(np.shape(grp[key]))[0] == 2:\n",
    "            parameters[key] = grp[key][:,:]\n",
    "        if np.shape(np.shape(grp[key]))[0] == 1:\n",
    "            parameters[key] = grp[key][:]\n",
    "    rootgrp.close()\n",
    "\n",
    "    return parameters"
   ]
  },
  {
   "cell_type": "code",
   "execution_count": null,
   "id": "4793200a-2d96-4737-b899-f4dc3f8b5bf4",
   "metadata": {},
   "outputs": [],
   "source": [
    "file_name = \"ifriit_1davg_input.nc\" #\"N210519\" #\"N190204-003\"\n",
    "aster_input = nrw.read_general_netcdf(run_location+\"/\"+file_name)\n",
    "print(aster_input.keys())\n",
    "\n",
    "\"\"\"\n",
    "run_loc2 = sys_params[\"root_dir\"] + \"/\" + sys_params[\"sim_dir\"] + str(0) #change comparison file here\n",
    "file_name = \"ifriit_1davg_input.nc\" #\"N210519\" #\"N190204-003\"\n",
    "aster_input2 = nrw.read_general_netcdf(run_loc2+\"/\"+file_name)\n",
    "\n",
    "for key in aster_input.keys():\n",
    "    print(np.shape(aster_input[key]), np.shape(aster_input[key]))\n",
    "    #print(aster_input[key], aster_input2[key])\n",
    "#\"\"\"\n",
    "\n",
    "plt.figure()\n",
    "var = \"ne\"\n",
    "plt.plot(aster_input['xs'].reshape(-1),np.log10(aster_input[var].reshape(-1)),label=\"a\")\n",
    "#plt.plot(aster_input2['xs'].reshape(-1),np.log10(aster_input2[var].reshape(-1)),label=\"b\")\n",
    "plt.xlabel(r\"Radius ($\\mu m$)\")\n",
    "plt.ylabel(var)\n",
    "plt.legend()\n",
    "plt.savefig(run_location+\"/profiles_\" + var + sys_params[\"plot_file_type\"], dpi=300, bbox_inches='tight')"
   ]
  },
  {
   "cell_type": "markdown",
   "id": "f8364953-8f8f-4b68-9f90-a32ecd5de19c",
   "metadata": {
    "jp-MarkdownHeadingCollapsed": true,
    "tags": []
   },
   "source": [
    "# Combine Datasets"
   ]
  },
  {
   "cell_type": "code",
   "execution_count": null,
   "id": "f3ca18ad-2050-4a3c-9c6c-924a951feb15",
   "metadata": {},
   "outputs": [],
   "source": [
    "from netCDF4 import Dataset\n",
    "from os import path\n",
    "import os\n",
    "import numpy as np\n",
    "import netcdf_read_write as nrw\n",
    "sys_params = tdg.define_system_params(run_dir)"
   ]
  },
  {
   "cell_type": "code",
   "execution_count": null,
   "id": "d7f61a17-aa37-47bc-8e99-3262fdc70b52",
   "metadata": {},
   "outputs": [],
   "source": [
    "dataset1 = \"Data1\"\n",
    "dataset2 = \"Data2\"\n",
    "\n",
    "new_file = \"Data3\"\n",
    "\n",
    "filename_trainingdata = dataset1 + \"/\" + sys_params[\"trainingdata_filename\"] \n",
    "training_data = Dataset(filename_trainingdata)\n",
    "X_1 = training_data.variables[\"X_train\"][:]\n",
    "Y_1 = training_data.variables[\"Y_train\"][:]\n",
    "avg_powers_1 = training_data.variables[\"avg_powers\"][:]\n",
    "training_data.close()\n",
    "\n",
    "filename_trainingdata = dataset2 + \"/\" + sys_params[\"trainingdata_filename\"] \n",
    "training_data = Dataset(filename_trainingdata)\n",
    "X_2 = training_data.variables[\"X_train\"][:]\n",
    "Y_2 = training_data.variables[\"Y_train\"][:]\n",
    "avg_powers_2 = training_data.variables[\"avg_powers\"][:]\n",
    "training_data.close()\n",
    "\n",
    "X_train = np.hstack((X_1, X_2))\n",
    "Y_train = np.hstack((Y_1, Y_2))\n",
    "avg_powers = np.hstack((avg_powers_1, avg_powers_2))\n",
    "print(np.shape(X_train), np.shape(Y_train), np.shape(avg_powers))\n",
    "\n",
    "filename_trainingdata = new_file + \"/\" + sys_params[\"trainingdata_filename\"] \n",
    "nrw.save_training_data(X_train, Y_train, avg_powers, filename_trainingdata)"
   ]
  },
  {
   "cell_type": "markdown",
   "id": "9a9145b5-bc3a-4838-b506-7e5161ca8f6f",
   "metadata": {
    "jp-MarkdownHeadingCollapsed": true,
    "tags": []
   },
   "source": [
    "# Create time varying input deck"
   ]
  },
  {
   "cell_type": "code",
   "execution_count": null,
   "id": "d8ef9f5f-adec-4f53-8952-d8b6a7d10c18",
   "metadata": {},
   "outputs": [],
   "source": [
    "run_dir = \"Data_min10\"\n",
    "iex = 0\n",
    "num_examples = 1\n",
    "import_flipped = True\n",
    "\n",
    "sys_params = tdg.define_system_params(run_dir)\n",
    "sys_params[\"run_gen_deck\"] = False\n",
    "if import_flipped:\n",
    "    sys_params[\"trainingdata_filename\"] = filename_flipped_trainingdata\n",
    "dataset_params, facility_spec = tdg.define_dataset_params(int(num_examples))\n",
    "\n",
    "X_all, Y_all, avg_powers_all = nrw.import_training_data(sys_params)\n",
    "dataset_params[\"Y_train\"] = Y_all[:,iex]\n",
    "if import_flipped:\n",
    "    dataset_params[\"Y_train\"] = X_all[:,iex]\n",
    "print(np.shape(dataset_params[\"Y_train\"]))\n",
    "print(dataset_params[\"Y_train\"])\n",
    "dataset_params = idg.create_run_files(dataset_params, sys_params, facility_spec)"
   ]
  },
  {
   "cell_type": "code",
   "execution_count": null,
   "id": "e37ad084-b259-495d-aba2-be44a7a985d6",
   "metadata": {},
   "outputs": [],
   "source": [
    "num_cones = int(facility_spec['num_cones']/2) # Symmetry in top bottom hemisphere\n",
    "num_params = int(dataset_params[\"num_variables_per_beam\"] * facility_spec['num_cones']/2)\n",
    "\n",
    "power_slice = slice(3, num_params, num_cones)\n",
    "cone_powers = dataset_params[\"Y_train\"][power_slice] / 2.0 + dataset_params[\"min_power\"]\n",
    "\n",
    "print(cone_powers)\n",
    "\n",
    "total_power = 0.0\n",
    "for icone in range(num_cones):\n",
    "    beams_per_cone = facility_spec['beams_per_cone'][icone]\n",
    "    total_power += cone_powers[icone] * beams_per_cone * 2.0\n",
    "mean_power_fraction = total_power / facility_spec['nbeams']\n",
    "\n",
    "print(mean_power_fraction)"
   ]
  },
  {
   "cell_type": "code",
   "execution_count": null,
   "id": "7f8eb724-9f1d-4e64-a6ff-6d95e9ffd7d8",
   "metadata": {},
   "outputs": [],
   "source": [
    "import csv\n",
    "import utils_intensity_map as uim"
   ]
  },
  {
   "cell_type": "markdown",
   "id": "e822c37e-0036-4c57-a451-c21387c4be28",
   "metadata": {},
   "source": [
    "The laser pulse selected is from N210519. The powers are different per ring so we find the total power."
   ]
  },
  {
   "cell_type": "code",
   "execution_count": null,
   "id": "c10b25b6-5f01-4b89-a7ed-25ef1edc79dd",
   "metadata": {},
   "outputs": [],
   "source": [
    "file_name = \"laser_pulse_data/I_PDD_BePDD_DDShap_EEE_Ring\"\n",
    "file_type = \".csv\"\n",
    "\n",
    "num_lines = sum(1 for line in open(file_name + str(1) + file_type))\n",
    "\n",
    "times = np.zeros((num_cones,num_lines))\n",
    "powers = np.zeros((num_cones,num_lines))\n",
    "fig = plt.figure()\n",
    "ax = plt.axes()\n",
    "\n",
    "for icone in range(num_cones):\n",
    "    pulse_file = open(file_name + str(icone+1) + file_type)\n",
    "    pulse_data = csv.reader(pulse_file)\n",
    "    i = 0\n",
    "    for row in pulse_data:\n",
    "        times[icone,i] = float(row[0])\n",
    "        powers[icone,i] = float(row[1])\n",
    "        i += 1\n",
    "\n",
    "    pulse_file.close()\n",
    "    plt.plot(times[icone,:], powers[icone,:])\n",
    "plt.xlabel(\"Time (ns)\")\n",
    "plt.ylabel(\"Power per beam (TW)\")\n",
    "    \n",
    "total_power = powers[0,:] * 32 + powers[1,:] * 32 + powers[2,:] * 64 + powers[3,:] * 64\n",
    "\n",
    "fig = plt.figure()\n",
    "ax = plt.axes()\n",
    "plt.plot(times[0,:], total_power)\n",
    "plt.xlabel(\"Time (ns)\")\n",
    "plt.ylabel(\"Total Power (TW)\")"
   ]
  },
  {
   "cell_type": "code",
   "execution_count": null,
   "id": "9399b072-77ff-4b54-b959-743aa1466cf7",
   "metadata": {},
   "outputs": [],
   "source": [
    "run_dir = \"Data_time_varying\"\n",
    "run_location = run_dir + \"/run_0/\"\n",
    "laser_init_time = 0.0\n",
    "\n",
    "Y_save = dataset_params[\"Y_train\"]\n",
    "dataset_params, facility_spec = tdg.define_dataset_params(num_examples)\n",
    "if hemisphere_symmetric == 0:\n",
    "    dataset_params[\"hemisphere_symmetric\"] = False\n",
    "dataset_params[\"Y_train\"] = Y_save\n",
    "print(dataset_params[\"Y_train\"])\n",
    "\n",
    "avg_single_beam = total_power / facility_spec['nbeams'] / mean_power_fraction\n",
    "\n",
    "cone_multiplier = 0.0\n",
    "for ibeam in range(facility_spec['nbeams']):\n",
    "    beam = facility_spec['Beam'][ibeam]\n",
    "    file_name = run_location + \"pulse_\" + beam + \".txt\"\n",
    "    \n",
    "    cone_name = facility_spec[\"Cone\"][ibeam]\n",
    "    if (cone_name == 23.5):\n",
    "        cone_multiplier = cone_powers[0]\n",
    "    elif (cone_name == 30):\n",
    "        cone_multiplier = cone_powers[1]\n",
    "    elif (cone_name == 44.5):\n",
    "        cone_multiplier = cone_powers[2]\n",
    "    else:\n",
    "        cone_multiplier = cone_powers[3]\n",
    "    \n",
    "    with open(file_name,\"w\") as out:\n",
    "        for irow in range(len(avg_single_beam)):\n",
    "            out.write(str(times[0,irow]) + ' ' + str(avg_single_beam[irow] * cone_multiplier))\n",
    "            out.write('\\r\\n')\n",
    "    out.close()\n",
    "    \n",
    "fig = plt.figure()\n",
    "ax = plt.axes()\n",
    "plt.plot(times[0,:], avg_single_beam * cone_powers[0])\n",
    "plt.plot(times[0,:], avg_single_beam * cone_powers[1])\n",
    "plt.plot(times[0,:], avg_single_beam * cone_powers[2])\n",
    "plt.plot(times[0,:], avg_single_beam * cone_powers[3])\n",
    "plt.xlabel(\"Time (ns)\")\n",
    "plt.ylabel(\"Power per beam (TW)\")\n",
    "\n",
    "sys_params = tdg.define_system_params(run_dir)\n",
    "sys_params[\"run_clean\"] = False\n",
    "facility_spec['t0'] = laser_init_time\n",
    "\n",
    "dataset_params = idg.create_run_files(dataset_params, sys_params, facility_spec)\n",
    "\n",
    "idg.generate_input_deck(facility_spec, run_location)\n",
    "idg.generate_input_pointing_and_pulses(facility_spec, run_location, dataset_params[\"run_type\"])"
   ]
  },
  {
   "cell_type": "markdown",
   "id": "561e47b7-df8b-49ac-9827-101af82d99d7",
   "metadata": {
    "jp-MarkdownHeadingCollapsed": true,
    "tags": []
   },
   "source": [
    "# Check Polar Coord Generation"
   ]
  },
  {
   "cell_type": "code",
   "execution_count": null,
   "id": "f1ed2582-f808-480a-9a44-6880ae36e583",
   "metadata": {},
   "outputs": [],
   "source": [
    "import healpy_pointings as hpoint"
   ]
  },
  {
   "cell_type": "code",
   "execution_count": null,
   "id": "2c70a6b7-a902-4c6f-a80c-fd7740760028",
   "metadata": {},
   "outputs": [],
   "source": [
    "nr = 10000\n",
    "\n",
    "x = np.random.rand(nr) * 2.0 - 1.0\n",
    "y = np.random.rand(nr) * 2.0 - 1.0\n",
    "theta_max = np.pi / 4.0\n",
    "\n",
    "cart_x_coords = np.zeros((nr))\n",
    "cart_y_coords = np.zeros((nr))\n",
    "polar_p_coords = np.zeros((nr))\n",
    "polar_t_coords = np.zeros((nr))\n",
    "for ir in range(nr):\n",
    "    cart_x_coords[ir] = x[ir]\n",
    "    cart_y_coords[ir] = y[ir]\n",
    "\n",
    "    r, offset_phi = hpoint.square2disk(x[ir], y[ir])\n",
    "    offset_theta = theta_max * r\n",
    "\n",
    "    polar_p_coords[ir] = offset_phi\n",
    "    polar_t_coords[ir] = offset_theta\n",
    "\n",
    "X = cart_x_coords\n",
    "Y = cart_y_coords\n",
    "\n",
    "fig = plt.figure()\n",
    "plt.plot(X,Y,\"*\")\n",
    "\n",
    "print(np.min(polar_p_coords))\n",
    "print(np.max(polar_p_coords))\n",
    "\n",
    "U = np.degrees(polar_t_coords * np.cos(polar_p_coords))\n",
    "V = np.degrees(polar_t_coords * np.sin(polar_p_coords))\n",
    "\n",
    "fig1 = plt.figure()\n",
    "plt.plot(U,V,\"*\")"
   ]
  },
  {
   "cell_type": "code",
   "execution_count": null,
   "id": "be455f8c-4ea8-4881-b2df-462e7c88f2d2",
   "metadata": {},
   "outputs": [],
   "source": [
    "nx = 50\n",
    "ny = 50\n",
    "\n",
    "x = np.linspace(-1, 1, nx)\n",
    "y = np.linspace(-1, 1, ny)\n",
    "theta_max = np.pi / 4.0\n",
    "\n",
    "cart_x_coords = np.zeros((nx,ny))\n",
    "cart_y_coords = np.zeros((nx,ny))\n",
    "polar_p_coords = np.zeros((nx,ny))\n",
    "polar_t_coords = np.zeros((nx,ny))\n",
    "for ix in range(nx):\n",
    "    for iy in range(ny):\n",
    "        cart_x_coords[ix,iy] = x[ix]\n",
    "        cart_y_coords[ix,iy] = y[iy]\n",
    "        \n",
    "        r, offset_phi = hpoint.square2disk(x[ix], y[iy])\n",
    "        offset_theta = theta_max * r\n",
    "        \n",
    "        polar_p_coords[ix,iy] = offset_phi\n",
    "        polar_t_coords[ix,iy] = offset_theta\n",
    "\n",
    "X = cart_x_coords.flatten()\n",
    "Y = cart_y_coords.flatten()\n",
    "\n",
    "fig = plt.figure()\n",
    "plt.plot(X,Y,\"*\")\n",
    "\n",
    "phi = polar_p_coords.flatten()\n",
    "theta = polar_t_coords.flatten()\n",
    "U = np.degrees(theta * np.cos(phi))\n",
    "V = np.degrees(theta * np.sin(phi))\n",
    "\n",
    "fig1 = plt.figure()\n",
    "plt.plot(U,V,\"*\")"
   ]
  },
  {
   "cell_type": "markdown",
   "id": "bb279fd2-8b48-4aa9-aed9-4c3b26e8e6b8",
   "metadata": {
    "jp-MarkdownHeadingCollapsed": true,
    "tags": []
   },
   "source": [
    "# Neural Network"
   ]
  },
  {
   "cell_type": "code",
   "execution_count": null,
   "id": "de6da9c7-8191-482e-b0ab-d13f829a9c77",
   "metadata": {},
   "outputs": [],
   "source": [
    "import neural_network_generation as nng\n",
    "num_epochs = 20\n",
    "num_nn = 1\n",
    "use_final_sigmoid = 1"
   ]
  },
  {
   "cell_type": "code",
   "execution_count": null,
   "id": "40bdaf13-ba04-4d45-9497-eeed75253eba",
   "metadata": {},
   "outputs": [],
   "source": [
    "nn_params, nn_dataset, sys_params, nn_hyperparams = nng.main((_, run_dir, num_epochs, num_nn, use_final_sigmoid))"
   ]
  },
  {
   "cell_type": "code",
   "execution_count": null,
   "id": "ca83dee1-93b7-441b-b51d-3edb0ff82602",
   "metadata": {},
   "outputs": [],
   "source": [
    "fig = plt.figure()\n",
    "ax1 = plt.axes()\n",
    "ax1.plot(nn_hyperparams[\"initialize_seed\"], nn_hyperparams[\"test_acc\"], \"x\")\n",
    "ax1.set_ylabel('Absolute Test Accuracy')\n",
    "ax1.set_xlabel('Neural Network Random Seed')"
   ]
  },
  {
   "cell_type": "markdown",
   "id": "02ea891e-857c-41f2-a1b2-f8bf873ee386",
   "metadata": {
    "jp-MarkdownHeadingCollapsed": true,
    "tags": []
   },
   "source": [
    "## Compare NN"
   ]
  },
  {
   "cell_type": "code",
   "execution_count": null,
   "id": "baf11021-9c18-421d-9373-d4ee4f9a22e2",
   "metadata": {},
   "outputs": [],
   "source": [
    "import netcdf_read_write as nrw"
   ]
  },
  {
   "cell_type": "code",
   "execution_count": null,
   "id": "19ce9079-4973-47ee-90a4-d0b976b7f377",
   "metadata": {},
   "outputs": [],
   "source": [
    "filename_hyperparams = nn_params[\"dir_nn_weights\"] + \"/\" + nn_params[\"filename_hyperparams\"]\n",
    "nn_hyperparams = nrw.read_nn_weights(filename_hyperparams)\n",
    "\n",
    "fig = plt.figure()\n",
    "ax1 = plt.axes()\n",
    "ax1.plot(nn_hyperparams[\"initialize_seed\"], nn_hyperparams[\"test_acc\"], \"x\")\n",
    "ax1.set_ylabel('Absolute Test Accuracy')\n",
    "ax1.set_xlabel('Random Seed')"
   ]
  },
  {
   "cell_type": "markdown",
   "id": "262af551-6a7e-4f2b-8984-2b9bc03a346a",
   "metadata": {
    "jp-MarkdownHeadingCollapsed": true,
    "tags": []
   },
   "source": [
    "## Compare NN accuracy from weights"
   ]
  },
  {
   "cell_type": "code",
   "execution_count": null,
   "id": "cfc20971-38c5-4f6d-92b6-0e5d88888043",
   "metadata": {},
   "outputs": [],
   "source": [
    "import tf_neural_network as tfnn\n",
    "import netcdf_read_write as nrw\n",
    "import neural_network_generation as nng"
   ]
  },
  {
   "cell_type": "code",
   "execution_count": null,
   "id": "bc40e807-b330-4193-a955-8a030efc408b",
   "metadata": {},
   "outputs": [],
   "source": [
    "num_nn = 1"
   ]
  },
  {
   "cell_type": "code",
   "execution_count": null,
   "id": "93b05412-ffe3-435b-9265-afc09868a1a8",
   "metadata": {},
   "outputs": [],
   "source": [
    "initialize_seed = np.arange(num_nn)\n",
    "test_acc = np.zeros(num_nn)\n",
    "\n",
    "sys_params = tdg.define_system_params(run_dir)\n",
    "X_all, Y_all, avg_powers_all = nrw.import_training_data(sys_params)\n",
    "\n",
    "nn_params = nng.define_nn_params(num_nn)\n",
    "filename_hyperparams = nn_params[\"dir_nn_weights\"] + \"/\" + nn_params[\"filename_hyperparams\"]\n",
    "nn_hyperparams = nrw.read_nn_weights(filename_hyperparams)\n",
    "\n",
    "for inn in range(num_nn):\n",
    "    nn_dataset = nng.seperate_test_set(X_all, Y_all, avg_powers_all, nn_params)\n",
    "    nn_dataset = nng.normalise(nn_dataset, mean=nn_hyperparams[\"mu\"][inn], std_dev=nn_hyperparams[\"sigma\"][inn])\n",
    "    nn_weights = nrw.read_nn_weights(nn_params[\"dir_nn_weights\"] + \"/\" + \"NN\" + str(inn))\n",
    "    y_pred = tfnn.apply_network(nn_dataset[\"X_test\"], nn_weights, nn_hyperparams[\"use_final_sigmoid\"][inn])\n",
    "    test_acc[inn] = np.mean(np.abs(nn_dataset[\"Y_test\"] - y_pred.T))\n",
    "\n",
    "fig = plt.figure()\n",
    "ax1 = plt.axes()\n",
    "ax1.plot(initialize_seed, test_acc, \"x\")\n",
    "ax1.set_ylabel('Absolute Test Accuracy')\n",
    "ax1.set_xlabel('Neural Network Random Seed')\n",
    "plt.savefig(sys_params[\"figure_location\"]+\"/Compare_NN\" + sys_params[\"plot_file_type\"], dpi=300, bbox_inches='tight')"
   ]
  },
  {
   "cell_type": "markdown",
   "id": "5b51179e-499f-4223-966d-197c700663c5",
   "metadata": {
    "jp-MarkdownHeadingCollapsed": true,
    "tags": []
   },
   "source": [
    "## Run Prediction Through Ifriit"
   ]
  },
  {
   "cell_type": "code",
   "execution_count": null,
   "id": "be8a7bf3-10c4-486c-90a8-b724d9b9f717",
   "metadata": {},
   "outputs": [],
   "source": [
    "import matplotlib.pyplot as plt\n",
    "import healpy as hp\n",
    "import tf_neural_network as tfnn\n",
    "import netcdf_read_write as nrw\n",
    "import utils_deck_generation as idg\n",
    "import training_data_generation as tdg\n",
    "import utils_intensity_map as uim\n",
    "import neural_network_generation as nng\n",
    "%matplotlib inline\n",
    "num_epochs = 10"
   ]
  },
  {
   "cell_type": "code",
   "execution_count": null,
   "id": "1692c090-ec2a-4393-ab0e-eade2a85348c",
   "metadata": {},
   "outputs": [],
   "source": [
    "run_dir = \"Data\"\n",
    "test_pred_dir = \"Data_test_pred_1\"\n",
    "\n",
    "# choose neural network\n",
    "inn = 0\n",
    "num_nn = 1\n",
    "nn_params = nng.define_nn_params(num_nn)\n",
    "nn_weights = nrw.read_nn_weights(nn_params[\"dir_nn_weights\"] + \"/\" + \"NN\" + str(inn))\n",
    "filename_hyperparams = nn_params[\"dir_nn_weights\"] + \"/\" + nn_params[\"filename_hyperparams\"]\n",
    "nn_hyperparams = nrw.read_nn_weights(filename_hyperparams)\n",
    "\n",
    "# choose test data set\n",
    "sys_params = tdg.define_system_params(run_dir)\n",
    "X_all, Y_all, avg_powers_all = nrw.import_training_data(sys_params)\n",
    "nn_params = nng.define_nn_params(num_nn)\n",
    "nn_params[\"use_test_set\"] = False\n",
    "nn_dataset = nng.seperate_test_set(X_all, Y_all, avg_powers_all, nn_params)\n",
    "\n",
    "nn_dataset = nng.normalise(nn_dataset, mean=nn_hyperparams[\"mu\"][inn], std_dev=nn_hyperparams[\"sigma\"][inn])\n",
    "dataset_params, facility_spec = tdg.define_dataset_params(nn_params[\"num_examples\"])\n",
    "LMAX = dataset_params[\"LMAX\"]\n",
    "dataset_params[\"Y_train\"] = nn_dataset[\"Y_train\"].T\n",
    "dataset_params[\"X_train\"] = nn_dataset[\"X_train\"].T\n",
    "ifriit_inputs_true = Y_all\n",
    "modes_true_all = X_all\n",
    "\n",
    "# Change the number of modes to LMAX\n",
    "modes_true = nng.change_number_modes(modes_true_all, avg_powers_all, LMAX)\n",
    "\n",
    "# apply neural net to test set\n",
    "sys_params = tdg.define_system_params(test_pred_dir)\n",
    "ifriit_inputs_pred = tfnn.apply_network(nn_dataset[\"X_train\"], nn_weights, nn_hyperparams[\"use_final_sigmoid\"][inn])\n",
    "dataset_params[\"Y_train\"] = ifriit_inputs_pred\n",
    "\n",
    "mean_true_val = np.mean(ifriit_inputs_true)\n",
    "print(\"The absolute error is: \", np.mean(np.abs(ifriit_inputs_true - ifriit_inputs_pred)))\n",
    "print(\"The percentage error relative to the mean is: \", np.mean((np.abs(ifriit_inputs_true - ifriit_inputs_pred))) / mean_true_val * 100, \"%\")\n",
    "\n",
    "abs_error = np.mean(np.abs(ifriit_inputs_true - ifriit_inputs_pred), axis=1)\n",
    "rel_error = np.mean(np.abs(ifriit_inputs_true - ifriit_inputs_pred)/ ifriit_inputs_true , axis=1) * 100\n",
    "print(np.shape(abs_error))\n",
    "print(abs_error)\n",
    "print(rel_error)\n",
    "\n",
    "for icone in range(4):\n",
    "    print(\"Cone \", icone+1, \" error: {:.2f}%\".format(np.sum(abs_error[slice(icone,16,4)]) / 4.0 * 100.0 / mean_true_val))\n",
    "\n",
    "parameter_names = [\"offset_theta\", \"offset_phi\", \"cone_defocus\", \"cone_power\"]\n",
    "for icone in range(4):\n",
    "    print(parameter_names[icone], \" error: {:.2f}%\".format(np.sum(abs_error[icone*4:(icone+1)*4]) / 4.0 * 100.0 / mean_true_val))"
   ]
  },
  {
   "cell_type": "code",
   "execution_count": null,
   "id": "c36284a2-24ef-4e1e-9f23-43ef55cff211",
   "metadata": {},
   "outputs": [],
   "source": [
    "# Create new run files\n",
    "sys_params[\"run_clean\"] = False\n",
    "dataset_params = idg.create_run_files(dataset_params, sys_params, facility_spec)\n",
    "tdg.generate_training_data(dataset_params, sys_params, facility_spec)"
   ]
  },
  {
   "cell_type": "code",
   "execution_count": null,
   "id": "37fd5975-6f37-49d6-bace-6d560fe49149",
   "metadata": {},
   "outputs": [],
   "source": [
    "sys_params = tdg.define_system_params(test_pred_dir)\n",
    "num_nn = 1\n",
    "X_all, Y_all, avg_powers_all = nrw.import_training_data(sys_params)\n",
    "modes_pred = uim.change_number_modes(X_all, avg_powers_all, LMAX)\n",
    "\n",
    "mean_val_true = np.mean(np.abs(modes_true))\n",
    "print(\"The absolute error is: \", np.mean(np.abs(modes_true - modes_pred)))\n",
    "print(\"Guessing zero for all modes gives error: \", np.mean(np.abs(modes_true)))\n",
    "print(\"The percentage relative error is: \", np.mean(np.abs(modes_true - modes_pred) / modes_true) * 100.0, \"%\")\n",
    "\n",
    "abs_error = np.mean(np.abs(modes_true - modes_pred), axis=1)\n",
    "rel_error = np.mean(np.abs(modes_true - modes_pred) / modes_true, axis=1) * 100.0\n",
    "print(np.shape(abs_error))\n",
    "print(abs_error)\n",
    "print(rel_error)\n",
    "\n",
    "fig = plt.figure()\n",
    "ax = plt.axes()\n",
    "plt.plot(abs_error)\n",
    "plt.xlabel(\"Mode\")\n",
    "plt.ylabel(\"Average Absolute Error\")\n",
    "plt.savefig(sys_params[\"figure_location\"]+'/absolute_error_averaged_'+ str(nn_params[\"num_examples\"]) +\"ex\" + sys_params[\"plot_file_type\"], dpi=300, bbox_inches='tight')"
   ]
  },
  {
   "cell_type": "markdown",
   "id": "7ded1b73-8762-43d2-9dd8-e85c084d96be",
   "metadata": {
    "jp-MarkdownHeadingCollapsed": true,
    "tags": []
   },
   "source": [
    "## Automate Finding Minima"
   ]
  },
  {
   "cell_type": "code",
   "execution_count": null,
   "id": "9abd6b05-c5dc-494b-9602-14d43327d599",
   "metadata": {},
   "outputs": [],
   "source": [
    "test_pred_dir = \"Data_minima3\"\n",
    "\n",
    "# choose neural network\n",
    "inn = 0\n",
    "num_nn = 1\n",
    "nn_params = nng.define_nn_params(num_nn)\n",
    "nn_weights = nrw.read_nn_weights(nn_params[\"dir_nn_weights\"] + \"/\" + \"NN\" + str(inn))\n",
    "filename_hyperparams = nn_params[\"dir_nn_weights\"] + \"/\" + nn_params[\"filename_hyperparams\"]\n",
    "nn_hyperparams = nrw.read_nn_weights(filename_hyperparams)\n",
    "\n",
    "# choose test data set\n",
    "sys_params = tdg.define_system_params(\"Data_220713_100ex\")\n",
    "X_all, Y_all, avg_powers_all = nrw.import_training_data(sys_params)\n",
    "nn_params = nng.define_nn_params(num_nn)\n",
    "nn_params[\"use_test_set\"] = False\n",
    "nn_dataset = nng.seperate_test_set(X_all, Y_all, avg_powers_all, nn_params)\n",
    "\n",
    "nn_dataset = nng.normalise(nn_dataset, mean=nn_hyperparams[\"mu\"][inn], std_dev=nn_hyperparams[\"sigma\"][inn])\n",
    "#print(nn_dataset[\"X_train\"][1,0], nn_hyperparams[\"mu\"][inn]/nn_hyperparams[\"sigma\"][inn], nn_hyperparams[\"mu\"][inn]-nn_hyperparams[\"sigma\"][inn])\n",
    "#print(np.shape(nn_dataset[\"X_train\"]))\n",
    "#print(nn_dataset[\"X_train\"][0,:])\n",
    "new_min = nn_hyperparams[\"mu\"][inn]/nn_hyperparams[\"sigma\"][inn]\n",
    "nn_dataset[\"X_train\"] = - new_min + new_min * np.random.rand(np.shape(nn_dataset[\"X_train\"])[0], np.shape(nn_dataset[\"X_train\"])[1])\n",
    "#print(np.shape(nn_dataset[\"X_train\"]))\n",
    "#print(nn_dataset[\"X_train\"][0,:])\n",
    "dataset_params, facility_spec = tdg.define_dataset_params(nn_params[\"num_examples\"])\n",
    "dataset_params[\"Y_train\"] = nn_dataset[\"Y_train\"].T\n",
    "y_true = dataset_params[\"Y_train\"]\n",
    "\n",
    "# apply neural net to test set\n",
    "sys_params = tdg.define_system_params(test_pred_dir)\n",
    "y_pred = tfnn.apply_network(nn_dataset[\"X_train\"], nn_weights, nn_hyperparams[\"use_final_sigmoid\"][inn])\n",
    "dataset_params[\"Y_train\"] = y_pred"
   ]
  },
  {
   "cell_type": "code",
   "execution_count": null,
   "id": "23b8c4e8-6fff-4c33-ba73-0c4932e727a5",
   "metadata": {},
   "outputs": [],
   "source": [
    "# Create new run files\n",
    "sys_params[\"run_clean\"] = False\n",
    "dataset_params = idg.create_run_files(dataset_params, sys_params, facility_spec)\n",
    "tdg.generate_training_data(dataset_params, sys_params, facility_spec)"
   ]
  },
  {
   "cell_type": "code",
   "execution_count": null,
   "id": "434b07e0-d32e-4f43-a4d0-f0a6b5909af6",
   "metadata": {},
   "outputs": [],
   "source": [
    "iex = 0\n",
    "\n",
    "num_examples = 1\n",
    "sys_params = tdg.define_system_params(test_pred_dir)\n",
    "sys_params[\"run_gen_deck\"] = False\n",
    "X_all, Y_all, avg_powers_all = nrw.import_training_data(sys_params)\n",
    "\n",
    "dataset_params, facility_spec = tdg.define_dataset_params(int(num_examples))\n",
    "dataset_params[\"Y_train\"] = Y_all[:,iex]\n",
    "dataset_params = idg.create_run_files(dataset_params, sys_params, facility_spec)\n",
    "\n",
    "mean_power_fraction = uim.extract_run_parameters(dataset_params, facility_spec, sys_params)\n",
    "\n",
    "run_location = sys_params[\"root_dir\"] + \"/\" + sys_params[\"sim_dir\"] + str(iex)\n",
    "intensity_map = nrw.read_intensity(run_location, dataset_params[\"imap_nside\"], run_data['target_radius'])\n",
    "intensity_map_rms_spatial = uim.readout_intensity(facility_spec, intensity_map, mean_power_fraction)\n",
    "\n",
    "\n",
    "# convert from W/sr to W/cm**2\n",
    "intensity_map = intensity_map * (facility_spec['target_radius'] / 10000.0)**2\n",
    "hp.mollview(intensity_map,unit=r\"$\\rm{W/cm^2}$\",flip=\"geo\")\n",
    "hp.graticule()\n",
    "port_theta = facility_spec[\"Port_centre_theta\"]\n",
    "port_phi = facility_spec[\"Port_centre_phi\"]\n",
    "hp.projscatter(port_theta, port_phi)\n",
    "hp.projscatter(np.squeeze(dataset_params[\"theta_pointings\"]), np.squeeze(dataset_params[\"phi_pointings\"]))\n",
    "plt.savefig(sys_params[\"figure_location\"]+'/intensity_mollweide_'+ str(iex) + \"low_rms\" + sys_params[\"plot_file_type\"], dpi=300, bbox_inches='tight')"
   ]
  },
  {
   "cell_type": "code",
   "execution_count": null,
   "id": "e5e2f769-79ab-41b4-90f7-1cf8873b0a05",
   "metadata": {},
   "outputs": [],
   "source": [
    "LMAX = dataset_params[\"LMAX\"]\n",
    "power_spectrum_unweighted, power_spectrum_weighted = uim.power_spectrum(intensity_map, LMAX)\n",
    "x_max = LMAX\n",
    "\n",
    "fig = plt.figure()\n",
    "ax = plt.axes()\n",
    "plt.plot(np.arange(LMAX), power_spectrum_unweighted * 100.0)\n",
    "ax.set_xticks(range(0, LMAX+1, int(LMAX/5)))\n",
    "plt.xlim([0, x_max])\n",
    "plt.title(\"Unweighted Modes\")\n",
    "plt.xlabel(\"l mode\")\n",
    "plt.ylabel(r\"amplitude ($\\%$)\")\n",
    "plt.savefig(sys_params[\"figure_location\"]+\"/unweighted_modes_\"+ str(iex) +\"low_rms\" + sys_params[\"plot_file_type\"], dpi=300, bbox_inches='tight')\n",
    "\n",
    "fig = plt.figure()\n",
    "ax = plt.axes()\n",
    "plt.plot(np.arange(LMAX), power_spectrum_weighted * 100.0)\n",
    "ax.set_xticks(range(0, LMAX+1, int(LMAX/5)))\n",
    "plt.xlim([0, x_max])\n",
    "plt.title(\"Weighted Modes\")\n",
    "plt.xlabel(\"l mode\")\n",
    "plt.ylabel(r\"amplitude ($\\%$)\")\n",
    "plt.savefig(sys_params[\"figure_location\"]+\"/weighted_modes\" + sys_params[\"plot_file_type\"], dpi=300, bbox_inches='tight')"
   ]
  },
  {
   "cell_type": "markdown",
   "id": "c4342d71-5259-4713-9617-7a8afe1fc32f",
   "metadata": {
    "jp-MarkdownHeadingCollapsed": true,
    "tags": []
   },
   "source": [
    "## Run PDD through NN"
   ]
  },
  {
   "cell_type": "code",
   "execution_count": null,
   "id": "a46a796c-497d-4c33-96c8-28649184f06c",
   "metadata": {},
   "outputs": [],
   "source": [
    "import matplotlib.pyplot as plt\n",
    "import healpy as hp\n",
    "import tf_neural_network as tfnn\n",
    "import netcdf_read_write as nrw\n",
    "import utils_deck_generation as idg\n",
    "import training_data_generation as tdg\n",
    "import utils_intensity_map as uim\n",
    "import neural_network_generation as nng\n",
    "import utils_intensity_map as uim\n",
    "%matplotlib inline\n",
    "num_epochs = 10\n",
    "num_examples = 1\n",
    "nif_pdd_dir = \"Data_pdd\"\n",
    "nif_pdd_pred_dir = \"Data_pdd_pred\""
   ]
  },
  {
   "cell_type": "code",
   "execution_count": null,
   "id": "a893b857-3b3e-44f5-b437-88b3ab38ad4f",
   "metadata": {},
   "outputs": [],
   "source": [
    "imap_nside = 256\n",
    "LMAX = 30\n",
    "input_size = 992\n",
    "output_size = 16\n",
    "target_radius_microns = 1100\n",
    "\n",
    "run_location = nif_pdd_dir + \"/run_0\"\n",
    "intensity_map = nrw.read_intensity(run_location, imap_nside, target_radius_microns)\n",
    "X_train, avg_powers_all = uim.create_xtrain(intensity_map, LMAX)\n",
    "X_all = np.reshape(X_train, (-1,input_size))\n",
    "Y_all = np.zeros(output_size)\n",
    "\n",
    "# choose neural network\n",
    "inn = 0\n",
    "num_nn = 1\n",
    "nn_params = nng.define_nn_params(num_nn)\n",
    "nn_weights = nrw.read_nn_weights(\"neural_network_weights\" + \"/\" + \"NN\" + str(inn))\n",
    "filename_hyperparams = nn_params[\"dir_nn_weights\"] + \"/\" + nn_params[\"filename_hyperparams\"]\n",
    "nn_hyperparams = nrw.read_nn_weights(filename_hyperparams)\n",
    "\n",
    "# param setup\n",
    "sys_params = tdg.define_system_params(nif_pdd_pred_dir)\n",
    "nn_params[\"use_test_set\"] = False\n",
    "nn_dataset = nng.seperate_test_set(X_all, Y_all, avg_powers_all, nn_params)\n",
    "nn_dataset = nng.normalise(nn_dataset, mean=nn_hyperparams[\"mu\"][inn], std_dev=nn_hyperparams[\"sigma\"][inn])\n",
    "\n",
    "y_pred = tfnn.apply_network(nn_dataset[\"X_train\"].T, nn_weights, nn_hyperparams[\"use_final_sigmoid\"][inn])\n",
    "\n",
    "dataset_params, facility_spec = tdg.define_dataset_params(num_examples)\n",
    "dataset_params[\"Y_train\"] = y_pred"
   ]
  },
  {
   "cell_type": "code",
   "execution_count": null,
   "id": "50ea6769-e780-4fca-8384-895e06de53b3",
   "metadata": {},
   "outputs": [],
   "source": [
    "# Create new run files\n",
    "sys_params[\"run_clean\"] = False\n",
    "dataset_params = idg.create_run_files(dataset_params, sys_params, facility_spec)\n",
    "tdg.generate_training_data(dataset_params, sys_params, facility_spec)"
   ]
  },
  {
   "cell_type": "markdown",
   "id": "1687afd6-ac0c-44bf-8a4f-c967f4f2dcd5",
   "metadata": {
    "jp-MarkdownHeadingCollapsed": true,
    "tags": []
   },
   "source": [
    "# NN as surrogate for Ifriit"
   ]
  },
  {
   "cell_type": "code",
   "execution_count": null,
   "id": "15906c20-bef1-4bce-890f-b9e23d2f1a78",
   "metadata": {},
   "outputs": [],
   "source": [
    "import matplotlib.pyplot as plt\n",
    "import healpy as hp\n",
    "import tf_neural_network as tfnn\n",
    "import netcdf_read_write as nrw\n",
    "import utils_deck_generation as idg\n",
    "import training_data_generation as tdg\n",
    "import utils_intensity_map as uim\n",
    "import neural_network_generation as nng\n",
    "%matplotlib inline\n",
    "num_epochs = 10\n",
    "num_nn = 1\n",
    "run_dir = \"Data\"\n",
    "imap_nside = 256\n",
    "LMAX = 30\n",
    "filename_flipped_trainingdata = \"flipped_training_data_and_labels.nc\"\n",
    "use_final_sigmoid = 0"
   ]
  },
  {
   "cell_type": "code",
   "execution_count": null,
   "id": "bee2c33d-4e9a-47b1-928b-f01b401cf6bb",
   "metadata": {},
   "outputs": [],
   "source": [
    "# choose test data set\n",
    "sys_params = tdg.define_system_params(run_dir)\n",
    "nn_params = nng.define_nn_params(num_nn)\n",
    "\n",
    "X_all, Y_all, avg_powers_all = nrw.import_training_data_reversed(sys_params, LMAX)\n",
    "filename_trainingdata = run_dir + '/' + filename_flipped_trainingdata \n",
    "nrw.save_training_data(X_all, Y_all, avg_powers_all, filename_trainingdata)"
   ]
  },
  {
   "cell_type": "code",
   "execution_count": null,
   "id": "e97548e5-d199-4f08-920d-e6df5e86e083",
   "metadata": {},
   "outputs": [],
   "source": [
    "sys_params = tdg.define_system_params(run_dir)\n",
    "sys_params[\"trainingdata_filename\"] = filename_flipped_trainingdata\n",
    "X_all, Y_all, avg_powers_all = nrw.import_training_data(sys_params)"
   ]
  },
  {
   "cell_type": "code",
   "execution_count": null,
   "id": "6f05a888-59b5-4233-93bf-1e63f8bcdc17",
   "metadata": {},
   "outputs": [],
   "source": [
    "nn_dataset = nng.seperate_test_set(X_all, Y_all, avg_powers_all, nn_params)\n",
    "#nn_dataset = nng.normalise(nn_dataset)\n",
    "nn_hyperparams = nng.define_nn_hyperparams(num_epochs, num_nn, use_final_sigmoid=use_final_sigmoid)\n",
    "nn_hyperparams = nng.multiple_nn(nn_params, nn_dataset, sys_params, nn_hyperparams)"
   ]
  },
  {
   "cell_type": "markdown",
   "id": "17a40cc8-36d8-4452-afc8-b9e8c7879732",
   "metadata": {
    "jp-MarkdownHeadingCollapsed": true,
    "tags": []
   },
   "source": [
    "## Check performance on test set"
   ]
  },
  {
   "cell_type": "code",
   "execution_count": null,
   "id": "38d7d997-3758-4e0f-95bf-d44d22145530",
   "metadata": {},
   "outputs": [],
   "source": [
    "use_final_sigmoid = 0\n",
    "filename_hyperparams = nn_params[\"dir_nn_weights\"] + \"/NN0\"\n",
    "nn_weights = nrw.read_nn_weights(filename_hyperparams)\n",
    "y_pred = tfnn.apply_network(nn_dataset[\"X_test\"], nn_weights, use_final_sigmoid)"
   ]
  },
  {
   "cell_type": "code",
   "execution_count": null,
   "id": "76d5401a-7ab9-43b3-99dd-a24217cc01e0",
   "metadata": {},
   "outputs": [],
   "source": [
    "iex = 0\n",
    "\n",
    "fig = plt.figure()\n",
    "ax = plt.axes()\n",
    "plt.plot(np.arange(LMAX), nn_dataset[\"Y_test\"][iex,:] * 100.0)\n",
    "#plt.plot(np.arange(LMAX), Y_all[:,iex])\n",
    "ax.set_xticks(range(0, LMAX+1, int(LMAX/5)))\n",
    "plt.title(\"Unweighted Modes, Ifriit Inverse Ray Trace\")\n",
    "plt.xlabel(\"l mode\")\n",
    "plt.ylabel(r\"amplitude ($\\%$)\")\n",
    "plt.savefig(sys_params[\"figure_location\"]+\"/unweighted_modes_\"+str(iex)+\"original\" + sys_params[\"plot_file_type\"], dpi=300, bbox_inches='tight')\n",
    "\n",
    "fig = plt.figure()\n",
    "ax = plt.axes()\n",
    "plt.plot(np.arange(LMAX), y_pred[:,iex] * 100.0)\n",
    "ax.set_xticks(range(0, LMAX+1, int(LMAX/5)))\n",
    "plt.title(\"Unweighted Modes, NN Surrogate Model\")\n",
    "plt.xlabel(\"l mode\")\n",
    "plt.ylabel(r\"amplitude ($\\%$)\")\n",
    "plt.savefig(sys_params[\"figure_location\"]+\"/unweighted_modes_\"+str(iex)+\"nn\" + sys_params[\"plot_file_type\"], dpi=300, bbox_inches='tight')"
   ]
  },
  {
   "cell_type": "markdown",
   "id": "76709ac4-c630-4be5-b04f-2e73af9fdda5",
   "metadata": {
    "jp-MarkdownHeadingCollapsed": true,
    "tags": []
   },
   "source": [
    "## Test on Independent Set"
   ]
  },
  {
   "cell_type": "code",
   "execution_count": null,
   "id": "86f767c8-2be0-4123-9f96-de8389fbebc8",
   "metadata": {},
   "outputs": [],
   "source": [
    "run_dir = \"Data_220713_100ex\"\n",
    "filename_flipped_trainingdata = \"flipped_training_data_and_labels.nc\"\n",
    "\n",
    "# choose neural network\n",
    "inn = 0\n",
    "num_nn = 1\n",
    "nn_params = nng.define_nn_params(num_nn)\n",
    "nn_weights = nrw.read_nn_weights(nn_params[\"dir_nn_weights\"] + \"/\" + \"NN\" + str(inn))\n",
    "filename_hyperparams = nn_params[\"dir_nn_weights\"] + \"/\" + nn_params[\"filename_hyperparams\"]\n",
    "nn_hyperparams = nrw.read_nn_weights(filename_hyperparams)\n",
    "\n",
    "# choose test data set\n",
    "sys_params = tdg.define_system_params(run_dir)\n",
    "sys_params[\"trainingdata_filename\"] = filename_flipped_trainingdata\n",
    "X_all, Y_all, avg_powers_all = nrw.import_training_data(sys_params)\n",
    "\n",
    "nn_params = nng.define_nn_params(num_nn)\n",
    "nn_params[\"use_test_set\"] = False\n",
    "nn_dataset = nng.seperate_test_set(X_all, Y_all, avg_powers_all, nn_params, use_test_set=False)\n",
    "\n",
    "dataset_params, facility_spec = tdg.define_dataset_params(nn_params[\"num_examples\"])\n",
    "dataset_params[\"Y_train\"] = nn_dataset[\"Y_train\"].T\n",
    "dataset_params[\"X_train\"] = nn_dataset[\"X_train\"].T\n",
    "ifriit_inputs_true = dataset_params[\"X_train\"]\n",
    "modes_true = dataset_params[\"Y_train\"]\n",
    "\n",
    "# apply neural net to test set\n",
    "modes_pred = tfnn.apply_network(nn_dataset[\"X_train\"], nn_weights, nn_hyperparams[\"use_final_sigmoid\"][inn])"
   ]
  },
  {
   "cell_type": "code",
   "execution_count": null,
   "id": "5946f98a-f285-4e17-ba88-f068c612d8a2",
   "metadata": {},
   "outputs": [],
   "source": [
    "mean_val_true = np.mean(np.abs(modes_true))\n",
    "print(\"The absolute error is: \", np.mean(np.abs(modes_true - modes_pred)))\n",
    "print(\"Guessing zero for all modes gives error: \", np.mean(np.abs(modes_true)))\n",
    "print(\"The percentage relative error is: \", np.mean(np.abs(modes_true - modes_pred) / modes_true) * 100.0, \"%\")\n",
    "\n",
    "abs_error = np.mean(np.abs(modes_true - modes_pred), axis=1)\n",
    "rel_error = np.mean(np.abs(modes_true - modes_pred) / modes_true, axis=1) * 100.0\n",
    "print(np.shape(abs_error))\n",
    "print(abs_error)\n",
    "print(rel_error)\n",
    "\n",
    "fig = plt.figure()\n",
    "ax = plt.axes()\n",
    "plt.plot(abs_error)\n",
    "plt.xlabel(\"Mode\")\n",
    "plt.ylabel(\"Average Absolute Error\")\n",
    "plt.savefig(sys_params[\"figure_location\"]+'/absolute_error_averaged_'+ str(nn_params[\"num_examples\"]) + \"ex\" + sys_params[\"plot_file_type\"], dpi=300, bbox_inches='tight')"
   ]
  },
  {
   "cell_type": "markdown",
   "id": "2704acc9-3dc7-4ad3-ba1e-cc4df0151a89",
   "metadata": {
    "jp-MarkdownHeadingCollapsed": true,
    "tags": []
   },
   "source": [
    "## Find Minimum in Train set"
   ]
  },
  {
   "cell_type": "code",
   "execution_count": null,
   "id": "870c7cf6-70f0-4ce5-ba82-72f1d8037efd",
   "metadata": {},
   "outputs": [],
   "source": [
    "use_final_sigmoid = 0\n",
    "filename_hyperparams = nn_params[\"dir_nn_weights\"] + \"/NN0\"\n",
    "nn_weights = nrw.read_nn_weights(filename_hyperparams)\n",
    "y_pred = tfnn.apply_network(X_all.T, nn_weights, use_final_sigmoid)"
   ]
  },
  {
   "cell_type": "code",
   "execution_count": null,
   "id": "de313dc1-f109-47f5-b6c4-71337571eccf",
   "metadata": {},
   "outputs": [],
   "source": [
    "mindex = np.argmin(np.mean(Y_all, axis=0))\n",
    "print(mindex, \" out of \", np.shape(Y_all))\n",
    "mindex = np.argmin(np.sqrt(np.sum(Y_all**2, axis=0)))\n",
    "print(mindex, \" out of \", np.shape(Y_all))\n",
    "print(np.sqrt(np.sum(Y_all[:,mindex]**2, axis=0)))\n",
    "print(np.shape(Y_all[:,mindex]), X_all[:,mindex])"
   ]
  },
  {
   "cell_type": "code",
   "execution_count": null,
   "id": "77f632ec-670a-4e58-9c66-5802a954b99a",
   "metadata": {},
   "outputs": [],
   "source": [
    "fig = plt.figure()\n",
    "ax = plt.axes()\n",
    "plt.plot(np.arange(LMAX), Y_all[:,mindex] * 100.0)\n",
    "#plt.plot(np.arange(LMAX), Y_all[:,iex])\n",
    "ax.set_xticks(range(0, LMAX+1, int(LMAX/5)))\n",
    "plt.title(\"Unweighted Modes, Ifriit Inverse Ray Trace\")\n",
    "plt.xlabel(\"l mode\")\n",
    "plt.ylabel(r\"amplitude ($\\%$)\")\n",
    "plt.savefig(sys_params[\"figure_location\"]+\"/unweighted_modes_\"+str(mindex)+\"original\" + sys_params[\"plot_file_type\"], dpi=300, bbox_inches='tight')\n",
    "\n",
    "fig = plt.figure()\n",
    "ax = plt.axes()\n",
    "plt.plot(np.arange(LMAX), y_pred[:,mindex] * 100.0)\n",
    "ax.set_xticks(range(0, LMAX+1, int(LMAX/5)))\n",
    "plt.title(\"Unweighted Modes, NN Surrogate Model\")\n",
    "plt.xlabel(\"l mode\")\n",
    "plt.ylabel(r\"amplitude ($\\%$)\")\n",
    "plt.savefig(sys_params[\"figure_location\"]+\"/unweighted_modes_\"+str(mindex)+\"nn\" + sys_params[\"plot_file_type\"], dpi=300, bbox_inches='tight')"
   ]
  },
  {
   "cell_type": "code",
   "execution_count": null,
   "id": "f4d6e094-923f-42cf-9508-a37fd521a790",
   "metadata": {},
   "outputs": [],
   "source": [
    "num_examples = 10\n",
    "run_dir = \"Data_min10\"\n",
    "\n",
    "#min_slice = np.argsort(np.mean(Y_all, axis=0))[:num_examples]\n",
    "min_slice = np.argsort(np.sqrt(np.sum(Y_all**2, axis=0)))[:num_examples]\n",
    "print(min_slice)\n",
    "\n",
    "dataset_params, facility_spec = tdg.define_dataset_params(num_examples)\n",
    "dataset_params[\"Y_train\"] = X_all[:,min_slice]"
   ]
  },
  {
   "cell_type": "code",
   "execution_count": null,
   "id": "a8648861-609d-4222-9e3d-71be0b04dc07",
   "metadata": {},
   "outputs": [],
   "source": [
    "sys_params = tdg.define_system_params(run_dir)\n",
    "\n",
    "# Create new run files\n",
    "#sys_params[\"run_clean\"] = False\n",
    "dataset_params = idg.create_run_files(dataset_params, sys_params, facility_spec)\n",
    "#facility_spec['target_radius'] = 1053.0\n",
    "#facility_spec['default_power'] = 2.5"
   ]
  },
  {
   "cell_type": "code",
   "execution_count": null,
   "id": "a37419f2-8b9c-4e59-8d55-64d65fb94c2d",
   "metadata": {},
   "outputs": [],
   "source": [
    "tdg.generate_training_data(dataset_params, sys_params, facility_spec)"
   ]
  },
  {
   "cell_type": "markdown",
   "id": "92b12b8f-fb09-4c5b-8768-e7b22609df5b",
   "metadata": {
    "jp-MarkdownHeadingCollapsed": true,
    "tags": []
   },
   "source": [
    "## Search for Minima"
   ]
  },
  {
   "cell_type": "code",
   "execution_count": null,
   "id": "1c862111-6b89-4d4b-a872-946f57bb57c0",
   "metadata": {},
   "outputs": [],
   "source": [
    "num_nn = 1\n",
    "nn_params = nng.define_nn_params(num_nn)\n",
    "x_test_random = np.random.rand(1000000,16)\n",
    "print(x_test_random[0,:])"
   ]
  },
  {
   "cell_type": "code",
   "execution_count": null,
   "id": "00f86162-ba3d-408f-b887-6c4d1d2a0bf2",
   "metadata": {},
   "outputs": [],
   "source": [
    "use_final_sigmoid = 0\n",
    "filename_hyperparams = nn_params[\"dir_nn_weights\"] + \"/NN0\"\n",
    "nn_weights = nrw.read_nn_weights(filename_hyperparams)\n",
    "#y_pred = tfnn.apply_network(X_all.T, nn_weights, use_final_sigmoid)\n",
    "y_pred = tfnn.apply_network(x_test_random, nn_weights, use_final_sigmoid)"
   ]
  },
  {
   "cell_type": "code",
   "execution_count": null,
   "id": "34102f0d-8bac-41af-8370-765e94fe11ca",
   "metadata": {},
   "outputs": [],
   "source": [
    "num_examples = 10\n",
    "iex = 0\n",
    "mindex = np.argmin(np.mean(y_pred, axis=0))\n",
    "min_slice = np.argsort(np.mean(y_pred, axis=0))[:num_examples]\n",
    "print(mindex)\n",
    "print(np.shape(x_test_random[min_slice[:],:].T))\n",
    "\n",
    "fig = plt.figure()\n",
    "ax = plt.axes()\n",
    "plt.plot(np.arange(LMAX), y_pred[:,min_slice[iex]] * 100.0)\n",
    "ax.set_xticks(range(0, LMAX+1, int(LMAX/5)))\n",
    "plt.title(\"Unweighted Modes, NN Surrogate find minimum\")\n",
    "plt.xlabel(\"l mode\")\n",
    "plt.ylabel(r\"amplitude ($\\%$)\")\n",
    "plt.savefig(sys_params[\"figure_location\"]+\"/unweighted_modes_\"+str(iex)+\"nn\" + sys_params[\"plot_file_type\"], dpi=300, bbox_inches='tight')"
   ]
  },
  {
   "cell_type": "code",
   "execution_count": null,
   "id": "c570542d-cff2-4c05-8657-b38c63ed3956",
   "metadata": {},
   "outputs": [],
   "source": [
    "dataset_params, facility_spec = tdg.define_dataset_params(num_examples)\n",
    "#print(np.shape(dataset_params[\"Y_train\"]))\n",
    "#print(np.shape(x_test_random[min_slice,:]))\n",
    "dataset_params[\"Y_train\"] = x_test_random[min_slice[:],:].T\n",
    "\n",
    "run_dir = \"Data_nn_find_min\"\n",
    "sys_params = tdg.define_system_params(run_dir)\n",
    "\n",
    "# Create new run files\n",
    "sys_params[\"run_clean\"] = False\n",
    "dataset_params = idg.create_run_files(dataset_params, sys_params, facility_spec)\n",
    "tdg.generate_training_data(dataset_params, sys_params, facility_spec)"
   ]
  },
  {
   "cell_type": "code",
   "execution_count": null,
   "id": "743da53a-4ded-4ebb-bc0d-3a389b4399a3",
   "metadata": {},
   "outputs": [],
   "source": [
    "# choose test data set\n",
    "sys_params = tdg.define_system_params(run_dir)\n",
    "\n",
    "X_all, Y_all, avg_powers_all = nrw.import_training_data_reversed(sys_params, LMAX)\n",
    "filename_trainingdata = run_dir + '/' + filename_flipped_trainingdata \n",
    "nrw.save_training_data(X_all, Y_all, avg_powers_all, filename_trainingdata)\n",
    "dataset_params, facility_spec = tdg.define_dataset_params(np.shape(X_all)[1])\n",
    "\n",
    "#mindex = np.argmin(np.mean(Y_all, axis=0))\n",
    "mindex = np.argmin(np.sqrt(np.sum(Y_all**2, axis=0)))\n",
    "print(mindex)"
   ]
  },
  {
   "cell_type": "code",
   "execution_count": null,
   "id": "a22145e0-c824-4118-b22d-0ed0d5badf94",
   "metadata": {},
   "outputs": [],
   "source": [
    "iex = 0\n",
    "with_pointing_markers = True\n",
    "\n",
    "print(dataset_params[\\\"Y_train\\\"][iex])\n",
    "\n",
    "num_examples = 1\n",
    "sys_params = tdg.define_system_params(run_dir)\n",
    "sys_params[\"run_gen_deck\"] = False\n",
    "dataset_params, facility_spec = tdg.define_dataset_params(int(num_examples))\n",
    "\n",
    "run_location = sys_params[\"root_dir\"] + \"/\" + sys_params[\"sim_dir\"] + str(iex)\n",
    "intensity_map = nrw.read_intensity(run_location, dataset_params[\"imap_nside\"], facility_spec['target_radius'])"
   ]
  },
  {
   "cell_type": "code",
   "execution_count": null,
   "id": "63ea36c0-e1c7-451c-873c-cd4ae220d186",
   "metadata": {},
   "outputs": [],
   "source": [
    "LMAX = dataset_params[\"LMAX\"]\n",
    "power_spectrum_unweighted, power_spectrum_weighted = uim.power_spectrum(intensity_map, LMAX)\n",
    "x_max = LMAX\n",
    "\n",
    "fig = plt.figure()\n",
    "ax = plt.axes()\n",
    "plt.plot(np.arange(LMAX), y_pred[:,min_slice[iex]] * 100.0)\n",
    "ax.set_xticks(range(0, LMAX+1, int(LMAX/5)))\n",
    "plt.title(\"Unweighted Modes, NN Surrogate find Minimum\")\n",
    "plt.xlabel(\"l mode\")\n",
    "plt.ylabel(r\"amplitude ($\\%$)\")\n",
    "plt.savefig(sys_params[\"figure_location\"]+\"/unweighted_modes_\"+str(iex)+\"nn_min_guess\" + sys_params[\"plot_file_type\"], dpi=300, bbox_inches='tight')\n",
    "\n",
    "fig = plt.figure()\n",
    "ax = plt.axes()\n",
    "plt.plot(np.arange(LMAX), power_spectrum_unweighted * 100.0)\n",
    "ax.set_xticks(range(0, LMAX+1, int(LMAX/5)))\n",
    "plt.xlim([0, x_max])\n",
    "plt.title(\"Unweighted Modes\")\n",
    "plt.xlabel(\"l mode\")\n",
    "plt.ylabel(r\"amplitude ($\\%$)\")\n",
    "plt.savefig(sys_params[\"figure_location\"]+\"/unweighted_modes_\"+str(iex)+\"ifriit\" + sys_params[\"plot_file_type\"], dpi=300, bbox_inches='tight')\n",
    "\n",
    "fig = plt.figure()\n",
    "ax = plt.axes()\n",
    "plt.plot(np.arange(LMAX), power_spectrum_weighted * 100.0)\n",
    "ax.set_xticks(range(0, LMAX+1, int(LMAX/5)))\n",
    "plt.xlim([0, x_max])\n",
    "plt.title(\"Weighted Modes\")\n",
    "plt.xlabel(\"l mode\")\n",
    "plt.ylabel(r\"amplitude ($\\%$)\")\n",
    "plt.savefig(sys_params[\"figure_location\"]+\"/weighted_modes\" + sys_params[\"plot_file_type\"], dpi=300, bbox_inches='tight')"
   ]
  }
 ],
 "metadata": {
  "kernelspec": {
   "display_name": "Python 3 (ipykernel)",
   "language": "python",
   "name": "python3"
  },
  "language_info": {
   "codemirror_mode": {
    "name": "ipython",
    "version": 3
   },
   "file_extension": ".py",
   "mimetype": "text/x-python",
   "name": "python",
   "nbconvert_exporter": "python",
   "pygments_lexer": "ipython3",
   "version": "3.10.6"
  }
 },
 "nbformat": 4,
 "nbformat_minor": 5
}
