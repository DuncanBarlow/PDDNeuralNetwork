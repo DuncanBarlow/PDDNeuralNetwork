{
 "cells": [
  {
   "cell_type": "code",
   "execution_count": null,
   "id": "b863d24e-b776-41dc-863a-e90704820070",
   "metadata": {
    "tags": []
   },
   "outputs": [],
   "source": [
    "import numpy as np\n",
    "import training_data_generation as tdg\n",
    "import matplotlib.pyplot as plt\n",
    "import matplotlib as mpl\n",
    "\n",
    "%matplotlib inline\n",
    "plt.ion();\n",
    "\n",
    "#plt.style.use('classic')\n",
    "fontsize=22\n",
    "params = {\n",
    "  'font.size' : fontsize,\n",
    "  #'axes.titlesize' : fontsize,\n",
    "  #'axes.labelsize': fontsize,\n",
    "  #'legend.fontsize': fontsize,\n",
    "  #'xtick.labelsize': fontsize,\n",
    "  #'ytick.labelsize': fontsize,\n",
    "  'text.usetex': True,\n",
    "  'axes.unicode_minus': True}\n",
    "plt.rcParams.update(params)\n",
    "plt.rc('font', **{'family':'serif', 'serif':['Computer Modern Roman'],\n",
    "                        'monospace': ['Computer Modern Typewriter']})"
   ]
  },
  {
   "cell_type": "code",
   "execution_count": null,
   "id": "8552ee3c-2454-4a5d-bfd9-b19d904bd7c8",
   "metadata": {
    "tags": []
   },
   "outputs": [],
   "source": [
    "import healpy as hp\n",
    "import utils_intensity_map as uim\n",
    "import utils_deck_generation as idg\n",
    "import netcdf_read_write as nrw\n",
    "import training_data_generation as tdg\n",
    "import utils_healpy as uhp\n",
    "import os\n",
    "%matplotlib inline\n",
    "np_complex = np.vectorize(complex)"
   ]
  },
  {
   "cell_type": "code",
   "execution_count": null,
   "id": "6b87c0af-cbb7-4fb3-b293-d367ceb0b621",
   "metadata": {
    "tags": []
   },
   "outputs": [],
   "source": [
    "num_comparisons = 2\n",
    "\n",
    "diag_dir = [None] * num_comparisons\n",
    "iex = [None] * num_comparisons\n",
    "sys_params = [None] * num_comparisons\n",
    "run_location = [None] * num_comparisons"
   ]
  },
  {
   "cell_type": "code",
   "execution_count": null,
   "id": "fefa110d-1129-4dad-8229-7926b29c46c1",
   "metadata": {
    "tags": []
   },
   "outputs": [],
   "source": [
    "plot_labels = [\"N190204_003\",\"Optimized beam parameters\"]\n",
    "max_mode = 25\n",
    "modes_xlabel = \"l mode\"\n",
    "modes_ylabel = r\"Mode amplitude ($\\%$)\""
   ]
  },
  {
   "cell_type": "code",
   "execution_count": null,
   "id": "f59be851-a06d-4acb-a263-42a64be51836",
   "metadata": {
    "tags": []
   },
   "outputs": [],
   "source": [
    "diag_dir[0] = \"Data_230802a_N190204_003_4ns_1_3_weighting\"\n",
    "iex[0] = 0\n",
    "sys_params[0] = tdg.define_system_params(diag_dir[0])\n",
    "run_location[0] = sys_params[0][\"root_dir\"] + \"/\" + sys_params[0][\"sim_dir\"] + str(iex[0])\n",
    "\n",
    "diag_dir[1] = \"Data_230802a_N190204_003_4ns_1_3_weighting\"\n",
    "iex[1] = \"517_scaled_new\"\n",
    "sys_params[1] = tdg.define_system_params(diag_dir[1])\n",
    "run_location[1] = sys_params[1][\"root_dir\"] + \"/\" + sys_params[1][\"sim_dir\"] + str(iex[1])\n",
    "\n",
    "with_pointing_markers = True\n",
    "import_flipped = False\n",
    "old_format = True\n",
    "display_steradians = False"
   ]
  },
  {
   "cell_type": "markdown",
   "id": "093fb712-9c4d-4469-978f-f3f92bc8e102",
   "metadata": {},
   "source": [
    "## Initial intensity modes"
   ]
  },
  {
   "cell_type": "code",
   "execution_count": null,
   "id": "a4cee31e-bf1b-4de8-94a8-30bca18494ab",
   "metadata": {
    "tags": []
   },
   "outputs": [],
   "source": [
    "dataset_params = [None] * num_comparisons\n",
    "facility_spec = [None] * num_comparisons\n",
    "intensity_map_sr = [None] * num_comparisons\n",
    "intensity_map = [None] * num_comparisons\n",
    "parameters = [None] * num_comparisons\n",
    "intensity_map_normalized = [None] * num_comparisons\n",
    "avg_flux = [None] * num_comparisons\n",
    "rms = [None] * num_comparisons\n",
    "power_spectrum_unweighted = [None] * num_comparisons\n"
   ]
  },
  {
   "cell_type": "code",
   "execution_count": null,
   "id": "2e35f290-aed4-4037-9fb1-b8a297b03a65",
   "metadata": {
    "tags": []
   },
   "outputs": [],
   "source": [
    "for ind in range(num_comparisons):\n",
    "    num_examples = 1\n",
    "    sys_params[ind][\"run_gen_deck\"] = False\n",
    "\n",
    "    if old_format:\n",
    "        dataset_params[ind], facility_spec[ind] = tdg.define_dataset_params(int(num_examples))\n",
    "    else:\n",
    "        dataset_params[ind] = nrw.read_general_netcdf(diag_dir[ind] + \"/\" + sys_params[ind][\"dataset_params_filename\"])\n",
    "        facility_spec[ind] = nrw.read_general_netcdf(diag_dir[ind] + \"/\" + sys_params[ind][\"facility_spec_filename\"])\n",
    "    dataset_params[ind][\"num_examples\"] = num_examples\n",
    "\n",
    "    if old_format:\n",
    "        intensity_map_sr[ind] = nrw.read_intensity(run_location[ind], dataset_params[ind][\"imap_nside\"], facility_spec[ind]['target_radius'])\n",
    "        # convert from W/sr to W/cm**2\n",
    "        intensity_map[ind] = intensity_map_sr[ind] / (facility_spec[ind]['target_radius'] / 10000.0)**2\n",
    "    else:\n",
    "        parameters[ind] = nrw.read_general_netcdf(run_location[ind] + \"/\" + sys_params[ind][\"ifriit_ouput_name\"])\n",
    "        intensity_map[ind] = parameters[ind][\"intensity\"]\n",
    "        # convert from W/cm**2 to W/sr\n",
    "        intensity_map_sr[ind] = parameters[ind][\"intensity\"] * (facility_spec[ind]['target_radius'] / 10000.0)**2\n",
    "\n",
    "    intensity_map_normalized[ind], avg_flux[ind] = uim.imap_norm(intensity_map[ind])\n",
    "    rms[ind] = uim.extract_rms(intensity_map_normalized[ind])\n",
    "    \n",
    "    LMAX = dataset_params[ind][\"LMAX\"]\n",
    "    power_spectrum_unweighted[ind] = uhp.power_spectrum(intensity_map[ind], LMAX)\n"
   ]
  },
  {
   "cell_type": "code",
   "execution_count": null,
   "id": "5d4a5057-c241-48cf-bc71-11ffcb2bf7ad",
   "metadata": {
    "tags": []
   },
   "outputs": [],
   "source": [
    "aspc = 1.2\n",
    "fig1 = plt.figure(num=1, figsize=(6*aspc,6), facecolor='white')\n",
    "\n",
    "nside = 64\n",
    "npix = hp.nside2npix(nside)\n",
    "#vec = hp.ang2vec(np.pi, np.pi * 3 / 4)\n",
    "vec = hp.ang2vec(np.pi/2, np.pi * 1/2)\n",
    "ipix_disc = hp.query_disc(nside=nside, vec=vec, radius=np.radians(90))\n",
    "masked_intensity_map = intensity_map[0]\n",
    "masked_intensity_map[ipix_disc] = intensity_map[1][ipix_disc]\n",
    "\n",
    "projection = hp.mollview(masked_intensity_map, unit=r\"$\\rm{W/cm^2}$\", title=\"\", flip=\"geo\", return_projected_map=True)\n",
    "hp.graticule()"
   ]
  },
  {
   "cell_type": "code",
   "execution_count": null,
   "id": "a45739ed-6b98-4a30-95d7-20ef1446b93d",
   "metadata": {
    "tags": []
   },
   "outputs": [],
   "source": [
    "\n",
    "aspc = 2.0\n",
    "fig2 = plt.figure(num=2, figsize=(6*aspc,6), facecolor='white')\n",
    "ax2 = fig2.add_axes([0.15, 0.14, 0.55, 0.6])\n",
    "cax1 = fig2.add_axes([0.75, 0.14, 0.02, 0.6])\n",
    "\n",
    "cmesh = ax2.pcolormesh(projection, linewidth=0, rasterized=True)\n",
    "cbar = fig2.colorbar(cmesh, ax=[ax2], cax=cax1)\n",
    "ax2.axis('off')\n",
    "\n",
    "cbar.set_label(\"Intensity\" + r\" $(W/cm^2)$\")\n",
    "fig2.savefig(sys_params[0][\"figure_location\"]+\"/init_mollweide\" + sys_params[0][\"plot_file_type\"], dpi=300, bbox_inches='tight')\n"
   ]
  },
  {
   "cell_type": "code",
   "execution_count": null,
   "id": "2fd929a6-6590-4f5b-bfaf-38f91b7b3b5b",
   "metadata": {
    "tags": []
   },
   "outputs": [],
   "source": [
    "aspc = 1.2\n",
    "fig1 = plt.figure(num=1, figsize=(6*aspc,5), facecolor='white')\n",
    "ax1 = fig1.add_axes([0.15, 0.14, 0.8, 0.8])\n",
    "\n",
    "for ind in range(num_comparisons):\n",
    "    ax1.plot(np.arange(LMAX), power_spectrum_unweighted[ind] * 100.0, linewidth=3)\n",
    "\n",
    "ax1.set_xticks(range(0, max_mode+1, 5))\n",
    "ax1.yaxis.set_major_formatter(mpl.ticker.FormatStrFormatter('%.1f'))\n",
    "ax1.set_xlim([0, max_mode])\n",
    "ax1.set_xlabel(modes_xlabel)\n",
    "ax1.set_ylabel(modes_ylabel)\n",
    "ax1.legend([plot_labels[0],plot_labels[1]])\n",
    "fig1.savefig(sys_params[0][\"figure_location\"]+\"/init_modes\" + sys_params[0][\"plot_file_type\"], dpi=300, bbox_inches='tight')"
   ]
  },
  {
   "cell_type": "markdown",
   "id": "5a6873f4-df20-4e5f-91ec-8414af68cceb",
   "metadata": {
    "tags": []
   },
   "source": [
    "## Pressure modes"
   ]
  },
  {
   "cell_type": "code",
   "execution_count": null,
   "id": "dcb7abea-0d3c-404c-9069-fc8b10bf28b5",
   "metadata": {
    "tags": []
   },
   "outputs": [],
   "source": [
    "hs_and_modes = [None] * num_comparisons\n",
    "avg_flux = [None] * num_comparisons\n",
    "X_train_complex = [None] * num_comparisons\n",
    "intensity_map_normalized = [None] * num_comparisons\n",
    "power_spectrum = [None] * num_comparisons\n",
    "\n",
    "LMAX = dataset_params[0][\"LMAX\"]"
   ]
  },
  {
   "cell_type": "code",
   "execution_count": null,
   "id": "61914567-b584-4490-9f06-e69c01fe31b2",
   "metadata": {
    "tags": []
   },
   "outputs": [],
   "source": [
    "for ind in range(num_comparisons):\n",
    "    file_name = sys_params[ind][\"heat_source_nc\"]\n",
    "    hs_and_modes[ind] = nrw.read_general_netcdf(run_location[ind]+\"/\"+file_name)\n",
    "\n",
    "    if old_format:\n",
    "        dataset_params[ind], facility_spec[ind] = tdg.define_dataset_params(int(num_examples))\n",
    "    else:\n",
    "        dataset_params[ind] = nrw.read_general_netcdf(diag_dir[ind] + \"/\" + sys_params[ind][\"dataset_params_filename\"])\n",
    "        facility_spec[ind] = nrw.read_general_netcdf(diag_dir[ind] + \"/\" + sys_params[ind][\"facility_spec_filename\"])\n",
    "\n",
    "    avg_flux[ind] = hs_and_modes[ind][\"average_flux\"][0]\n",
    "    \n",
    "    X_train_complex[ind] = np_complex(hs_and_modes[ind][\"complex_modes\"][0,:], hs_and_modes[ind][\"complex_modes\"][1,:])\n",
    "\n",
    "    intensity_map_normalized[ind] = hp.alm2map(X_train_complex[ind], LMAX)\n",
    "\n",
    "    power_spectrum[ind] = uhp.alms2power_spectrum(X_train_complex[ind], LMAX)"
   ]
  },
  {
   "cell_type": "code",
   "execution_count": null,
   "id": "87b61b00-6449-4350-a339-f7ea85f34dd9",
   "metadata": {
    "tags": []
   },
   "outputs": [],
   "source": [
    "intensity_map0 = (intensity_map_normalized[0]+1)*avg_flux[0]\n",
    "intensity_map1 = (intensity_map_normalized[1]+1)*avg_flux[1]\n",
    "\n",
    "aspc = 1.2\n",
    "fig1 = plt.figure(num=1, figsize=(6*aspc,6), facecolor='white')\n",
    "\n",
    "nside = 30\n",
    "npix = hp.nside2npix(nside)\n",
    "#vec = hp.ang2vec(np.pi, np.pi * 3 / 4)\n",
    "vec = hp.ang2vec(np.pi/2, np.pi * 1/2)\n",
    "ipix_disc = hp.query_disc(nside=nside, vec=vec, radius=np.radians(90))\n",
    "masked_intensity_map = intensity_map0\n",
    "masked_intensity_map[ipix_disc] = intensity_map1[ipix_disc]\n",
    "\n",
    "projection = hp.mollview(masked_intensity_map, unit=r\"$\\rm{Mbar}$\", title=\"\", flip=\"geo\", return_projected_map=True)\n",
    "hp.graticule()\n"
   ]
  },
  {
   "cell_type": "code",
   "execution_count": null,
   "id": "3c7ea379-e966-458f-9841-7d7d40ea56da",
   "metadata": {
    "tags": []
   },
   "outputs": [],
   "source": [
    "\n",
    "aspc = 2.0\n",
    "fig2 = plt.figure(num=2, figsize=(6*aspc,6), facecolor='white')\n",
    "ax2 = fig2.add_axes([0.15, 0.14, 0.55, 0.6])\n",
    "cax1 = fig2.add_axes([0.75, 0.14, 0.02, 0.6])\n",
    "\n",
    "cmesh = ax2.pcolormesh(projection, linewidth=0, rasterized=True)\n",
    "cbar = fig2.colorbar(cmesh, ax=[ax2], cax=cax1)\n",
    "ax2.axis('off')\n",
    "\n",
    "cbar.set_label(\"Pressure \" + r\"$(\\rm{Mbar}$)\")\n",
    "fig2.savefig(sys_params[0][\"figure_location\"]+\"/pressure_mollweide\" + sys_params[0][\"plot_file_type\"], dpi=300, bbox_inches='tight')\n"
   ]
  },
  {
   "cell_type": "code",
   "execution_count": null,
   "id": "380c8d17-8061-4771-b764-3aa08b312324",
   "metadata": {
    "tags": []
   },
   "outputs": [],
   "source": [
    "aspc = 1.2\n",
    "fig2 = plt.figure(num=2, figsize=(6*aspc,5), facecolor='white')\n",
    "ax2 = fig2.add_axes([0.15, 0.14, 0.8, 0.8])\n",
    "\n",
    "for ind in range(num_comparisons):\n",
    "    ax2.plot(np.arange(LMAX), np.sqrt(power_spectrum[ind]) * 100.0, linewidth=3)\n",
    "\n",
    "ax2.set_xticks(range(0, max_mode+1, 5))\n",
    "ax2.set_xlim([0, max_mode])\n",
    "ax2.set_xlabel(modes_xlabel)\n",
    "ax2.set_ylabel(modes_ylabel)\n",
    "ax2.legend([plot_labels[0],plot_labels[1]])\n",
    "fig2.savefig(sys_params[0][\"figure_location\"]+\"/ablation_pressure_modes\" + sys_params[0][\"plot_file_type\"], dpi=300, bbox_inches='tight')"
   ]
  },
  {
   "cell_type": "markdown",
   "id": "c91d87d4-21bf-4541-a8d1-070dfac1c186",
   "metadata": {},
   "source": [
    "## Areal density modes"
   ]
  },
  {
   "cell_type": "code",
   "execution_count": null,
   "id": "a5e926d6-130a-438a-8d73-1a8505043296",
   "metadata": {
    "tags": []
   },
   "outputs": [],
   "source": [
    "from netCDF4 import Dataset\n",
    "import numpy as np\n",
    "from scipy.interpolate import griddata\n",
    "import matplotlib.ticker as mticker\n",
    "import copy"
   ]
  },
  {
   "cell_type": "code",
   "execution_count": null,
   "id": "c05faadc-d4fa-41df-9bec-496dea666855",
   "metadata": {
    "tags": []
   },
   "outputs": [],
   "source": [
    "dataset_dict = {}\n",
    "#dataset_names = [\"N190204_003_cbet\", \"Optimized_517_rescaled\"]\n",
    "dataset_names = [\"/mnt/local/dbarlow/solid_target/2305a_fixed_defocus/230601a_N190204_003_cbet/picked_data\",\n",
    "                 \"/mnt/local/dbarlow/solid_target/2305a_fixed_defocus/2307c_new_laser_pulses_for_hydro/time_varying_pulse_input_deck_rescaled\"]\n",
    "num_datasets = len(dataset_names)\n",
    "\n",
    "plot_time = [10.0] #ns\n",
    "num_times = len(plot_time)\n",
    "time_index_offset = 0"
   ]
  },
  {
   "cell_type": "code",
   "execution_count": null,
   "id": "3fe4ff6c-377e-47a4-a304-43fbb32b6c8a",
   "metadata": {
    "tags": []
   },
   "outputs": [],
   "source": [
    "for dir_name in dataset_names:\n",
    "    nc = Dataset(dir_name + \"/\" + 'dump31_1davg.nc')\n",
    "    data = nc.groups['data']\n",
    "\n",
    "    dataset_dict[dir_name] = {}\n",
    "\n",
    "    dataset_dict[dir_name][\"time\"] = data.variables[\"time\"][:]\n",
    "    dataset_dict[dir_name][\"x1c\"]  = data.variables[\"x1c\"][:,:]\n",
    "    dens = data.variables[\"dens\"][:,:]\n",
    "    te = data.variables[\"Te\"][:,:]\n",
    "    dataset_dict[dir_name][\"lm\"] = data.variables[\"lm\"][:,:]\n",
    "    dataset_dict[dir_name][\"sph\"] = data.variables[\"sph\"][:,:]\n",
    "    dataset_dict[dir_name][\"Pe\"] = data.variables[\"Pe\"][:,:]\n",
    "    dataset_dict[dir_name][\"Pi\"] = data.variables[\"Pi\"][:,:]\n",
    "\n",
    "    nc.close()\n",
    "\n",
    "    dataset_dict[dir_name][\"lm\"][:,0] = 0.0\n",
    "    dataset_dict[dir_name][\"average_rhor\"] = copy.copy(dataset_dict[dir_name][\"sph\"][:,0])\n",
    "    dataset_dict[dir_name][\"sph\"][:,0] = 0.0\n",
    "\n",
    "    dataset_dict[dir_name][\"plot_time_index\"] = np.array([0]*num_times)\n",
    "\n",
    "    for ind in range(num_times):\n",
    "        dataset_dict[dir_name][\"plot_time_index\"][ind] = np.argmin(np.abs(dataset_dict[dir_name][\"time\"] - plot_time[ind]))\n",
    "        print(plot_time[ind], dataset_dict[dir_name][\"plot_time_index\"][ind])\n",
    "        print(np.max(dataset_dict[dir_name][\"Pe\"][ind,:]), np.max(dataset_dict[dir_name][\"Pi\"][ind,:]))\n"
   ]
  },
  {
   "cell_type": "code",
   "execution_count": null,
   "id": "10a9e33f-97f4-4dd5-96b2-97d53a2d6626",
   "metadata": {
    "tags": []
   },
   "outputs": [],
   "source": [
    "max_rhor = np.zeros((num_datasets))\n",
    "counter = 0\n",
    "\n",
    "for ind in range(num_times): \n",
    "    aspc = 1.2\n",
    "    fig3 = plt.figure(num=1, figsize=(6*aspc,5), facecolor='white')\n",
    "    ax3 = fig3.add_axes([0.15, 0.14, 0.8, 0.8])\n",
    "    fig4 = plt.figure()\n",
    "    ax4 = fig4.add_subplot(111)\n",
    "\n",
    "    for dir_name in dataset_names:\n",
    "        ind_rhor = dataset_dict[dir_name][\"plot_time_index\"][ind]\n",
    "        print(ind_rhor)\n",
    "        time = dataset_dict[dir_name][\"time\"]\n",
    "        average_rhor = dataset_dict[dir_name][\"average_rhor\"]\n",
    "        sph = dataset_dict[dir_name][\"sph\"]\n",
    "        lm = dataset_dict[dir_name][\"lm\"]\n",
    "        print(\"The average areal density at time \", time[ind_rhor], \"ns is \", average_rhor[ind_rhor])\n",
    "\n",
    "        ax3.plot(lm[ind_rhor,:], 100*sph[ind_rhor,:]/average_rhor[ind_rhor], linewidth=3)\n",
    "        max_rhor[counter] = 100*max(sph[ind_rhor,:max_mode]/average_rhor[ind_rhor])\n",
    "        print(np.argmax(sph[ind_rhor,:]/average_rhor[ind_rhor]))\n",
    "\n",
    "        # plot pressure to check timing\n",
    "        Pi = dataset_dict[dir_name][\"Pi\"]\n",
    "        Pe = dataset_dict[dir_name][\"Pe\"]\n",
    "        x1c = dataset_dict[dir_name][\"x1c\"]\n",
    "        total_pressure = (Pi[ind_rhor,:] + Pe[ind_rhor,:]) / 1.0e12 # Convert to Mbar, Check!!\n",
    "        ax4.plot(x1c[ind_rhor,:], total_pressure)\n",
    "        counter += 1\n",
    "\n",
    "    ax3.set_xticks(range(0, max_mode+1, 5))\n",
    "    ax3.set_ylim(0, np.max(max_rhor)*1.1)\n",
    "    ax3.set_xlim([0, max_mode])\n",
    "    ax3.set_xlabel(modes_xlabel)\n",
    "    ax3.set_ylabel(modes_ylabel)\n",
    "    ax3.legend([plot_labels[0],plot_labels[1]])\n",
    "\n",
    "    fig3.savefig(\"plots/rms_rhoR_at_t_\"+str(int(time[ind_rhor]))+\"ns.pdf\")\n",
    "    fig4.savefig(\"plots/pressure_at_t_\"+str(int(time[ind_rhor]))+\"ns.pdf\")"
   ]
  },
  {
   "cell_type": "markdown",
   "id": "21877ff0-0334-4d77-bdd6-5c4ff039ff59",
   "metadata": {},
   "source": [
    "## Density plot and gated X-ray"
   ]
  },
  {
   "cell_type": "code",
   "execution_count": null,
   "id": "8de148c9-e0a4-4811-b240-f8ddb93b9eda",
   "metadata": {
    "tags": []
   },
   "outputs": [],
   "source": [
    "num_comparison = 2\n",
    "\n",
    "path = [None] * num_comparison\n",
    "filename = [None] * num_comparison\n",
    "mesh_x = [None] * num_comparison\n",
    "mesh_y = [None] * num_comparison\n",
    "var_data = [None] * num_comparison\n",
    "time = [None] * num_comparison\n",
    "cmesh = [None] * num_comparison\n",
    "\n",
    "path[0] = \"/mnt/local/dbarlow/solid_target/2305a_fixed_defocus/2307c_new_laser_pulses_for_hydro/time_varying_pulse_input_deck_rescaled/2d_slices\"\n",
    "filename[0] = \"dens2d_10001\"#'dens2d_00058.img' \n",
    "path[1] = \"/mnt/local/dbarlow/solid_target/2305a_fixed_defocus/230601a_N190204_003_cbet/all_data/2d_slices\"\n",
    "filename[1] = \"dens2d_10001\"#'dens2d_00058.img'"
   ]
  },
  {
   "cell_type": "code",
   "execution_count": null,
   "id": "06c2b616-b2db-44d0-aa55-e3d5c20841d7",
   "metadata": {
    "tags": []
   },
   "outputs": [],
   "source": [
    "for ind in range(num_comparison):\n",
    "    with open(path[ind] + \"/\" + filename[ind] + \".bov\") as f:\n",
    "        for line in f:\n",
    "            if \"TIME\" in line:\n",
    "                time[ind] = int(float(line.split(\" \")[1][:-1]))\n",
    "            if \"VARIABLE\" in line:\n",
    "                var_name = line.split(\" \")[1][:-1]\n",
    "            if \"DATA_SIZE\" in line:\n",
    "                #print(line.split(\" \"))\n",
    "                x_ncells = int(line.split(\" \")[1])\n",
    "                y_ncells = int(line.split(\" \")[2])\n",
    "                print(x_ncells, y_ncells)\n",
    "            if \"BRICK_ORIGIN\" in line:\n",
    "                #print(line.split(\" \"))\n",
    "                xmin = float(line.split(\" \")[1])\n",
    "                ymin = float(line.split(\" \")[2])\n",
    "                print(xmin, ymin)\n",
    "            if \"BRICK_SIZE\" in line:\n",
    "                #print(line.split(\" \"))\n",
    "                xextent = float(line.split(\" \")[2])\n",
    "                yextent = float(line.split(\" \")[4])\n",
    "    xmax = xextent + xmin\n",
    "    x = np.linspace(xmin, xmax, x_ncells)\n",
    "    ymax = yextent + ymin\n",
    "    y = np.linspace(ymin, ymax, y_ncells)\n",
    "\n",
    "    mesh_x[ind], mesh_y[ind] = np.meshgrid(x, y)\n",
    "\n",
    "    with open(path[ind] + \"/\" + filename[ind] + \".img\", \"rb\") as f:\n",
    "        # Seek backwards from end of file by 2 bytes per pixel \n",
    "        f.seek(-x_ncells*y_ncells*4, 2)\n",
    "        var_data[ind] = np.fromfile(f, dtype=np.single).reshape((x_ncells, y_ncells))"
   ]
  },
  {
   "cell_type": "code",
   "execution_count": null,
   "id": "c57def37-0213-4502-b6e4-fc6a219b8de6",
   "metadata": {
    "tags": []
   },
   "outputs": [],
   "source": [
    "cut_ind = 400\n",
    "combined_var_data = np.zeros((np.shape(var_data[0])))\n",
    "combined_var_data[:,:cut_ind] = var_data[0][:,:cut_ind]\n",
    "combined_var_data[:,cut_ind:] = var_data[1][:,cut_ind:]\n",
    "\n",
    "aspc = 1.2\n",
    "fig1 = plt.figure(num=1, figsize=(6*aspc,6), facecolor='white')\n",
    "ax1 = fig1.add_axes([0.15, 0.14, 0.6, 0.6])\n",
    "ax1.set_aspect('equal', adjustable='box')\n",
    "cax1 = fig1.add_axes([0.8, 0.14, 0.05, 0.6])\n",
    "\n",
    "cmesh = ax1.pcolormesh(mesh_x[ind], mesh_y[ind], combined_var_data, linewidth=0, rasterized=True)\n",
    "ax1.plot([0,0],[ymin,ymax],\"k\", linewidth=0.5)\n",
    "cbar = fig1.colorbar(cmesh, ax=[ax1], cax=cax1)\n",
    "\n",
    "ax1.set_xlabel(r\"Distance $(\\mu m)$\")\n",
    "ax1.set_ylabel(r\"Distance $(\\mu m)$\")\n",
    "cbar.set_label(var_name + r\" $(g/cm^3)$\")\n",
    "fig1.savefig(\"plots/density_comparison_\"+str(int(time[0]))+\"ns.pdf\")\n"
   ]
  },
  {
   "cell_type": "code",
   "execution_count": null,
   "id": "8ee95812-2b4f-4314-bad7-7c4122dbac4a",
   "metadata": {},
   "outputs": [],
   "source": []
  }
 ],
 "metadata": {
  "kernelspec": {
   "display_name": "Python 3 (ipykernel)",
   "language": "python",
   "name": "python3"
  },
  "language_info": {
   "codemirror_mode": {
    "name": "ipython",
    "version": 3
   },
   "file_extension": ".py",
   "mimetype": "text/x-python",
   "name": "python",
   "nbconvert_exporter": "python",
   "pygments_lexer": "ipython3",
   "version": "3.10.9"
  }
 },
 "nbformat": 4,
 "nbformat_minor": 5
}
